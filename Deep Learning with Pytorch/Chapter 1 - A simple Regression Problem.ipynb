{
 "cells": [
  {
   "cell_type": "code",
   "execution_count": 72,
   "metadata": {},
   "outputs": [],
   "source": [
    "import numpy as np\n",
    "from sklearn.linear_model import LinearRegression\n",
    "from tqdm.notebook import tqdm\n",
    "import torch\n",
    "import torch.nn as nn\n",
    "import torch.optim as optim\n",
    "from torchviz import make_dot"
   ]
  },
  {
   "cell_type": "code",
   "execution_count": 73,
   "metadata": {},
   "outputs": [],
   "source": [
    "# Data Generation\n",
    "N=100\n",
    "true_w=2\n",
    "true_b=1\n",
    "np.random.seed(42) \n",
    "epsilon=0.1*np.random.randn(N,1)\n",
    "x=np.random.randn(N,1)\n",
    "y=true_w*x+true_b+epsilon\n",
    "\n",
    "idx=np.arange(N)\n",
    "np.random.shuffle(idx)\n",
    "train_idx=idx[:int(N*0.8)]\n",
    "valid_idx=idx[int(N*0.8):]\n",
    "\n",
    "X_train,y_train=x[train_idx],y[train_idx]\n",
    "X_valid,y_valid=x[valid_idx],y[valid_idx]"
   ]
  },
  {
   "cell_type": "code",
   "execution_count": 74,
   "metadata": {},
   "outputs": [
    {
     "name": "stdout",
     "output_type": "stream",
     "text": [
      "[-0.1382643] [0.49671415]\n"
     ]
    },
    {
     "data": {
      "application/vnd.jupyter.widget-view+json": {
       "model_id": "2142d485a7ea4066a003f4ad2421d0a2",
       "version_major": 2,
       "version_minor": 0
      },
      "text/plain": [
       "  0%|          | 0/100 [00:00<?, ?it/s]"
      ]
     },
     "metadata": {},
     "output_type": "display_data"
    },
    {
     "name": "stdout",
     "output_type": "stream",
     "text": [
      "b: 0.995365,\tw: 1.984952\n"
     ]
    }
   ],
   "source": [
    "# step 0: Random nitiation of parameters\n",
    "np.random.seed(42)\n",
    "w=np.random.randn(1)\n",
    "b=np.random.randn(1)\n",
    "\n",
    "print(b,w)\n",
    "\n",
    "# Initialization of Hyperparameters\n",
    "lr=0.1\n",
    "n_epochs=100\n",
    "\n",
    "# step 1: Forward pass\n",
    "for epoch in tqdm(range(n_epochs)):\n",
    "    y_hat=w*X_train+b\n",
    "\n",
    "# step 2: Computing Loss \n",
    "    loss=np.mean(np.square(y_train-y_hat))\n",
    "    \n",
    "# step 3: Computing Gradient\n",
    "    b_grad=2*np.mean(y_hat-y_train)\n",
    "    w_grad=2*np.mean(X_train*(y_hat-y_train))\n",
    "\n",
    "# step 4: Updating Parameters\n",
    "    b=b-lr*b_grad\n",
    "    w=w-lr*w_grad\n",
    "\n",
    "\n",
    "print(f\"b: {np.round(b[0],6)},\\tw: {np.round(w[0],6)}\")\n",
    "\n"
   ]
  }
 ],
 "metadata": {
  "kernelspec": {
   "display_name": "mleng",
   "language": "python",
   "name": "python3"
  },
  "language_info": {
   "codemirror_mode": {
    "name": "ipython",
    "version": 3
   },
   "file_extension": ".py",
   "mimetype": "text/x-python",
   "name": "python",
   "nbconvert_exporter": "python",
   "pygments_lexer": "ipython3",
   "version": "3.10.13"
  }
 },
 "nbformat": 4,
 "nbformat_minor": 2
}
