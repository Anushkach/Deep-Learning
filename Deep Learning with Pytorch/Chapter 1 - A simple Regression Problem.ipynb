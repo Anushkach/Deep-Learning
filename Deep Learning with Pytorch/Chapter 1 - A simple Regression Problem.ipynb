{
 "cells": [
  {
   "cell_type": "markdown",
   "metadata": {},
   "source": [
    "## Linear Regression"
   ]
  },
  {
   "cell_type": "code",
   "execution_count": 307,
   "metadata": {},
   "outputs": [],
   "source": [
    "import numpy as np\n",
    "from sklearn.linear_model import LinearRegression\n",
    "from tqdm.notebook import tqdm\n",
    "import torch\n",
    "import torch.nn as nn\n",
    "import torch.optim as optim\n",
    "from torchviz import make_dot"
   ]
  },
  {
   "cell_type": "code",
   "execution_count": 308,
   "metadata": {},
   "outputs": [],
   "source": [
    "# Data Generation\n",
    "N=100\n",
    "true_w=2\n",
    "true_b=1\n",
    "np.random.seed(42) \n",
    "epsilon=0.1*np.random.randn(N,1)\n",
    "x=np.random.randn(N,1)\n",
    "y=true_w*x+true_b+epsilon\n",
    "\n",
    "idx=np.arange(N)\n",
    "np.random.shuffle(idx)\n",
    "train_idx=idx[:int(N*0.8)]\n",
    "valid_idx=idx[int(N*0.8):]\n",
    "\n",
    "X_train,y_train=x[train_idx],y[train_idx]\n",
    "X_valid,y_valid=x[valid_idx],y[valid_idx]"
   ]
  },
  {
   "cell_type": "code",
   "execution_count": 309,
   "metadata": {},
   "outputs": [
    {
     "name": "stdout",
     "output_type": "stream",
     "text": [
      "[-0.1382643] [0.49671415]\n"
     ]
    },
    {
     "data": {
      "application/vnd.jupyter.widget-view+json": {
       "model_id": "7e5c07daec8544e1b660f9de38d5cd36",
       "version_major": 2,
       "version_minor": 0
      },
      "text/plain": [
       "  0%|          | 0/100 [00:00<?, ?it/s]"
      ]
     },
     "metadata": {},
     "output_type": "display_data"
    },
    {
     "name": "stdout",
     "output_type": "stream",
     "text": [
      "b: 0.9953649757559992,\tw: 1.9849522275624543\n"
     ]
    }
   ],
   "source": [
    "# step 0: Random nitiation of parameters\n",
    "np.random.seed(42)\n",
    "w=np.random.randn(1)\n",
    "b=np.random.randn(1)\n",
    "\n",
    "print(b,w)\n",
    "\n",
    "# Initialization of Hyperparameters\n",
    "lr=0.1\n",
    "n_epochs=100\n",
    "# step 1: Forward pass\n",
    "for epoch in tqdm(range(n_epochs)):\n",
    "    y_hat=w*X_train+b\n",
    "\n",
    "# step 2: Computing Loss \n",
    "    loss=np.mean(np.square(y_train-y_hat))\n",
    "    \n",
    "# step 3: Computing Gradient\n",
    "    b_grad=2*np.mean(y_hat-y_train)\n",
    "    w_grad=2*np.mean(X_train*(y_hat-y_train))\n",
    "\n",
    "# step 4: Updating Parameters\n",
    "    b=b-lr*b_grad\n",
    "    w=w-lr*w_grad\n",
    "\n",
    "\n",
    "print(f\"b: {b[0]},\\tw: {w[0]}\")\n",
    "\n"
   ]
  },
  {
   "cell_type": "markdown",
   "metadata": {},
   "source": [
    "### Compare coefficients"
   ]
  },
  {
   "cell_type": "code",
   "execution_count": 310,
   "metadata": {},
   "outputs": [
    {
     "name": "stdout",
     "output_type": "stream",
     "text": [
      "b:0.9953649899692825, \tw:1.9849523172037076\n"
     ]
    }
   ],
   "source": [
    "model=LinearRegression()\n",
    "model.fit(X_train,y_train)\n",
    "print(f\"b:{model.intercept_[0]}, \\tw:{model.coef_[0][0]}\")"
   ]
  },
  {
   "cell_type": "markdown",
   "metadata": {},
   "source": [
    "## PyTorch Tensors"
   ]
  },
  {
   "cell_type": "code",
   "execution_count": 311,
   "metadata": {},
   "outputs": [
    {
     "name": "stdout",
     "output_type": "stream",
     "text": [
      "scalar: 3.141590118408203,\n",
      "vector: tensor([1, 2, 3]),\n",
      "matrix: tensor([[1., 1., 1.],\n",
      "        [1., 1., 1.]]),\n",
      "tensor: tensor([[[ 0.2345,  0.2303, -1.1229],\n",
      "         [-0.1863,  2.2082, -0.6380]],\n",
      "\n",
      "        [[ 0.4617,  0.2674,  0.5349],\n",
      "         [ 0.8094,  1.1103, -1.6898]]])\n"
     ]
    }
   ],
   "source": [
    "scalar=torch.tensor(3.14159)\n",
    "vector=torch.tensor([1,2,3])\n",
    "matrix=torch.ones((2,3))\n",
    "tensor=torch.randn((2,2,3),dtype=torch.float32) # 2 2x3 tensors\n",
    "\n",
    "print(f\"scalar: {scalar},\\nvector: {vector},\\nmatrix: {matrix},\\ntensor: {tensor}\")"
   ]
  },
  {
   "cell_type": "code",
   "execution_count": 312,
   "metadata": {},
   "outputs": [
    {
     "name": "stdout",
     "output_type": "stream",
     "text": [
      "torch.Size([2, 2, 3]) torch.Size([2, 2, 3])\n"
     ]
    }
   ],
   "source": [
    "# shape of a tensor\n",
    "print(tensor.shape, tensor.size())"
   ]
  },
  {
   "cell_type": "code",
   "execution_count": 313,
   "metadata": {},
   "outputs": [
    {
     "data": {
      "text/plain": [
       "(torch.Size([]), torch.Size([]))"
      ]
     },
     "execution_count": 313,
     "metadata": {},
     "output_type": "execute_result"
    }
   ],
   "source": [
    "scalar.size(),scalar.shape # scalars have empty shape beacuse they are dimensionless"
   ]
  },
  {
   "cell_type": "markdown",
   "metadata": {},
   "source": [
    "* `view()` method returns a shape with desired shape that shares underlying data of original tensor  \n",
    "* `reshape()` method may or may not create a copy"
   ]
  },
  {
   "cell_type": "code",
   "execution_count": 314,
   "metadata": {},
   "outputs": [
    {
     "name": "stdout",
     "output_type": "stream",
     "text": [
      "tensor([[1., 5., 1.],\n",
      "        [1., 1., 1.]])\n",
      "\n",
      "tensor([[1., 5., 1., 1., 1., 1.]])\n"
     ]
    }
   ],
   "source": [
    "same_matrix=matrix.view(1,6)\n",
    "same_matrix[0,1]=5\n",
    "\n",
    "print(f\"{matrix}\\n\\n{same_matrix}\")"
   ]
  },
  {
   "cell_type": "markdown",
   "metadata": {},
   "source": [
    "`new_tensor()`, `clone()` ---> duplicate data in memory "
   ]
  },
  {
   "cell_type": "code",
   "execution_count": 315,
   "metadata": {},
   "outputs": [
    {
     "name": "stdout",
     "output_type": "stream",
     "text": [
      "tensor([[1., 5., 1.],\n",
      "        [1., 1., 1.]])\n",
      "\n",
      "tensor([[1., 7., 1., 1., 1., 1.]])\n"
     ]
    },
    {
     "name": "stderr",
     "output_type": "stream",
     "text": [
      "C:\\Users\\anush\\AppData\\Local\\Temp\\ipykernel_9684\\1908394546.py:2: UserWarning: To copy construct from a tensor, it is recommended to use sourceTensor.clone().detach() or sourceTensor.clone().detach().requires_grad_(True), rather than tensor.new_tensor(sourceTensor).\n",
      "  different_matrix=matrix.new_tensor(matrix.view(1,6))\n"
     ]
    }
   ],
   "source": [
    "# copy the tensor to new one\n",
    "different_matrix=matrix.new_tensor(matrix.view(1,6))\n",
    "different_matrix[0,1]=7\n",
    "\n",
    "print(f\"{matrix}\\n\\n{different_matrix}\")\n"
   ]
  },
  {
   "cell_type": "markdown",
   "metadata": {},
   "source": [
    "pytorch prefer **clone()** with **detach()**"
   ]
  },
  {
   "cell_type": "code",
   "execution_count": 316,
   "metadata": {},
   "outputs": [
    {
     "name": "stdout",
     "output_type": "stream",
     "text": [
      "tensor([[1., 5., 1.],\n",
      "        [1., 1., 1.]])\n",
      "\n",
      "tensor([[1., 8., 1., 1., 1., 1.]])\n"
     ]
    }
   ],
   "source": [
    "another_matrix=matrix.view(1,6).clone().detach()  # detach method remove the tensor from the computational graph\n",
    "another_matrix[0,1]=8 \n",
    "\n",
    "print(f\"{matrix}\\n\\n{another_matrix}\")"
   ]
  },
  {
   "cell_type": "markdown",
   "metadata": {},
   "source": [
    "Both `as_tensor()` and `from_numpy()` shares underlying data with original numpy array"
   ]
  },
  {
   "cell_type": "code",
   "execution_count": 317,
   "metadata": {},
   "outputs": [
    {
     "data": {
      "text/plain": [
       "(dtype('float64'), torch.float64)"
      ]
     },
     "execution_count": 317,
     "metadata": {},
     "output_type": "execute_result"
    }
   ],
   "source": [
    "X_train_tensor=torch.as_tensor(X_train)\n",
    "X_train.dtype,X_train_tensor.dtype"
   ]
  },
  {
   "cell_type": "code",
   "execution_count": 318,
   "metadata": {},
   "outputs": [
    {
     "data": {
      "text/plain": [
       "torch.float32"
      ]
     },
     "execution_count": 318,
     "metadata": {},
     "output_type": "execute_result"
    }
   ],
   "source": [
    "X_train_tensor=X_train_tensor.float() # lower precision float occupy less memory and are faster to compute\n",
    "X_train_tensor.dtype"
   ]
  },
  {
   "cell_type": "code",
   "execution_count": 319,
   "metadata": {},
   "outputs": [
    {
     "data": {
      "text/plain": [
       "tensor([1, 0, 3], dtype=torch.int32)"
      ]
     },
     "execution_count": 319,
     "metadata": {},
     "output_type": "execute_result"
    }
   ],
   "source": [
    "# experiment with the tensor\n",
    "dummy_array=np.array([1,2,3])\n",
    "dummy_tensor=torch.as_tensor(dummy_array)\n",
    "dummy_array[1]=0\n",
    "\n",
    "dummy_tensor"
   ]
  },
  {
   "cell_type": "markdown",
   "metadata": {},
   "source": [
    "`torch.tensor()` always make a copy of data"
   ]
  },
  {
   "cell_type": "code",
   "execution_count": 320,
   "metadata": {},
   "outputs": [
    {
     "data": {
      "text/plain": [
       "tensor([1, 0, 3], dtype=torch.int32)"
      ]
     },
     "execution_count": 320,
     "metadata": {},
     "output_type": "execute_result"
    }
   ],
   "source": [
    "dummy_tensor2=torch.tensor(dummy_array)\n",
    "dummy_array[1]=9\n",
    "\n",
    "dummy_tensor2"
   ]
  },
  {
   "cell_type": "markdown",
   "metadata": {},
   "source": [
    "Transform tensor to numpy array"
   ]
  },
  {
   "cell_type": "code",
   "execution_count": 321,
   "metadata": {},
   "outputs": [
    {
     "name": "stdout",
     "output_type": "stream",
     "text": [
      "[1 9 3]  --->\t<class 'numpy.ndarray'>\n"
     ]
    }
   ],
   "source": [
    "print(f'{dummy_tensor.numpy()}  --->\\t{type(dummy_tensor.numpy())}')"
   ]
  },
  {
   "cell_type": "markdown",
   "metadata": {},
   "source": [
    "## CPU/GPU"
   ]
  },
  {
   "cell_type": "code",
   "execution_count": 322,
   "metadata": {},
   "outputs": [
    {
     "data": {
      "text/plain": [
       "'cpu'"
      ]
     },
     "execution_count": 322,
     "metadata": {},
     "output_type": "execute_result"
    }
   ],
   "source": [
    "device='cuda' if torch.cuda.is_available() else 'cpu'\n",
    "device"
   ]
  },
  {
   "cell_type": "code",
   "execution_count": 323,
   "metadata": {},
   "outputs": [],
   "source": [
    "# How many GPUs and Which model they are\n",
    "n_cudas=torch.cuda.device_count()\n",
    "for i in range(n_cudas):\n",
    "    print(torch.cuda.get_device_name(i))"
   ]
  },
  {
   "cell_type": "code",
   "execution_count": 324,
   "metadata": {},
   "outputs": [
    {
     "data": {
      "text/plain": [
       "tensor([-1.2457], dtype=torch.float64)"
      ]
     },
     "execution_count": 324,
     "metadata": {},
     "output_type": "execute_result"
    }
   ],
   "source": [
    "# turn tensor into cuda tensor\n",
    "gpu_tensor=torch.as_tensor(X_train).to(device)\n",
    "gpu_tensor[0]"
   ]
  },
  {
   "cell_type": "code",
   "execution_count": 325,
   "metadata": {},
   "outputs": [],
   "source": [
    "device='cuda' if torch.cuda.is_available() else 'cpu'\n",
    "\n",
    "# we need to transform our numpy arrays into tensors and send them to chosen device\n",
    "X_train_tensor=torch.as_tensor(X_train).float().to(device)\n",
    "y_train_tensor=torch.tensor(y_train).float().to(device)\n",
    "\n"
   ]
  },
  {
   "cell_type": "markdown",
   "metadata": {},
   "source": [
    "`.type()` is more useful since it tells us where the tensor is (device)"
   ]
  },
  {
   "cell_type": "code",
   "execution_count": 326,
   "metadata": {},
   "outputs": [
    {
     "name": "stdout",
     "output_type": "stream",
     "text": [
      "torch.FloatTensor\n",
      "\n",
      "torch.float32\n",
      "\n",
      "<class 'torch.Tensor'>\n"
     ]
    }
   ],
   "source": [
    "print(f\"{X_train_tensor.type()}\\n\\n{X_train_tensor.dtype}\\n\\n{type(X_train_tensor)}\")"
   ]
  },
  {
   "cell_type": "code",
   "execution_count": 327,
   "metadata": {},
   "outputs": [],
   "source": [
    "# Turn a cuda tensor back to numpy array\n",
    "back_to_numpy=X_train_tensor.numpy() # this will throw an error if the tensor is on GPU\n",
    "\n",
    "back_to_numpy=X_train_tensor.cpu().numpy() # this will work"
   ]
  },
  {
   "cell_type": "markdown",
   "metadata": {},
   "source": [
    "A tensor for a learnable parameter requires a gradient ---> require_grads=**True**"
   ]
  },
  {
   "cell_type": "code",
   "execution_count": 328,
   "metadata": {},
   "outputs": [
    {
     "name": "stdout",
     "output_type": "stream",
     "text": [
      "tensor([0.3367], requires_grad=True) tensor([0.1288], requires_grad=True)\n"
     ]
    }
   ],
   "source": [
    "torch.manual_seed(42)\n",
    "b = torch.randn(1, requires_grad=True, dtype=torch.float32, device=device) # This is the best way to send a tensor to GPU\n",
    "w = torch.randn(1, requires_grad=True, dtype=torch.float32, device=device)\n",
    "print(b, w)\n"
   ]
  },
  {
   "cell_type": "code",
   "execution_count": 329,
   "metadata": {},
   "outputs": [
    {
     "name": "stdout",
     "output_type": "stream",
     "text": [
      "tensor([0.3367], requires_grad=True) tensor([0.1288], requires_grad=True)\n"
     ]
    }
   ],
   "source": [
    "# naive approach\n",
    "# Assume that I am using a GPU\n",
    "# I need to send the tensor to GPU\n",
    "torch.manual_seed(42)\n",
    "b=torch.randn(1,requires_grad=True,dtype=torch.float32).to(device) \n",
    "w=torch.randn(1,requires_grad=True,dtype=torch.float32).to(device)\n",
    "print(b,w) # we lost gradients"
   ]
  },
  {
   "attachments": {
    "image.png": {
     "image/png": "[encoded data removed]"
    }
   },
   "cell_type": "markdown",
   "metadata": {},
   "source": [
    "![image.png](attachment:image.png)  \n",
    "to(device='cuda:0') shadows the gradient"
   ]
  },
  {
   "cell_type": "code",
   "execution_count": 330,
   "metadata": {},
   "outputs": [
    {
     "name": "stdout",
     "output_type": "stream",
     "text": [
      "tensor([0.3367], requires_grad=True)\n",
      "tensor([0.1288], requires_grad=True)\n"
     ]
    }
   ],
   "source": [
    "# Now we send tensor to GPU and set requires_grad=True\n",
    "torch.manual_seed(42)\n",
    "b=torch.randn(1,dtype=torch.float32).to(device) \n",
    "w=torch.randn(1,dtype=torch.float32).to(device)\n",
    "\n",
    "# Then set tensors as requires_grad\n",
    "# In pytorch emthods that ends with _ are in place methods\n",
    "b.requires_grad_() \n",
    "w.requires_grad_() \n",
    "print(b)\n",
    "print(w)"
   ]
  },
  {
   "cell_type": "markdown",
   "metadata": {},
   "source": [
    "**CUDA tensor**  \n",
    "tensor([0.3367], device='cuda:0', requires_grad=True)  \n",
    "tensor([0.1288], device='cuda:0', requires_grad=True)"
   ]
  },
  {
   "cell_type": "markdown",
   "metadata": {},
   "source": [
    "## AutoGrad\n",
    "\n",
    "Autograd is pytorh's automatic differentialtion package. We dont need to worry about partial derivatives or chain rule or anything like that"
   ]
  },
  {
   "cell_type": "markdown",
   "metadata": {},
   "source": [
    "`backward()`---> computing the gradients for all gradient requring tensors"
   ]
  },
  {
   "cell_type": "markdown",
   "metadata": {},
   "source": [
    "Note: We get diffrenet sequence of random numbers even the seed is same if pytorch generates them in diffrenet devices(CPU/GPU)"
   ]
  },
  {
   "cell_type": "code",
   "execution_count": 331,
   "metadata": {},
   "outputs": [],
   "source": [
    "# forward pass\n",
    "y_hat=b+w*X_train_tensor\n",
    "\n",
    "# compute the loss\n",
    "loss=torch.mean(torch.square(y_hat-y_train_tensor))\n",
    "\n",
    "# compute gradients for b & w\n",
    "# No more manula calculation of gradients\n",
    "b_grad=2*torch.mean(y_hat-y_train_tensor)\n",
    "w_grad=2*torch.mean(X_train_tensor*(y_hat-y_train_tensor))\n",
    "\n",
    "loss.backward() # compute gradients using backpropagation"
   ]
  },
  {
   "cell_type": "markdown",
   "metadata": {},
   "source": [
    "Dynamic Computation Graph: Tacking dependencies ex: backward() will handle y_hat, error tensors in addition to w,b.  \n",
    "\n",
    "* We set requires_grad=True for both w,b. \n",
    "* w,b is used to calculate y_hat. \n",
    "* y_hat is used to compute the error"
   ]
  },
  {
   "cell_type": "code",
   "execution_count": 332,
   "metadata": {},
   "outputs": [
    {
     "name": "stdout",
     "output_type": "stream",
     "text": [
      "y_hat.requires_grad:True \n",
      "b.requires_grad: True \n",
      "w.requires_grad: True\n",
      "X_train_tensor.requires_grad: False \n",
      "y_train_tensor.requires_grad: False \n",
      "loss.requires_grad: True\n"
     ]
    }
   ],
   "source": [
    "print(f'y_hat.requires_grad:{y_hat.requires_grad} \\nb.requires_grad: {b.requires_grad} \\nw.requires_grad: {w.requires_grad}\\nX_train_tensor.requires_grad: {X_train_tensor.requires_grad} \\ny_train_tensor.requires_grad: {y_train_tensor.requires_grad} \\nloss.requires_grad: {loss.requires_grad}')"
   ]
  },
  {
   "cell_type": "code",
   "execution_count": 333,
   "metadata": {},
   "outputs": [
    {
     "name": "stdout",
     "output_type": "stream",
     "text": [
      "b_grad: tensor([-1.1832])\n",
      "w_grad: tensor([-2.8303])\n"
     ]
    }
   ],
   "source": [
    "# actual values of the gradients\n",
    "# gradeints are accumulated\n",
    "# we need gradients corresponding to curent loss\n",
    "print(f'b_grad: {b.grad}\\nw_grad: {w.grad}')"
   ]
  },
  {
   "cell_type": "markdown",
   "metadata": {},
   "source": [
    "Every time we use gradients to update parameters, we zero them afterward. "
   ]
  },
  {
   "cell_type": "code",
   "execution_count": 334,
   "metadata": {},
   "outputs": [
    {
     "name": "stdout",
     "output_type": "stream",
     "text": [
      "b_grad: tensor([0.])\n",
      "w_grad: tensor([0.])\n"
     ]
    }
   ],
   "source": [
    "b.grad.zero_() # set gradients to zero\n",
    "w.grad.zero_()\n",
    "\n",
    "print(f\"b_grad: {b.grad}\\nw_grad: {w.grad}\")"
   ]
  },
  {
   "cell_type": "markdown",
   "metadata": {},
   "source": [
    "## Update parameters"
   ]
  },
  {
   "cell_type": "code",
   "execution_count": 337,
   "metadata": {},
   "outputs": [
    {
     "data": {
      "application/vnd.jupyter.widget-view+json": {
       "model_id": "292ce881cccd4bf6ab0ca79f5ce2ba37",
       "version_major": 2,
       "version_minor": 0
      },
      "text/plain": [
       "  0%|          | 0/10000 [00:00<?, ?it/s]"
      ]
     },
     "metadata": {},
     "output_type": "display_data"
    },
    {
     "name": "stdout",
     "output_type": "stream",
     "text": [
      "b: tensor([0.9953], requires_grad=True)\n",
      "w: tensor([1.9849], requires_grad=True)\n"
     ]
    }
   ],
   "source": [
    "lr=0.001\n",
    "epochs=10000\n",
    "\n",
    "torch.manual_seed(42)\n",
    "w=torch.randn(1,requires_grad=True,dtype=torch.float32,device=device)\n",
    "b=torch.randn(1,requires_grad=True,dtype=torch.float32,device=device)\n",
    "\n",
    "for epoch in tqdm(range(epochs)):\n",
    "    y_hat=w*X_train_tensor+b\n",
    "    error=y_hat-y_train_tensor\n",
    "    loss=torch.mean(torch.square(error))\n",
    "    loss.backward()\n",
    "\n",
    "    with torch.no_grad(): # torch.no_grad is used to operform regular python operations without affecting computation graph\n",
    "        w-=lr*w.grad # inplace python assignment\n",
    "        b-=lr*b.grad\n",
    "\n",
    "    w.grad.zero_() # prevents gradient accumulation\n",
    "    b.grad.zero_()\n",
    "\n",
    "\n",
    "print(f\"b: {b}\\nw: {w}\")"
   ]
  },
  {
   "cell_type": "markdown",
   "metadata": {},
   "source": [
    "## Dynamic Computation Graph"
   ]
  },
  {
   "cell_type": "code",
   "execution_count": 341,
   "metadata": {},
   "outputs": [
    {
     "data": {
      "image/svg+xml": [
       "<?xml version=\"1.0\" encoding=\"UTF-8\" standalone=\"no\"?>\n",
       "<!DOCTYPE svg PUBLIC \"-//W3C//DTD SVG 1.1//EN\"\n",
       " \"http://www.w3.org/Graphics/SVG/1.1/DTD/svg11.dtd\">\n",
       "<!-- Generated by graphviz version 2.50.0 (0)\n",
       " -->\n",
       "<!-- Pages: 1 -->\n",
       "<svg width=\"222pt\" height=\"283pt\"\n",
       " viewBox=\"0.00 0.00 222.00 283.00\" xmlns=\"http://www.w3.org/2000/svg\" xmlns:xlink=\"http://www.w3.org/1999/xlink\">\n",
       "<g id=\"graph0\" class=\"graph\" transform=\"scale(1 1) rotate(0) translate(4 279)\">\n",
       "<polygon fill=\"white\" stroke=\"transparent\" points=\"-4,4 -4,-279 218,-279 218,4 -4,4\"/>\n",
       "<!-- 2707363494816 -->\n",
       "<g id=\"node1\" class=\"node\">\n",
       "<title>2707363494816</title>\n",
       "<polygon fill=\"#caff70\" stroke=\"black\" points=\"139,-31 74,-31 74,0 139,0 139,-31\"/>\n",
       "<text text-anchor=\"middle\" x=\"106.5\" y=\"-7\" font-family=\"monospace\" font-size=\"10.00\"> (80, 1)</text>\n",
       "</g>\n",
       "<!-- 2707358083648 -->\n",
       "<g id=\"node2\" class=\"node\">\n",
       "<title>2707358083648</title>\n",
       "<polygon fill=\"lightgrey\" stroke=\"black\" points=\"151,-86 62,-86 62,-67 151,-67 151,-86\"/>\n",
       "<text text-anchor=\"middle\" x=\"106.5\" y=\"-74\" font-family=\"monospace\" font-size=\"10.00\">AddBackward0</text>\n",
       "</g>\n",
       "<!-- 2707358083648&#45;&gt;2707363494816 -->\n",
       "<g id=\"edge6\" class=\"edge\">\n",
       "<title>2707358083648&#45;&gt;2707363494816</title>\n",
       "<path fill=\"none\" stroke=\"black\" d=\"M106.5,-66.79C106.5,-60.07 106.5,-50.4 106.5,-41.34\"/>\n",
       "<polygon fill=\"black\" stroke=\"black\" points=\"110,-41.19 106.5,-31.19 103,-41.19 110,-41.19\"/>\n",
       "</g>\n",
       "<!-- 2707358083408 -->\n",
       "<g id=\"node3\" class=\"node\">\n",
       "<title>2707358083408</title>\n",
       "<polygon fill=\"lightgrey\" stroke=\"black\" points=\"95,-141 6,-141 6,-122 95,-122 95,-141\"/>\n",
       "<text text-anchor=\"middle\" x=\"50.5\" y=\"-129\" font-family=\"monospace\" font-size=\"10.00\">MulBackward0</text>\n",
       "</g>\n",
       "<!-- 2707358083408&#45;&gt;2707358083648 -->\n",
       "<g id=\"edge1\" class=\"edge\">\n",
       "<title>2707358083408&#45;&gt;2707358083648</title>\n",
       "<path fill=\"none\" stroke=\"black\" d=\"M59.5,-121.98C67.69,-114.23 80.01,-102.58 89.97,-93.14\"/>\n",
       "<polygon fill=\"black\" stroke=\"black\" points=\"92.48,-95.59 97.34,-86.17 87.67,-90.5 92.48,-95.59\"/>\n",
       "</g>\n",
       "<!-- 2707358083504 -->\n",
       "<g id=\"node4\" class=\"node\">\n",
       "<title>2707358083504</title>\n",
       "<polygon fill=\"lightgrey\" stroke=\"black\" points=\"101,-202 0,-202 0,-183 101,-183 101,-202\"/>\n",
       "<text text-anchor=\"middle\" x=\"50.5\" y=\"-190\" font-family=\"monospace\" font-size=\"10.00\">AccumulateGrad</text>\n",
       "</g>\n",
       "<!-- 2707358083504&#45;&gt;2707358083408 -->\n",
       "<g id=\"edge2\" class=\"edge\">\n",
       "<title>2707358083504&#45;&gt;2707358083408</title>\n",
       "<path fill=\"none\" stroke=\"black\" d=\"M50.5,-182.79C50.5,-174.6 50.5,-162.06 50.5,-151.55\"/>\n",
       "<polygon fill=\"black\" stroke=\"black\" points=\"54,-151.24 50.5,-141.24 47,-151.24 54,-151.24\"/>\n",
       "</g>\n",
       "<!-- 2707363335440 -->\n",
       "<g id=\"node5\" class=\"node\">\n",
       "<title>2707363335440</title>\n",
       "<polygon fill=\"lightblue\" stroke=\"black\" points=\"77.5,-275 23.5,-275 23.5,-244 77.5,-244 77.5,-275\"/>\n",
       "<text text-anchor=\"middle\" x=\"50.5\" y=\"-251\" font-family=\"monospace\" font-size=\"10.00\"> (1)</text>\n",
       "</g>\n",
       "<!-- 2707363335440&#45;&gt;2707358083504 -->\n",
       "<g id=\"edge3\" class=\"edge\">\n",
       "<title>2707363335440&#45;&gt;2707358083504</title>\n",
       "<path fill=\"none\" stroke=\"black\" d=\"M50.5,-243.75C50.5,-234.39 50.5,-222.19 50.5,-212.16\"/>\n",
       "<polygon fill=\"black\" stroke=\"black\" points=\"54,-212.02 50.5,-202.02 47,-212.02 54,-212.02\"/>\n",
       "</g>\n",
       "<!-- 2707358083552 -->\n",
       "<g id=\"node6\" class=\"node\">\n",
       "<title>2707358083552</title>\n",
       "<polygon fill=\"lightgrey\" stroke=\"black\" points=\"214,-141 113,-141 113,-122 214,-122 214,-141\"/>\n",
       "<text text-anchor=\"middle\" x=\"163.5\" y=\"-129\" font-family=\"monospace\" font-size=\"10.00\">AccumulateGrad</text>\n",
       "</g>\n",
       "<!-- 2707358083552&#45;&gt;2707358083648 -->\n",
       "<g id=\"edge4\" class=\"edge\">\n",
       "<title>2707358083552&#45;&gt;2707358083648</title>\n",
       "<path fill=\"none\" stroke=\"black\" d=\"M154.34,-121.98C146,-114.23 133.47,-102.58 123.32,-93.14\"/>\n",
       "<polygon fill=\"black\" stroke=\"black\" points=\"125.53,-90.42 115.82,-86.17 120.76,-95.54 125.53,-90.42\"/>\n",
       "</g>\n",
       "<!-- 2707330964016 -->\n",
       "<g id=\"node7\" class=\"node\">\n",
       "<title>2707330964016</title>\n",
       "<polygon fill=\"lightblue\" stroke=\"black\" points=\"190.5,-208 136.5,-208 136.5,-177 190.5,-177 190.5,-208\"/>\n",
       "<text text-anchor=\"middle\" x=\"163.5\" y=\"-184\" font-family=\"monospace\" font-size=\"10.00\"> (1)</text>\n",
       "</g>\n",
       "<!-- 2707330964016&#45;&gt;2707358083552 -->\n",
       "<g id=\"edge5\" class=\"edge\">\n",
       "<title>2707330964016&#45;&gt;2707358083552</title>\n",
       "<path fill=\"none\" stroke=\"black\" d=\"M163.5,-176.92C163.5,-169.22 163.5,-159.69 163.5,-151.43\"/>\n",
       "<polygon fill=\"black\" stroke=\"black\" points=\"167,-151.25 163.5,-141.25 160,-151.25 167,-151.25\"/>\n",
       "</g>\n",
       "</g>\n",
       "</svg>\n"
      ],
      "text/plain": [
       "<graphviz.graphs.Digraph at 0x2765b1de560>"
      ]
     },
     "execution_count": 341,
     "metadata": {},
     "output_type": "execute_result"
    }
   ],
   "source": [
    "# step 0: Initialize parameters \"b\" and \"w\" randomly\n",
    "torch.manual_seed(42)\n",
    "b=torch.randn(1,requires_grad=True,dtype=torch.float32,device=device)\n",
    "w=torch.randn(1,requires_grad=True,dtype=torch.float32,device=device)\n",
    "\n",
    "# step 1: forward pass\n",
    "y_hat=w*X_train_tensor+b\n",
    "\n",
    "# step 2: compute the loss\n",
    "error=y_hat-y_train_tensor\n",
    "loss=torch.mean(torch.square(error))\n",
    "\n",
    "# plot graph for any variable\n",
    "make_dot(y_hat)"
   ]
  },
  {
   "cell_type": "markdown",
   "metadata": {},
   "source": [
    "* blue boxs: tensors that we are asking pytorch to compute gradients  \n",
    "* gray boxes: python operations that involve gradient computing tensors and their dependencies  \n",
    "* green box: starting point for the computation of gradients; backward method is called on this variable "
   ]
  },
  {
   "cell_type": "code",
   "execution_count": 342,
   "metadata": {},
   "outputs": [
    {
     "data": {
      "image/svg+xml": [
       "<?xml version=\"1.0\" encoding=\"UTF-8\" standalone=\"no\"?>\n",
       "<!DOCTYPE svg PUBLIC \"-//W3C//DTD SVG 1.1//EN\"\n",
       " \"http://www.w3.org/Graphics/SVG/1.1/DTD/svg11.dtd\">\n",
       "<!-- Generated by graphviz version 2.50.0 (0)\n",
       " -->\n",
       "<!-- Pages: 1 -->\n",
       "<svg width=\"222pt\" height=\"448pt\"\n",
       " viewBox=\"0.00 0.00 222.00 448.00\" xmlns=\"http://www.w3.org/2000/svg\" xmlns:xlink=\"http://www.w3.org/1999/xlink\">\n",
       "<g id=\"graph0\" class=\"graph\" transform=\"scale(1 1) rotate(0) translate(4 444)\">\n",
       "<polygon fill=\"white\" stroke=\"transparent\" points=\"-4,4 -4,-444 218,-444 218,4 -4,4\"/>\n",
       "<!-- 2707338818752 -->\n",
       "<g id=\"node1\" class=\"node\">\n",
       "<title>2707338818752</title>\n",
       "<polygon fill=\"#caff70\" stroke=\"black\" points=\"133.5,-31 79.5,-31 79.5,0 133.5,0 133.5,-31\"/>\n",
       "<text text-anchor=\"middle\" x=\"106.5\" y=\"-7\" font-family=\"monospace\" font-size=\"10.00\"> ()</text>\n",
       "</g>\n",
       "<!-- 2707358065488 -->\n",
       "<g id=\"node2\" class=\"node\">\n",
       "<title>2707358065488</title>\n",
       "<polygon fill=\"lightgrey\" stroke=\"black\" points=\"154,-86 59,-86 59,-67 154,-67 154,-86\"/>\n",
       "<text text-anchor=\"middle\" x=\"106.5\" y=\"-74\" font-family=\"monospace\" font-size=\"10.00\">MeanBackward0</text>\n",
       "</g>\n",
       "<!-- 2707358065488&#45;&gt;2707338818752 -->\n",
       "<g id=\"edge9\" class=\"edge\">\n",
       "<title>2707358065488&#45;&gt;2707338818752</title>\n",
       "<path fill=\"none\" stroke=\"black\" d=\"M106.5,-66.79C106.5,-60.07 106.5,-50.4 106.5,-41.34\"/>\n",
       "<polygon fill=\"black\" stroke=\"black\" points=\"110,-41.19 106.5,-31.19 103,-41.19 110,-41.19\"/>\n",
       "</g>\n",
       "<!-- 2707358065392 -->\n",
       "<g id=\"node3\" class=\"node\">\n",
       "<title>2707358065392</title>\n",
       "<polygon fill=\"lightgrey\" stroke=\"black\" points=\"151,-141 62,-141 62,-122 151,-122 151,-141\"/>\n",
       "<text text-anchor=\"middle\" x=\"106.5\" y=\"-129\" font-family=\"monospace\" font-size=\"10.00\">PowBackward0</text>\n",
       "</g>\n",
       "<!-- 2707358065392&#45;&gt;2707358065488 -->\n",
       "<g id=\"edge1\" class=\"edge\">\n",
       "<title>2707358065392&#45;&gt;2707358065488</title>\n",
       "<path fill=\"none\" stroke=\"black\" d=\"M106.5,-121.75C106.5,-114.8 106.5,-104.85 106.5,-96.13\"/>\n",
       "<polygon fill=\"black\" stroke=\"black\" points=\"110,-96.09 106.5,-86.09 103,-96.09 110,-96.09\"/>\n",
       "</g>\n",
       "<!-- 2707358058144 -->\n",
       "<g id=\"node4\" class=\"node\">\n",
       "<title>2707358058144</title>\n",
       "<polygon fill=\"lightgrey\" stroke=\"black\" points=\"151,-196 62,-196 62,-177 151,-177 151,-196\"/>\n",
       "<text text-anchor=\"middle\" x=\"106.5\" y=\"-184\" font-family=\"monospace\" font-size=\"10.00\">SubBackward0</text>\n",
       "</g>\n",
       "<!-- 2707358058144&#45;&gt;2707358065392 -->\n",
       "<g id=\"edge2\" class=\"edge\">\n",
       "<title>2707358058144&#45;&gt;2707358065392</title>\n",
       "<path fill=\"none\" stroke=\"black\" d=\"M106.5,-176.75C106.5,-169.8 106.5,-159.85 106.5,-151.13\"/>\n",
       "<polygon fill=\"black\" stroke=\"black\" points=\"110,-151.09 106.5,-141.09 103,-151.09 110,-151.09\"/>\n",
       "</g>\n",
       "<!-- 2707358083648 -->\n",
       "<g id=\"node5\" class=\"node\">\n",
       "<title>2707358083648</title>\n",
       "<polygon fill=\"lightgrey\" stroke=\"black\" points=\"151,-251 62,-251 62,-232 151,-232 151,-251\"/>\n",
       "<text text-anchor=\"middle\" x=\"106.5\" y=\"-239\" font-family=\"monospace\" font-size=\"10.00\">AddBackward0</text>\n",
       "</g>\n",
       "<!-- 2707358083648&#45;&gt;2707358058144 -->\n",
       "<g id=\"edge3\" class=\"edge\">\n",
       "<title>2707358083648&#45;&gt;2707358058144</title>\n",
       "<path fill=\"none\" stroke=\"black\" d=\"M106.5,-231.75C106.5,-224.8 106.5,-214.85 106.5,-206.13\"/>\n",
       "<polygon fill=\"black\" stroke=\"black\" points=\"110,-206.09 106.5,-196.09 103,-206.09 110,-206.09\"/>\n",
       "</g>\n",
       "<!-- 2707358083408 -->\n",
       "<g id=\"node6\" class=\"node\">\n",
       "<title>2707358083408</title>\n",
       "<polygon fill=\"lightgrey\" stroke=\"black\" points=\"95,-306 6,-306 6,-287 95,-287 95,-306\"/>\n",
       "<text text-anchor=\"middle\" x=\"50.5\" y=\"-294\" font-family=\"monospace\" font-size=\"10.00\">MulBackward0</text>\n",
       "</g>\n",
       "<!-- 2707358083408&#45;&gt;2707358083648 -->\n",
       "<g id=\"edge4\" class=\"edge\">\n",
       "<title>2707358083408&#45;&gt;2707358083648</title>\n",
       "<path fill=\"none\" stroke=\"black\" d=\"M59.5,-286.98C67.69,-279.23 80.01,-267.58 89.97,-258.14\"/>\n",
       "<polygon fill=\"black\" stroke=\"black\" points=\"92.48,-260.59 97.34,-251.17 87.67,-255.5 92.48,-260.59\"/>\n",
       "</g>\n",
       "<!-- 2707358083504 -->\n",
       "<g id=\"node7\" class=\"node\">\n",
       "<title>2707358083504</title>\n",
       "<polygon fill=\"lightgrey\" stroke=\"black\" points=\"101,-367 0,-367 0,-348 101,-348 101,-367\"/>\n",
       "<text text-anchor=\"middle\" x=\"50.5\" y=\"-355\" font-family=\"monospace\" font-size=\"10.00\">AccumulateGrad</text>\n",
       "</g>\n",
       "<!-- 2707358083504&#45;&gt;2707358083408 -->\n",
       "<g id=\"edge5\" class=\"edge\">\n",
       "<title>2707358083504&#45;&gt;2707358083408</title>\n",
       "<path fill=\"none\" stroke=\"black\" d=\"M50.5,-347.79C50.5,-339.6 50.5,-327.06 50.5,-316.55\"/>\n",
       "<polygon fill=\"black\" stroke=\"black\" points=\"54,-316.24 50.5,-306.24 47,-316.24 54,-316.24\"/>\n",
       "</g>\n",
       "<!-- 2707363335440 -->\n",
       "<g id=\"node8\" class=\"node\">\n",
       "<title>2707363335440</title>\n",
       "<polygon fill=\"lightblue\" stroke=\"black\" points=\"77.5,-440 23.5,-440 23.5,-409 77.5,-409 77.5,-440\"/>\n",
       "<text text-anchor=\"middle\" x=\"50.5\" y=\"-416\" font-family=\"monospace\" font-size=\"10.00\"> (1)</text>\n",
       "</g>\n",
       "<!-- 2707363335440&#45;&gt;2707358083504 -->\n",
       "<g id=\"edge6\" class=\"edge\">\n",
       "<title>2707363335440&#45;&gt;2707358083504</title>\n",
       "<path fill=\"none\" stroke=\"black\" d=\"M50.5,-408.75C50.5,-399.39 50.5,-387.19 50.5,-377.16\"/>\n",
       "<polygon fill=\"black\" stroke=\"black\" points=\"54,-377.02 50.5,-367.02 47,-377.02 54,-377.02\"/>\n",
       "</g>\n",
       "<!-- 2707358083552 -->\n",
       "<g id=\"node9\" class=\"node\">\n",
       "<title>2707358083552</title>\n",
       "<polygon fill=\"lightgrey\" stroke=\"black\" points=\"214,-306 113,-306 113,-287 214,-287 214,-306\"/>\n",
       "<text text-anchor=\"middle\" x=\"163.5\" y=\"-294\" font-family=\"monospace\" font-size=\"10.00\">AccumulateGrad</text>\n",
       "</g>\n",
       "<!-- 2707358083552&#45;&gt;2707358083648 -->\n",
       "<g id=\"edge7\" class=\"edge\">\n",
       "<title>2707358083552&#45;&gt;2707358083648</title>\n",
       "<path fill=\"none\" stroke=\"black\" d=\"M154.34,-286.98C146,-279.23 133.47,-267.58 123.32,-258.14\"/>\n",
       "<polygon fill=\"black\" stroke=\"black\" points=\"125.53,-255.42 115.82,-251.17 120.76,-260.54 125.53,-255.42\"/>\n",
       "</g>\n",
       "<!-- 2707330964016 -->\n",
       "<g id=\"node10\" class=\"node\">\n",
       "<title>2707330964016</title>\n",
       "<polygon fill=\"lightblue\" stroke=\"black\" points=\"190.5,-373 136.5,-373 136.5,-342 190.5,-342 190.5,-373\"/>\n",
       "<text text-anchor=\"middle\" x=\"163.5\" y=\"-349\" font-family=\"monospace\" font-size=\"10.00\"> (1)</text>\n",
       "</g>\n",
       "<!-- 2707330964016&#45;&gt;2707358083552 -->\n",
       "<g id=\"edge8\" class=\"edge\">\n",
       "<title>2707330964016&#45;&gt;2707358083552</title>\n",
       "<path fill=\"none\" stroke=\"black\" d=\"M163.5,-341.92C163.5,-334.22 163.5,-324.69 163.5,-316.43\"/>\n",
       "<polygon fill=\"black\" stroke=\"black\" points=\"167,-316.25 163.5,-306.25 160,-316.25 167,-316.25\"/>\n",
       "</g>\n",
       "</g>\n",
       "</svg>\n"
      ],
      "text/plain": [
       "<graphviz.graphs.Digraph at 0x2765b1d85e0>"
      ]
     },
     "execution_count": 342,
     "metadata": {},
     "output_type": "execute_result"
    }
   ],
   "source": [
    "make_dot(loss)"
   ]
  },
  {
   "cell_type": "markdown",
   "metadata": {},
   "source": [
    "NO gradients, NO graph"
   ]
  },
  {
   "cell_type": "code",
   "execution_count": 344,
   "metadata": {},
   "outputs": [
    {
     "data": {
      "image/svg+xml": [
       "<?xml version=\"1.0\" encoding=\"UTF-8\" standalone=\"no\"?>\n",
       "<!DOCTYPE svg PUBLIC \"-//W3C//DTD SVG 1.1//EN\"\n",
       " \"http://www.w3.org/Graphics/SVG/1.1/DTD/svg11.dtd\">\n",
       "<!-- Generated by graphviz version 2.50.0 (0)\n",
       " -->\n",
       "<!-- Pages: 1 -->\n",
       "<svg width=\"109pt\" height=\"271pt\"\n",
       " viewBox=\"0.00 0.00 109.00 271.00\" xmlns=\"http://www.w3.org/2000/svg\" xmlns:xlink=\"http://www.w3.org/1999/xlink\">\n",
       "<g id=\"graph0\" class=\"graph\" transform=\"scale(1 1) rotate(0) translate(4 267)\">\n",
       "<polygon fill=\"white\" stroke=\"transparent\" points=\"-4,4 -4,-267 105,-267 105,4 -4,4\"/>\n",
       "<!-- 2707363484336 -->\n",
       "<g id=\"node1\" class=\"node\">\n",
       "<title>2707363484336</title>\n",
       "<polygon fill=\"#caff70\" stroke=\"black\" points=\"83,-31 18,-31 18,0 83,0 83,-31\"/>\n",
       "<text text-anchor=\"middle\" x=\"50.5\" y=\"-7\" font-family=\"monospace\" font-size=\"10.00\"> (80, 1)</text>\n",
       "</g>\n",
       "<!-- 2707358129776 -->\n",
       "<g id=\"node2\" class=\"node\">\n",
       "<title>2707358129776</title>\n",
       "<polygon fill=\"lightgrey\" stroke=\"black\" points=\"95,-86 6,-86 6,-67 95,-67 95,-86\"/>\n",
       "<text text-anchor=\"middle\" x=\"50.5\" y=\"-74\" font-family=\"monospace\" font-size=\"10.00\">AddBackward0</text>\n",
       "</g>\n",
       "<!-- 2707358129776&#45;&gt;2707363484336 -->\n",
       "<g id=\"edge4\" class=\"edge\">\n",
       "<title>2707358129776&#45;&gt;2707363484336</title>\n",
       "<path fill=\"none\" stroke=\"black\" d=\"M50.5,-66.79C50.5,-60.07 50.5,-50.4 50.5,-41.34\"/>\n",
       "<polygon fill=\"black\" stroke=\"black\" points=\"54,-41.19 50.5,-31.19 47,-41.19 54,-41.19\"/>\n",
       "</g>\n",
       "<!-- 2707358128912 -->\n",
       "<g id=\"node3\" class=\"node\">\n",
       "<title>2707358128912</title>\n",
       "<polygon fill=\"lightgrey\" stroke=\"black\" points=\"95,-141 6,-141 6,-122 95,-122 95,-141\"/>\n",
       "<text text-anchor=\"middle\" x=\"50.5\" y=\"-129\" font-family=\"monospace\" font-size=\"10.00\">MulBackward0</text>\n",
       "</g>\n",
       "<!-- 2707358128912&#45;&gt;2707358129776 -->\n",
       "<g id=\"edge1\" class=\"edge\">\n",
       "<title>2707358128912&#45;&gt;2707358129776</title>\n",
       "<path fill=\"none\" stroke=\"black\" d=\"M50.5,-121.75C50.5,-114.8 50.5,-104.85 50.5,-96.13\"/>\n",
       "<polygon fill=\"black\" stroke=\"black\" points=\"54,-96.09 50.5,-86.09 47,-96.09 54,-96.09\"/>\n",
       "</g>\n",
       "<!-- 2707358134528 -->\n",
       "<g id=\"node4\" class=\"node\">\n",
       "<title>2707358134528</title>\n",
       "<polygon fill=\"lightgrey\" stroke=\"black\" points=\"101,-196 0,-196 0,-177 101,-177 101,-196\"/>\n",
       "<text text-anchor=\"middle\" x=\"50.5\" y=\"-184\" font-family=\"monospace\" font-size=\"10.00\">AccumulateGrad</text>\n",
       "</g>\n",
       "<!-- 2707358134528&#45;&gt;2707358128912 -->\n",
       "<g id=\"edge2\" class=\"edge\">\n",
       "<title>2707358134528&#45;&gt;2707358128912</title>\n",
       "<path fill=\"none\" stroke=\"black\" d=\"M50.5,-176.75C50.5,-169.8 50.5,-159.85 50.5,-151.13\"/>\n",
       "<polygon fill=\"black\" stroke=\"black\" points=\"54,-151.09 50.5,-141.09 47,-151.09 54,-151.09\"/>\n",
       "</g>\n",
       "<!-- 2707363333440 -->\n",
       "<g id=\"node5\" class=\"node\">\n",
       "<title>2707363333440</title>\n",
       "<polygon fill=\"lightblue\" stroke=\"black\" points=\"77.5,-263 23.5,-263 23.5,-232 77.5,-232 77.5,-263\"/>\n",
       "<text text-anchor=\"middle\" x=\"50.5\" y=\"-239\" font-family=\"monospace\" font-size=\"10.00\"> (1)</text>\n",
       "</g>\n",
       "<!-- 2707363333440&#45;&gt;2707358134528 -->\n",
       "<g id=\"edge3\" class=\"edge\">\n",
       "<title>2707363333440&#45;&gt;2707358134528</title>\n",
       "<path fill=\"none\" stroke=\"black\" d=\"M50.5,-231.92C50.5,-224.22 50.5,-214.69 50.5,-206.43\"/>\n",
       "<polygon fill=\"black\" stroke=\"black\" points=\"54,-206.25 50.5,-196.25 47,-206.25 54,-206.25\"/>\n",
       "</g>\n",
       "</g>\n",
       "</svg>\n"
      ],
      "text/plain": [
       "<graphviz.graphs.Digraph at 0x2765b1ea320>"
      ]
     },
     "execution_count": 344,
     "metadata": {},
     "output_type": "execute_result"
    }
   ],
   "source": [
    "# what if we set require_grad=False for b\n",
    "# step 0: Initialize parameters \"b\" and \"w\" randomly\n",
    "torch.manual_seed(42)\n",
    "b=torch.randn(1,requires_grad=False,dtype=torch.float32,device=device)\n",
    "w=torch.randn(1,requires_grad=True,dtype=torch.float32,device=device)\n",
    "\n",
    "# step 1: forward pass\n",
    "y_hat=w*X_train_tensor+b\n",
    "\n",
    "# step 2: compute the loss\n",
    "error=y_hat-y_train_tensor\n",
    "loss=torch.mean(torch.square(error))\n",
    "\n",
    "# plot graph for any variable\n",
    "make_dot(y_hat)"
   ]
  },
  {
   "cell_type": "code",
   "execution_count": 348,
   "metadata": {},
   "outputs": [
    {
     "data": {
      "image/svg+xml": [
       "<?xml version=\"1.0\" encoding=\"UTF-8\" standalone=\"no\"?>\n",
       "<!DOCTYPE svg PUBLIC \"-//W3C//DTD SVG 1.1//EN\"\n",
       " \"http://www.w3.org/Graphics/SVG/1.1/DTD/svg11.dtd\">\n",
       "<!-- Generated by graphviz version 2.50.0 (0)\n",
       " -->\n",
       "<!-- Pages: 1 -->\n",
       "<svg width=\"326pt\" height=\"503pt\"\n",
       " viewBox=\"0.00 0.00 326.00 503.00\" xmlns=\"http://www.w3.org/2000/svg\" xmlns:xlink=\"http://www.w3.org/1999/xlink\">\n",
       "<g id=\"graph0\" class=\"graph\" transform=\"scale(1 1) rotate(0) translate(4 499)\">\n",
       "<polygon fill=\"white\" stroke=\"transparent\" points=\"-4,4 -4,-499 322,-499 322,4 -4,4\"/>\n",
       "<!-- 2707330959296 -->\n",
       "<g id=\"node1\" class=\"node\">\n",
       "<title>2707330959296</title>\n",
       "<polygon fill=\"#caff70\" stroke=\"black\" points=\"130.5,-31 76.5,-31 76.5,0 130.5,0 130.5,-31\"/>\n",
       "<text text-anchor=\"middle\" x=\"103.5\" y=\"-7\" font-family=\"monospace\" font-size=\"10.00\"> ()</text>\n",
       "</g>\n",
       "<!-- 2707358129824 -->\n",
       "<g id=\"node2\" class=\"node\">\n",
       "<title>2707358129824</title>\n",
       "<polygon fill=\"lightgrey\" stroke=\"black\" points=\"148,-86 59,-86 59,-67 148,-67 148,-86\"/>\n",
       "<text text-anchor=\"middle\" x=\"103.5\" y=\"-74\" font-family=\"monospace\" font-size=\"10.00\">AddBackward0</text>\n",
       "</g>\n",
       "<!-- 2707358129824&#45;&gt;2707330959296 -->\n",
       "<g id=\"edge15\" class=\"edge\">\n",
       "<title>2707358129824&#45;&gt;2707330959296</title>\n",
       "<path fill=\"none\" stroke=\"black\" d=\"M103.5,-66.79C103.5,-60.07 103.5,-50.4 103.5,-41.34\"/>\n",
       "<polygon fill=\"black\" stroke=\"black\" points=\"107,-41.19 103.5,-31.19 100,-41.19 107,-41.19\"/>\n",
       "</g>\n",
       "<!-- 2707358127760 -->\n",
       "<g id=\"node3\" class=\"node\">\n",
       "<title>2707358127760</title>\n",
       "<polygon fill=\"lightgrey\" stroke=\"black\" points=\"208,-141 113,-141 113,-122 208,-122 208,-141\"/>\n",
       "<text text-anchor=\"middle\" x=\"160.5\" y=\"-129\" font-family=\"monospace\" font-size=\"10.00\">MeanBackward0</text>\n",
       "</g>\n",
       "<!-- 2707358127760&#45;&gt;2707358129824 -->\n",
       "<g id=\"edge1\" class=\"edge\">\n",
       "<title>2707358127760&#45;&gt;2707358129824</title>\n",
       "<path fill=\"none\" stroke=\"black\" d=\"M151.34,-121.98C143,-114.23 130.47,-102.58 120.32,-93.14\"/>\n",
       "<polygon fill=\"black\" stroke=\"black\" points=\"122.53,-90.42 112.82,-86.17 117.76,-95.54 122.53,-90.42\"/>\n",
       "</g>\n",
       "<!-- 2707358127904 -->\n",
       "<g id=\"node4\" class=\"node\">\n",
       "<title>2707358127904</title>\n",
       "<polygon fill=\"lightgrey\" stroke=\"black\" points=\"205,-196 116,-196 116,-177 205,-177 205,-196\"/>\n",
       "<text text-anchor=\"middle\" x=\"160.5\" y=\"-184\" font-family=\"monospace\" font-size=\"10.00\">PowBackward0</text>\n",
       "</g>\n",
       "<!-- 2707358127904&#45;&gt;2707358127760 -->\n",
       "<g id=\"edge2\" class=\"edge\">\n",
       "<title>2707358127904&#45;&gt;2707358127760</title>\n",
       "<path fill=\"none\" stroke=\"black\" d=\"M160.5,-176.75C160.5,-169.8 160.5,-159.85 160.5,-151.13\"/>\n",
       "<polygon fill=\"black\" stroke=\"black\" points=\"164,-151.09 160.5,-141.09 157,-151.09 164,-151.09\"/>\n",
       "</g>\n",
       "<!-- 2707358134480 -->\n",
       "<g id=\"node5\" class=\"node\">\n",
       "<title>2707358134480</title>\n",
       "<polygon fill=\"lightgrey\" stroke=\"black\" points=\"205,-251 116,-251 116,-232 205,-232 205,-251\"/>\n",
       "<text text-anchor=\"middle\" x=\"160.5\" y=\"-239\" font-family=\"monospace\" font-size=\"10.00\">SubBackward0</text>\n",
       "</g>\n",
       "<!-- 2707358134480&#45;&gt;2707358127904 -->\n",
       "<g id=\"edge3\" class=\"edge\">\n",
       "<title>2707358134480&#45;&gt;2707358127904</title>\n",
       "<path fill=\"none\" stroke=\"black\" d=\"M160.5,-231.75C160.5,-224.8 160.5,-214.85 160.5,-206.13\"/>\n",
       "<polygon fill=\"black\" stroke=\"black\" points=\"164,-206.09 160.5,-196.09 157,-206.09 164,-206.09\"/>\n",
       "</g>\n",
       "<!-- 2707358127232 -->\n",
       "<g id=\"node6\" class=\"node\">\n",
       "<title>2707358127232</title>\n",
       "<polygon fill=\"lightgrey\" stroke=\"black\" points=\"205,-306 116,-306 116,-287 205,-287 205,-306\"/>\n",
       "<text text-anchor=\"middle\" x=\"160.5\" y=\"-294\" font-family=\"monospace\" font-size=\"10.00\">AddBackward0</text>\n",
       "</g>\n",
       "<!-- 2707358127232&#45;&gt;2707358134480 -->\n",
       "<g id=\"edge4\" class=\"edge\">\n",
       "<title>2707358127232&#45;&gt;2707358134480</title>\n",
       "<path fill=\"none\" stroke=\"black\" d=\"M160.5,-286.75C160.5,-279.8 160.5,-269.85 160.5,-261.13\"/>\n",
       "<polygon fill=\"black\" stroke=\"black\" points=\"164,-261.09 160.5,-251.09 157,-261.09 164,-261.09\"/>\n",
       "</g>\n",
       "<!-- 2707357640656 -->\n",
       "<g id=\"node7\" class=\"node\">\n",
       "<title>2707357640656</title>\n",
       "<polygon fill=\"lightgrey\" stroke=\"black\" points=\"199,-361 110,-361 110,-342 199,-342 199,-361\"/>\n",
       "<text text-anchor=\"middle\" x=\"154.5\" y=\"-349\" font-family=\"monospace\" font-size=\"10.00\">MulBackward0</text>\n",
       "</g>\n",
       "<!-- 2707357640656&#45;&gt;2707358127232 -->\n",
       "<g id=\"edge5\" class=\"edge\">\n",
       "<title>2707357640656&#45;&gt;2707358127232</title>\n",
       "<path fill=\"none\" stroke=\"black\" d=\"M155.49,-341.75C156.28,-334.8 157.4,-324.85 158.39,-316.13\"/>\n",
       "<polygon fill=\"black\" stroke=\"black\" points=\"161.88,-316.42 159.53,-306.09 154.92,-315.63 161.88,-316.42\"/>\n",
       "</g>\n",
       "<!-- 2707357640752 -->\n",
       "<g id=\"node8\" class=\"node\">\n",
       "<title>2707357640752</title>\n",
       "<polygon fill=\"lightgrey\" stroke=\"black\" points=\"152,-422 51,-422 51,-403 152,-403 152,-422\"/>\n",
       "<text text-anchor=\"middle\" x=\"101.5\" y=\"-410\" font-family=\"monospace\" font-size=\"10.00\">AccumulateGrad</text>\n",
       "</g>\n",
       "<!-- 2707357640752&#45;&gt;2707357640656 -->\n",
       "<g id=\"edge6\" class=\"edge\">\n",
       "<title>2707357640752&#45;&gt;2707357640656</title>\n",
       "<path fill=\"none\" stroke=\"black\" d=\"M109.32,-402.79C117.31,-393.91 129.89,-379.89 139.76,-368.91\"/>\n",
       "<polygon fill=\"black\" stroke=\"black\" points=\"142.57,-371.02 146.65,-361.24 137.36,-366.34 142.57,-371.02\"/>\n",
       "</g>\n",
       "<!-- 2707357635616 -->\n",
       "<g id=\"node15\" class=\"node\">\n",
       "<title>2707357635616</title>\n",
       "<polygon fill=\"lightgrey\" stroke=\"black\" points=\"92,-361 3,-361 3,-342 92,-342 92,-361\"/>\n",
       "<text text-anchor=\"middle\" x=\"47.5\" y=\"-349\" font-family=\"monospace\" font-size=\"10.00\">MulBackward0</text>\n",
       "</g>\n",
       "<!-- 2707357640752&#45;&gt;2707357635616 -->\n",
       "<g id=\"edge14\" class=\"edge\">\n",
       "<title>2707357640752&#45;&gt;2707357635616</title>\n",
       "<path fill=\"none\" stroke=\"black\" d=\"M93.53,-402.79C85.4,-393.91 72.57,-379.89 62.52,-368.91\"/>\n",
       "<polygon fill=\"black\" stroke=\"black\" points=\"64.83,-366.26 55.5,-361.24 59.67,-370.98 64.83,-366.26\"/>\n",
       "</g>\n",
       "<!-- 2707333453104 -->\n",
       "<g id=\"node9\" class=\"node\">\n",
       "<title>2707333453104</title>\n",
       "<polygon fill=\"lightblue\" stroke=\"black\" points=\"128.5,-495 74.5,-495 74.5,-464 128.5,-464 128.5,-495\"/>\n",
       "<text text-anchor=\"middle\" x=\"101.5\" y=\"-471\" font-family=\"monospace\" font-size=\"10.00\"> (1)</text>\n",
       "</g>\n",
       "<!-- 2707333453104&#45;&gt;2707357640752 -->\n",
       "<g id=\"edge7\" class=\"edge\">\n",
       "<title>2707333453104&#45;&gt;2707357640752</title>\n",
       "<path fill=\"none\" stroke=\"black\" d=\"M101.5,-463.75C101.5,-454.39 101.5,-442.19 101.5,-432.16\"/>\n",
       "<polygon fill=\"black\" stroke=\"black\" points=\"105,-432.02 101.5,-422.02 98,-432.02 105,-432.02\"/>\n",
       "</g>\n",
       "<!-- 2707357638880 -->\n",
       "<g id=\"node10\" class=\"node\">\n",
       "<title>2707357638880</title>\n",
       "<polygon fill=\"lightgrey\" stroke=\"black\" points=\"318,-361 217,-361 217,-342 318,-342 318,-361\"/>\n",
       "<text text-anchor=\"middle\" x=\"267.5\" y=\"-349\" font-family=\"monospace\" font-size=\"10.00\">AccumulateGrad</text>\n",
       "</g>\n",
       "<!-- 2707357638880&#45;&gt;2707358127232 -->\n",
       "<g id=\"edge8\" class=\"edge\">\n",
       "<title>2707357638880&#45;&gt;2707358127232</title>\n",
       "<path fill=\"none\" stroke=\"black\" d=\"M250.31,-341.98C233.25,-333.54 206.87,-320.47 187.1,-310.68\"/>\n",
       "<polygon fill=\"black\" stroke=\"black\" points=\"188.52,-307.47 178,-306.17 185.41,-313.75 188.52,-307.47\"/>\n",
       "</g>\n",
       "<!-- 2707363490816 -->\n",
       "<g id=\"node11\" class=\"node\">\n",
       "<title>2707363490816</title>\n",
       "<polygon fill=\"lightblue\" stroke=\"black\" points=\"294.5,-428 240.5,-428 240.5,-397 294.5,-397 294.5,-428\"/>\n",
       "<text text-anchor=\"middle\" x=\"267.5\" y=\"-404\" font-family=\"monospace\" font-size=\"10.00\"> (1)</text>\n",
       "</g>\n",
       "<!-- 2707363490816&#45;&gt;2707357638880 -->\n",
       "<g id=\"edge9\" class=\"edge\">\n",
       "<title>2707363490816&#45;&gt;2707357638880</title>\n",
       "<path fill=\"none\" stroke=\"black\" d=\"M267.5,-396.92C267.5,-389.22 267.5,-379.69 267.5,-371.43\"/>\n",
       "<polygon fill=\"black\" stroke=\"black\" points=\"271,-371.25 267.5,-361.25 264,-371.25 271,-371.25\"/>\n",
       "</g>\n",
       "<!-- 2707358130832 -->\n",
       "<g id=\"node12\" class=\"node\">\n",
       "<title>2707358130832</title>\n",
       "<polygon fill=\"lightgrey\" stroke=\"black\" points=\"95,-141 0,-141 0,-122 95,-122 95,-141\"/>\n",
       "<text text-anchor=\"middle\" x=\"47.5\" y=\"-129\" font-family=\"monospace\" font-size=\"10.00\">MeanBackward0</text>\n",
       "</g>\n",
       "<!-- 2707358130832&#45;&gt;2707358129824 -->\n",
       "<g id=\"edge10\" class=\"edge\">\n",
       "<title>2707358130832&#45;&gt;2707358129824</title>\n",
       "<path fill=\"none\" stroke=\"black\" d=\"M56.5,-121.98C64.69,-114.23 77.01,-102.58 86.97,-93.14\"/>\n",
       "<polygon fill=\"black\" stroke=\"black\" points=\"89.48,-95.59 94.34,-86.17 84.67,-90.5 89.48,-95.59\"/>\n",
       "</g>\n",
       "<!-- 2707358129872 -->\n",
       "<g id=\"node13\" class=\"node\">\n",
       "<title>2707358129872</title>\n",
       "<polygon fill=\"lightgrey\" stroke=\"black\" points=\"92,-251 3,-251 3,-232 92,-232 92,-251\"/>\n",
       "<text text-anchor=\"middle\" x=\"47.5\" y=\"-239\" font-family=\"monospace\" font-size=\"10.00\">PowBackward0</text>\n",
       "</g>\n",
       "<!-- 2707358129872&#45;&gt;2707358130832 -->\n",
       "<g id=\"edge11\" class=\"edge\">\n",
       "<title>2707358129872&#45;&gt;2707358130832</title>\n",
       "<path fill=\"none\" stroke=\"black\" d=\"M47.5,-231.66C47.5,-214.17 47.5,-174.8 47.5,-151.27\"/>\n",
       "<polygon fill=\"black\" stroke=\"black\" points=\"51,-151.16 47.5,-141.16 44,-151.16 51,-151.16\"/>\n",
       "</g>\n",
       "<!-- 2707357640800 -->\n",
       "<g id=\"node14\" class=\"node\">\n",
       "<title>2707357640800</title>\n",
       "<polygon fill=\"lightgrey\" stroke=\"black\" points=\"92,-306 3,-306 3,-287 92,-287 92,-306\"/>\n",
       "<text text-anchor=\"middle\" x=\"47.5\" y=\"-294\" font-family=\"monospace\" font-size=\"10.00\">SubBackward0</text>\n",
       "</g>\n",
       "<!-- 2707357640800&#45;&gt;2707358129872 -->\n",
       "<g id=\"edge12\" class=\"edge\">\n",
       "<title>2707357640800&#45;&gt;2707358129872</title>\n",
       "<path fill=\"none\" stroke=\"black\" d=\"M47.5,-286.75C47.5,-279.8 47.5,-269.85 47.5,-261.13\"/>\n",
       "<polygon fill=\"black\" stroke=\"black\" points=\"51,-261.09 47.5,-251.09 44,-261.09 51,-261.09\"/>\n",
       "</g>\n",
       "<!-- 2707357635616&#45;&gt;2707357640800 -->\n",
       "<g id=\"edge13\" class=\"edge\">\n",
       "<title>2707357635616&#45;&gt;2707357640800</title>\n",
       "<path fill=\"none\" stroke=\"black\" d=\"M47.5,-341.75C47.5,-334.8 47.5,-324.85 47.5,-316.13\"/>\n",
       "<polygon fill=\"black\" stroke=\"black\" points=\"51,-316.09 47.5,-306.09 44,-316.09 51,-316.09\"/>\n",
       "</g>\n",
       "</g>\n",
       "</svg>\n"
      ],
      "text/plain": [
       "<graphviz.graphs.Digraph at 0x2765b1ea3e0>"
      ]
     },
     "execution_count": 348,
     "metadata": {},
     "output_type": "execute_result"
    }
   ],
   "source": [
    "# you can make it as complex as you wan# what if we set require_grad=False for b\n",
    "# step 0: Initialize parameters \"b\" and \"w\" randomly\n",
    "torch.manual_seed(42)\n",
    "b=torch.randn(1,requires_grad=True,dtype=torch.float32,device=device)\n",
    "w=torch.randn(1,requires_grad=True,dtype=torch.float32,device=device)\n",
    "\n",
    "# step 1: forward pass\n",
    "y_hat=w*X_train_tensor+b\n",
    "\n",
    "# step 2: compute the loss\n",
    "error=y_hat-y_train_tensor\n",
    "loss=torch.mean(torch.square(error))\n",
    "\n",
    "# make no sense\n",
    "if loss>0:\n",
    "    y_hat2=w*X_train_tensor\n",
    "    error2=y_hat2-y_train_tensor\n",
    "\n",
    "    loss+=torch.mean(torch.square(error2))\n",
    "\n",
    "# plot graph for any variable\n",
    "make_dot(loss)\n"
   ]
  },
  {
   "cell_type": "markdown",
   "metadata": {},
   "source": [
    "## Optmizer"
   ]
  },
  {
   "cell_type": "code",
   "execution_count": 351,
   "metadata": {},
   "outputs": [],
   "source": [
    " # Dont be fooled by optimizer name\n",
    "# Define optimizer to upadate parameters\n",
    "optimizer=optim.SGD([b,w],lr=0.001)"
   ]
  },
  {
   "cell_type": "code",
   "execution_count": 352,
   "metadata": {},
   "outputs": [
    {
     "data": {
      "application/vnd.jupyter.widget-view+json": {
       "model_id": "7e8ed455498548bf8192aa4cfecbf017",
       "version_major": 2,
       "version_minor": 0
      },
      "text/plain": [
       "  0%|          | 0/10000 [00:00<?, ?it/s]"
      ]
     },
     "metadata": {},
     "output_type": "display_data"
    },
    {
     "name": "stdout",
     "output_type": "stream",
     "text": [
      "b: tensor([0.9953], requires_grad=True)\n",
      "w: tensor([1.9849], requires_grad=True)\n"
     ]
    }
   ],
   "source": [
    "# set learning rate\n",
    "lr=0.001\n",
    "\n",
    "# initialization of parameters randomly\n",
    "torch.manual_seed(42)\n",
    "b=torch.randn(1,requires_grad=True,dtype=torch.float32,device=device)\n",
    "w=torch.randn(1,requires_grad=True,dtype=torch.float32,device=device)\n",
    "\n",
    "# define number of epochs\n",
    "n_epochs=10000\n",
    "\n",
    "# Define optimizer to update parameters\n",
    "optimizer=torch.optim.SGD([w,b],lr=lr)\n",
    "\n",
    "for epoch in tqdm(range(n_epochs)):\n",
    "    # forward pass\n",
    "    y_hat=w*X_train_tensor+b\n",
    "\n",
    "    # compute the loss\n",
    "    loss=torch.mean(torch.square(y_hat-y_train_tensor))\n",
    "\n",
    "    # compute gradients for b and w\n",
    "    loss.backward()\n",
    "\n",
    "    # update parameters\n",
    "    # nO more manual update\n",
    "    optimizer.step() # this will update parameters\n",
    "    optimizer.zero_grad() # set gradients to zero\n",
    "\n",
    "print(f\"b: {b}\\nw: {w}\")"
   ]
  },
  {
   "cell_type": "markdown",
   "metadata": {},
   "source": [
    "## Loss"
   ]
  },
  {
   "cell_type": "code",
   "execution_count": 359,
   "metadata": {},
   "outputs": [
    {
     "data": {
      "text/plain": [
       "MSELoss()"
      ]
     },
     "execution_count": 359,
     "metadata": {},
     "output_type": "execute_result"
    }
   ],
   "source": [
    "# Define MSE loss function\n",
    "loss_fn=nn.MSELoss(reduction='mean') # how do you aggregate errors of invidual samples\n",
    "loss_fn"
   ]
  },
  {
   "cell_type": "markdown",
   "metadata": {},
   "source": [
    "loss_fn(predictions,labels) ---> loss"
   ]
  },
  {
   "cell_type": "code",
   "execution_count": 380,
   "metadata": {},
   "outputs": [
    {
     "data": {
      "application/vnd.jupyter.widget-view+json": {
       "model_id": "e14c162c556e4ea7babfcce75765b726",
       "version_major": 2,
       "version_minor": 0
      },
      "text/plain": [
       "  0%|          | 0/56 [00:00<?, ?it/s]"
      ]
     },
     "metadata": {},
     "output_type": "display_data"
    },
    {
     "name": "stdout",
     "output_type": "stream",
     "text": [
      "b: tensor([0.9953], requires_grad=True)\n",
      "w: tensor([1.9848], requires_grad=True)\n"
     ]
    }
   ],
   "source": [
    "# set learning rate\n",
    "lr=0.1\n",
    "\n",
    "# initialization of parameters randomly\n",
    "torch.manual_seed(42)\n",
    "b=torch.randn(1,requires_grad=True,dtype=torch.float32,device=device)\n",
    "w=torch.randn(1,requires_grad=True,dtype=torch.float32,device=device)\n",
    "\n",
    "# define number of epochs\n",
    "n_epochs=56\n",
    "\n",
    "# Define optimizer to update parameters\n",
    "optimizer=torch.optim.SGD([w,b],lr=lr)\n",
    "\n",
    "for epoch in tqdm(range(n_epochs)):\n",
    "    # forward pass\n",
    "    y_hat=w*X_train_tensor+b\n",
    "\n",
    "    # compute the loss\n",
    "    loss_fn=torch.nn.MSELoss(reduction='mean')\n",
    "    loss=loss_fn(y_hat,y_train_tensor)\n",
    "\n",
    "    # compute gradients for b and w\n",
    "    loss.backward()\n",
    "\n",
    "    # update parameters\n",
    "    # nO more manual update\n",
    "    optimizer.step() # this will update parameters\n",
    "    optimizer.zero_grad() # set gradients to zero\n",
    "\n",
    "print(f\"b: {b}\\nw: {w}\")"
   ]
  },
  {
   "cell_type": "code",
   "execution_count": 384,
   "metadata": {},
   "outputs": [
    {
     "name": "stdout",
     "output_type": "stream",
     "text": [
      "tensor(0.0077, grad_fn=<MseLossBackward0>)\n"
     ]
    }
   ],
   "source": [
    "print(loss)"
   ]
  },
  {
   "cell_type": "code",
   "execution_count": 400,
   "metadata": {},
   "outputs": [],
   "source": [
    "# loss.cpu().numpy()"
   ]
  },
  {
   "cell_type": "markdown",
   "metadata": {},
   "source": [
    "<span style='color:red'>RuntimeError</span>: Can't call numpy() on Tensor that requires grad. Use tensor.detach().numpy() instead."
   ]
  },
  {
   "cell_type": "code",
   "execution_count": 387,
   "metadata": {},
   "outputs": [
    {
     "data": {
      "text/plain": [
       "array(0.00767691, dtype=float32)"
      ]
     },
     "execution_count": 387,
     "metadata": {},
     "output_type": "execute_result"
    }
   ],
   "source": [
    "loss.detach().cpu().numpy() # detach the tensor from computational graph and send it to CPU"
   ]
  },
  {
   "cell_type": "code",
   "execution_count": 389,
   "metadata": {},
   "outputs": [
    {
     "data": {
      "image/svg+xml": [
       "<?xml version=\"1.0\" encoding=\"UTF-8\" standalone=\"no\"?>\n",
       "<!DOCTYPE svg PUBLIC \"-//W3C//DTD SVG 1.1//EN\"\n",
       " \"http://www.w3.org/Graphics/SVG/1.1/DTD/svg11.dtd\">\n",
       "<!-- Generated by graphviz version 2.50.0 (0)\n",
       " -->\n",
       "<!-- Pages: 1 -->\n",
       "<svg width=\"222pt\" height=\"338pt\"\n",
       " viewBox=\"0.00 0.00 222.00 338.00\" xmlns=\"http://www.w3.org/2000/svg\" xmlns:xlink=\"http://www.w3.org/1999/xlink\">\n",
       "<g id=\"graph0\" class=\"graph\" transform=\"scale(1 1) rotate(0) translate(4 334)\">\n",
       "<polygon fill=\"white\" stroke=\"transparent\" points=\"-4,4 -4,-334 218,-334 218,4 -4,4\"/>\n",
       "<!-- 2707338257136 -->\n",
       "<g id=\"node1\" class=\"node\">\n",
       "<title>2707338257136</title>\n",
       "<polygon fill=\"#caff70\" stroke=\"black\" points=\"133.5,-31 79.5,-31 79.5,0 133.5,0 133.5,-31\"/>\n",
       "<text text-anchor=\"middle\" x=\"106.5\" y=\"-7\" font-family=\"monospace\" font-size=\"10.00\"> ()</text>\n",
       "</g>\n",
       "<!-- 2707418270784 -->\n",
       "<g id=\"node2\" class=\"node\">\n",
       "<title>2707418270784</title>\n",
       "<polygon fill=\"lightgrey\" stroke=\"black\" points=\"163,-86 50,-86 50,-67 163,-67 163,-86\"/>\n",
       "<text text-anchor=\"middle\" x=\"106.5\" y=\"-74\" font-family=\"monospace\" font-size=\"10.00\">MseLossBackward0</text>\n",
       "</g>\n",
       "<!-- 2707418270784&#45;&gt;2707338257136 -->\n",
       "<g id=\"edge7\" class=\"edge\">\n",
       "<title>2707418270784&#45;&gt;2707338257136</title>\n",
       "<path fill=\"none\" stroke=\"black\" d=\"M106.5,-66.79C106.5,-60.07 106.5,-50.4 106.5,-41.34\"/>\n",
       "<polygon fill=\"black\" stroke=\"black\" points=\"110,-41.19 106.5,-31.19 103,-41.19 110,-41.19\"/>\n",
       "</g>\n",
       "<!-- 2707418277840 -->\n",
       "<g id=\"node3\" class=\"node\">\n",
       "<title>2707418277840</title>\n",
       "<polygon fill=\"lightgrey\" stroke=\"black\" points=\"151,-141 62,-141 62,-122 151,-122 151,-141\"/>\n",
       "<text text-anchor=\"middle\" x=\"106.5\" y=\"-129\" font-family=\"monospace\" font-size=\"10.00\">AddBackward0</text>\n",
       "</g>\n",
       "<!-- 2707418277840&#45;&gt;2707418270784 -->\n",
       "<g id=\"edge1\" class=\"edge\">\n",
       "<title>2707418277840&#45;&gt;2707418270784</title>\n",
       "<path fill=\"none\" stroke=\"black\" d=\"M106.5,-121.75C106.5,-114.8 106.5,-104.85 106.5,-96.13\"/>\n",
       "<polygon fill=\"black\" stroke=\"black\" points=\"110,-96.09 106.5,-86.09 103,-96.09 110,-96.09\"/>\n",
       "</g>\n",
       "<!-- 2707418275488 -->\n",
       "<g id=\"node4\" class=\"node\">\n",
       "<title>2707418275488</title>\n",
       "<polygon fill=\"lightgrey\" stroke=\"black\" points=\"95,-196 6,-196 6,-177 95,-177 95,-196\"/>\n",
       "<text text-anchor=\"middle\" x=\"50.5\" y=\"-184\" font-family=\"monospace\" font-size=\"10.00\">MulBackward0</text>\n",
       "</g>\n",
       "<!-- 2707418275488&#45;&gt;2707418277840 -->\n",
       "<g id=\"edge2\" class=\"edge\">\n",
       "<title>2707418275488&#45;&gt;2707418277840</title>\n",
       "<path fill=\"none\" stroke=\"black\" d=\"M59.5,-176.98C67.69,-169.23 80.01,-157.58 89.97,-148.14\"/>\n",
       "<polygon fill=\"black\" stroke=\"black\" points=\"92.48,-150.59 97.34,-141.17 87.67,-145.5 92.48,-150.59\"/>\n",
       "</g>\n",
       "<!-- 2707418271600 -->\n",
       "<g id=\"node5\" class=\"node\">\n",
       "<title>2707418271600</title>\n",
       "<polygon fill=\"lightgrey\" stroke=\"black\" points=\"101,-257 0,-257 0,-238 101,-238 101,-257\"/>\n",
       "<text text-anchor=\"middle\" x=\"50.5\" y=\"-245\" font-family=\"monospace\" font-size=\"10.00\">AccumulateGrad</text>\n",
       "</g>\n",
       "<!-- 2707418271600&#45;&gt;2707418275488 -->\n",
       "<g id=\"edge3\" class=\"edge\">\n",
       "<title>2707418271600&#45;&gt;2707418275488</title>\n",
       "<path fill=\"none\" stroke=\"black\" d=\"M50.5,-237.79C50.5,-229.6 50.5,-217.06 50.5,-206.55\"/>\n",
       "<polygon fill=\"black\" stroke=\"black\" points=\"54,-206.24 50.5,-196.24 47,-206.24 54,-206.24\"/>\n",
       "</g>\n",
       "<!-- 2707415170512 -->\n",
       "<g id=\"node6\" class=\"node\">\n",
       "<title>2707415170512</title>\n",
       "<polygon fill=\"lightblue\" stroke=\"black\" points=\"77.5,-330 23.5,-330 23.5,-299 77.5,-299 77.5,-330\"/>\n",
       "<text text-anchor=\"middle\" x=\"50.5\" y=\"-306\" font-family=\"monospace\" font-size=\"10.00\"> (1)</text>\n",
       "</g>\n",
       "<!-- 2707415170512&#45;&gt;2707418271600 -->\n",
       "<g id=\"edge4\" class=\"edge\">\n",
       "<title>2707415170512&#45;&gt;2707418271600</title>\n",
       "<path fill=\"none\" stroke=\"black\" d=\"M50.5,-298.75C50.5,-289.39 50.5,-277.19 50.5,-267.16\"/>\n",
       "<polygon fill=\"black\" stroke=\"black\" points=\"54,-267.02 50.5,-257.02 47,-267.02 54,-267.02\"/>\n",
       "</g>\n",
       "<!-- 2707418279520 -->\n",
       "<g id=\"node7\" class=\"node\">\n",
       "<title>2707418279520</title>\n",
       "<polygon fill=\"lightgrey\" stroke=\"black\" points=\"214,-196 113,-196 113,-177 214,-177 214,-196\"/>\n",
       "<text text-anchor=\"middle\" x=\"163.5\" y=\"-184\" font-family=\"monospace\" font-size=\"10.00\">AccumulateGrad</text>\n",
       "</g>\n",
       "<!-- 2707418279520&#45;&gt;2707418277840 -->\n",
       "<g id=\"edge5\" class=\"edge\">\n",
       "<title>2707418279520&#45;&gt;2707418277840</title>\n",
       "<path fill=\"none\" stroke=\"black\" d=\"M154.34,-176.98C146,-169.23 133.47,-157.58 123.32,-148.14\"/>\n",
       "<polygon fill=\"black\" stroke=\"black\" points=\"125.53,-145.42 115.82,-141.17 120.76,-150.54 125.53,-145.42\"/>\n",
       "</g>\n",
       "<!-- 2707418226800 -->\n",
       "<g id=\"node8\" class=\"node\">\n",
       "<title>2707418226800</title>\n",
       "<polygon fill=\"lightblue\" stroke=\"black\" points=\"190.5,-263 136.5,-263 136.5,-232 190.5,-232 190.5,-263\"/>\n",
       "<text text-anchor=\"middle\" x=\"163.5\" y=\"-239\" font-family=\"monospace\" font-size=\"10.00\"> (1)</text>\n",
       "</g>\n",
       "<!-- 2707418226800&#45;&gt;2707418279520 -->\n",
       "<g id=\"edge6\" class=\"edge\">\n",
       "<title>2707418226800&#45;&gt;2707418279520</title>\n",
       "<path fill=\"none\" stroke=\"black\" d=\"M163.5,-231.92C163.5,-224.22 163.5,-214.69 163.5,-206.43\"/>\n",
       "<polygon fill=\"black\" stroke=\"black\" points=\"167,-206.25 163.5,-196.25 160,-206.25 167,-206.25\"/>\n",
       "</g>\n",
       "</g>\n",
       "</svg>\n"
      ],
      "text/plain": [
       "<graphviz.graphs.Digraph at 0x2765eaa1c00>"
      ]
     },
     "execution_count": 389,
     "metadata": {},
     "output_type": "execute_result"
    }
   ],
   "source": [
    "make_dot(loss)"
   ]
  },
  {
   "cell_type": "code",
   "execution_count": 399,
   "metadata": {},
   "outputs": [
    {
     "data": {
      "text/plain": [
       "(0.007676909677684307, 0.007676909677684307)"
      ]
     },
     "execution_count": 399,
     "metadata": {},
     "output_type": "execute_result"
    }
   ],
   "source": [
    "loss.item(), loss.tolist()  # for tensors with one element"
   ]
  },
  {
   "cell_type": "markdown",
   "metadata": {},
   "source": [
    "## Model"
   ]
  },
  {
   "cell_type": "code",
   "execution_count": null,
   "metadata": {},
   "outputs": [],
   "source": []
  }
 ],
 "metadata": {
  "kernelspec": {
   "display_name": "mleng",
   "language": "python",
   "name": "python3"
  },
  "language_info": {
   "codemirror_mode": {
    "name": "ipython",
    "version": 3
   },
   "file_extension": ".py",
   "mimetype": "text/x-python",
   "name": "python",
   "nbconvert_exporter": "python",
   "pygments_lexer": "ipython3",
   "version": "3.10.13"
  }
 },
 "nbformat": 4,
 "nbformat_minor": 2
}
