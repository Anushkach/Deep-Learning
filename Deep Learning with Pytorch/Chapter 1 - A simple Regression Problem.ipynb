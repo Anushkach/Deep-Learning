{
 "cells": [
  {
   "cell_type": "code",
   "execution_count": 81,
   "metadata": {},
   "outputs": [],
   "source": [
    "import numpy as np\n",
    "from sklearn.linear_model import LinearRegression\n",
    "from tqdm.notebook import tqdm\n",
    "import torch\n",
    "import torch.nn as nn\n",
    "import torch.optim as optim\n",
    "from torchviz import make_dot"
   ]
  },
  {
   "cell_type": "code",
   "execution_count": 82,
   "metadata": {},
   "outputs": [],
   "source": [
    "# Data Generation\n",
    "N=100\n",
    "true_w=2\n",
    "true_b=1\n",
    "np.random.seed(42) \n",
    "epsilon=0.1*np.random.randn(N,1)\n",
    "x=np.random.randn(N,1)\n",
    "y=true_w*x+true_b+epsilon\n",
    "\n",
    "idx=np.arange(N)\n",
    "np.random.shuffle(idx)\n",
    "train_idx=idx[:int(N*0.8)]\n",
    "valid_idx=idx[int(N*0.8):]\n",
    "\n",
    "X_train,y_train=x[train_idx],y[train_idx]\n",
    "X_valid,y_valid=x[valid_idx],y[valid_idx]"
   ]
  },
  {
   "cell_type": "code",
   "execution_count": 83,
   "metadata": {},
   "outputs": [
    {
     "name": "stdout",
     "output_type": "stream",
     "text": [
      "[-0.1382643] [0.49671415]\n"
     ]
    },
    {
     "data": {
      "application/vnd.jupyter.widget-view+json": {
       "model_id": "43b998f9baa3453fa145ee120ade9998",
       "version_major": 2,
       "version_minor": 0
      },
      "text/plain": [
       "  0%|          | 0/100000 [00:00<?, ?it/s]"
      ]
     },
     "metadata": {},
     "output_type": "display_data"
    },
    {
     "name": "stdout",
     "output_type": "stream",
     "text": [
      "b: 0.995364989969282,\tw: 1.9849523172037067\n"
     ]
    }
   ],
   "source": [
    "# step 0: Random nitiation of parameters\n",
    "np.random.seed(42)\n",
    "w=np.random.randn(1)\n",
    "b=np.random.randn(1)\n",
    "\n",
    "print(b,w)\n",
    "\n",
    "# Initialization of Hyperparameters\n",
    "lr=0.1\n",
    "n_epochs=100000\n",
    "\n",
    "# step 1: Forward pass\n",
    "for epoch in tqdm(range(n_epochs)):\n",
    "    y_hat=w*X_train+b\n",
    "\n",
    "# step 2: Computing Loss \n",
    "    loss=np.mean(np.square(y_train-y_hat))\n",
    "    \n",
    "# step 3: Computing Gradient\n",
    "    b_grad=2*np.mean(y_hat-y_train)\n",
    "    w_grad=2*np.mean(X_train*(y_hat-y_train))\n",
    "\n",
    "# step 4: Updating Parameters\n",
    "    b=b-lr*b_grad\n",
    "    w=w-lr*w_grad\n",
    "\n",
    "\n",
    "print(f\"b: {b[0]},\\tw: {w[0]}\")\n",
    "\n"
   ]
  },
  {
   "cell_type": "markdown",
   "metadata": {},
   "source": [
    "### Compare coefficients"
   ]
  },
  {
   "cell_type": "code",
   "execution_count": 84,
   "metadata": {},
   "outputs": [
    {
     "name": "stdout",
     "output_type": "stream",
     "text": [
      "b:0.9953649899692825, \tw:1.9849523172037076\n"
     ]
    }
   ],
   "source": [
    "model=LinearRegression()\n",
    "model.fit(X_train,y_train)\n",
    "print(f\"b:{model.intercept_[0]}, \\tw:{model.coef_[0][0]}\")"
   ]
  },
  {
   "cell_type": "markdown",
   "metadata": {},
   "source": [
    "## PyTorch Tensors"
   ]
  },
  {
   "cell_type": "code",
   "execution_count": 88,
   "metadata": {},
   "outputs": [
    {
     "name": "stdout",
     "output_type": "stream",
     "text": [
      "scalar: 3.141590118408203,\n",
      "vector: tensor([1, 2, 3]),\n",
      "matrix: tensor([[1., 1., 1.],\n",
      "        [1., 1., 1.]]),\n",
      "tensor: tensor([[[-0.3492, -0.4095, -0.2696],\n",
      "         [ 2.2542, -0.2061, -0.0727]],\n",
      "\n",
      "        [[-0.5932,  0.3901, -0.5249],\n",
      "         [-1.6120, -0.7686,  0.4766]]])\n"
     ]
    }
   ],
   "source": [
    "scalar=torch.tensor(3.14159)\n",
    "vector=torch.tensor([1,2,3])\n",
    "matrix=torch.ones((2,3))\n",
    "tensor=torch.randn((2,2,3),dtype=torch.float32) # 2 2x3 tensors\n",
    "\n",
    "print(f\"scalar: {scalar},\\nvector: {vector},\\nmatrix: {matrix},\\ntensor: {tensor}\")"
   ]
  },
  {
   "cell_type": "code",
   "execution_count": 89,
   "metadata": {},
   "outputs": [
    {
     "name": "stdout",
     "output_type": "stream",
     "text": [
      "torch.Size([2, 2, 3]) torch.Size([2, 2, 3])\n"
     ]
    }
   ],
   "source": [
    "# shape of a tensor\n",
    "print(tensor.shape, tensor.size())"
   ]
  },
  {
   "cell_type": "code",
   "execution_count": 91,
   "metadata": {},
   "outputs": [
    {
     "data": {
      "text/plain": [
       "(torch.Size([]), torch.Size([]))"
      ]
     },
     "execution_count": 91,
     "metadata": {},
     "output_type": "execute_result"
    }
   ],
   "source": [
    "scalar.size(),scalar.shape # scalars have empty shape beacuse they are dimensionless"
   ]
  }
 ],
 "metadata": {
  "kernelspec": {
   "display_name": "mleng",
   "language": "python",
   "name": "python3"
  },
  "language_info": {
   "codemirror_mode": {
    "name": "ipython",
    "version": 3
   },
   "file_extension": ".py",
   "mimetype": "text/x-python",
   "name": "python",
   "nbconvert_exporter": "python",
   "pygments_lexer": "ipython3",
   "version": "3.10.13"
  }
 },
 "nbformat": 4,
 "nbformat_minor": 2
}
