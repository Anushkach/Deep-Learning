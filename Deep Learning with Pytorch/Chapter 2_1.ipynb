{
 "cells": [
  {
   "cell_type": "code",
   "execution_count": 1,
   "metadata": {},
   "outputs": [
    {
     "name": "stdout",
     "output_type": "stream",
     "text": [
      "WARNING:tensorflow:From c:\\Users\\anush\\anaconda3\\envs\\mleng\\lib\\site-packages\\keras\\src\\losses.py:2976: The name tf.losses.sparse_softmax_cross_entropy is deprecated. Please use tf.compat.v1.losses.sparse_softmax_cross_entropy instead.\n",
      "\n"
     ]
    }
   ],
   "source": [
    "import numpy as np\n",
    "import datetime\n",
    "from tqdm.notebook import tqdm\n",
    "\n",
    "import torch\n",
    "import torch.nn as nn\n",
    "import torch.optim as optim\n",
    "import torch.functional as F\n",
    "from torch.utils.data import DataLoader, Dataset\n",
    "from torch.utils.tensorboard import SummaryWriter\n",
    "\n",
    "import matplotlib.pyplot as plt\n",
    "%matplotlib inline\n",
    "plt.style.use('fivethirtyeight')"
   ]
  },
  {
   "cell_type": "markdown",
   "metadata": {},
   "source": [
    "The Class"
   ]
  },
  {
   "cell_type": "code",
   "execution_count": 2,
   "metadata": {},
   "outputs": [],
   "source": [
    "# A completely empty class\n",
    "class StepByStep(object): \n",
    "    pass\n"
   ]
  },
  {
   "cell_type": "markdown",
   "metadata": {},
   "source": [
    "The constructor : Define parts(attributes) that make up the class  \n",
    "\n",
    " Typical attributes include:\n",
    " * arguments provided by user\n",
    " * placehlders for other objects that are currently unavailable\n",
    " * variables that needed be tracked of\n",
    " * functions that are dynamically built"
   ]
  },
  {
   "cell_type": "markdown",
   "metadata": {},
   "source": [
    "### 1. Arguments"
   ]
  },
  {
   "cell_type": "code",
   "execution_count": 3,
   "metadata": {},
   "outputs": [],
   "source": [
    "class StepByStep(object):\n",
    "    def __init__(self,model,loss_fn,optimizer):\n",
    "        # Here we use define the attributes of our class\n",
    "        # We start by storing the arguments as attributes to use later\n",
    "        self.model=model\n",
    "        self.loss_fn=loss_fn\n",
    "        self.optimizer=optimizer\n",
    "        self.device='cuda' if torch.cuda.is_aviailable() else 'cpu'\n",
    "        # lets send the model to the device\n",
    "        self.model.to(self.device)\n",
    "\n",
    "    def to(self,device):\n",
    "        # This method allows the user to specify a different device\n",
    "        # It sets corresponding attribute and sends the model to device\n",
    "        try:\n",
    "            self.device=device\n",
    "            self.model.to(self.device)\n",
    "        except RuntimeError: # runtime error is raised if the device is not avilaible\n",
    "            self.device=('cuda' if torch.cuda.is_available() else 'cpu')\n",
    "            print(f\"Couldnt send it to {device}, sending it to {self.device} instead\")\n",
    "            self.model.to(self.device)"
   ]
  },
  {
   "cell_type": "markdown",
   "metadata": {},
   "source": [
    "### 2. Placeholders/delayed arguments\n",
    "ex: Train and val loaders, summary writer"
   ]
  },
  {
   "cell_type": "code",
   "execution_count": 8,
   "metadata": {},
   "outputs": [],
   "source": [
    "class StepByStep(object):\n",
    "    # constructor\n",
    "    def __init__(self,model,loss_fn,optimizer):\n",
    "        # Here we use define the attributes of our class\n",
    "        # We start by storing the arguments as attributes to use later\n",
    "        self.model=model\n",
    "        self.loss_fn=loss_fn\n",
    "        self.optimizer=optimizer\n",
    "        self.device='cuda' if torch.cuda.is_aviailable() else 'cpu'\n",
    "        # Placeholders\n",
    "        self.train_loader=None\n",
    "        self.val_loader=None\n",
    "        self.writer=None\n",
    "        # lets send the model to the device\n",
    "        self.model.to(self.device)\n",
    "\n",
    "    def to(self,device):\n",
    "        # This method allows the user to specify a different device\n",
    "        # It sets corresponding attribute and sends the model to device\n",
    "        try:\n",
    "            self.device=device\n",
    "            self.model.to(self.device)\n",
    "        except RuntimeError: # runtime error is raised if the device is not avilaible\n",
    "            self.device=('cuda' if torch.cuda.is_available() else 'cpu')\n",
    "            print(f\"Couldnt send it to {device}, sending it to {self.device} instead\")\n",
    "            self.model.to(self.device)\n",
    "\n",
    "    def set_loaders(self,train_loader,val_loader=None):\n",
    "        # This method allows the user to specify the which loader to use\n",
    "        # Both loaders are then assign to corresponding attributes\n",
    "        self.train_loader=train_loader\n",
    "        self.val_loader=val_loader\n",
    "\n",
    "    def set_tensorboard(self,name,folder='runs'):\n",
    "        # This method allows the user to create a summarywriter to interface with tensorboard.\n",
    "        suffix=datetime.datetime.now().strftime('%Y%m%d%H%M%S')\n",
    "        self.writer=SummaryWriter(f\"{folder}/{name}_{suffix}\")\n",
    " \n",
    "\n"
   ]
  },
  {
   "cell_type": "markdown",
   "metadata": {},
   "source": [
    "### 3. Variables  \n",
    "### 4. Functions"
   ]
  },
  {
   "cell_type": "code",
   "execution_count": 12,
   "metadata": {},
   "outputs": [],
   "source": [
    "class StepByStep(object):\n",
    "    # constructor\n",
    "    def __init__(self,model,loss_fn,optimizer):\n",
    "        # Here we use define the attributes of our class\n",
    "        # We start by storing the arguments as attributes to use later\n",
    "        self.model=model\n",
    "        self.loss_fn=loss_fn\n",
    "        self.optimizer=optimizer\n",
    "        self.device='cuda' if torch.cuda.is_aviailable() else 'cpu'\n",
    "        # Placeholders\n",
    "        self.train_loader=None\n",
    "        self.val_loader=None\n",
    "        self.writer=None\n",
    "        # variables that needs to be keep track of\n",
    "        self.losses=[]\n",
    "        self.val_losses=[]\n",
    "        self.total_epochs=0\n",
    "        # create  train step function for model, loss function and optimizer\n",
    "        self.train_step_fn=self._make_train_step_fn() # There are no arguments. It make use of class attributes directly\n",
    "        # create validation step function for model and loss function\n",
    "        self.val_step_fn=self._make_val_step_fn()\n",
    "        # lets send the model to the device\n",
    "        self.model.to(self.device)\n",
    "\n",
    "    def to(self,device):\n",
    "        # This method allows the user to specify a different device\n",
    "        # It sets corresponding attribute and sends the model to device\n",
    "        try:\n",
    "            self.device=device\n",
    "            self.model.to(self.device)\n",
    "        except RuntimeError: # runtime error is raised if the device is not avilaible\n",
    "            self.device=('cuda' if torch.cuda.is_available() else 'cpu')\n",
    "            print(f\"Couldnt send it to {device}, sending it to {self.device} instead\")\n",
    "            self.model.to(self.device)\n",
    "\n",
    "    def set_loaders(self,train_loader,val_loader=None):\n",
    "        # This method allows the user to specify the which loader to use\n",
    "        # Both loaders are then assign to corresponding attributes\n",
    "        self.train_loader=train_loader\n",
    "        self.val_loader=val_loader\n",
    "\n",
    "    def set_tensorboard(self,name,folder='runs'):\n",
    "        # This method allows the user to create a summarywriter to interface with tensorboard.\n",
    "        suffix=datetime.datetime.now().strftime('%Y%m%d%H%M%S')\n",
    "        self.writer=SummaryWriter(f\"{folder}/{name}_{suffix}\")\n",
    " "
   ]
  },
  {
   "cell_type": "code",
   "execution_count": null,
   "metadata": {},
   "outputs": [],
   "source": []
  }
 ],
 "metadata": {
  "kernelspec": {
   "display_name": "mleng",
   "language": "python",
   "name": "python3"
  },
  "language_info": {
   "codemirror_mode": {
    "name": "ipython",
    "version": 3
   },
   "file_extension": ".py",
   "mimetype": "text/x-python",
   "name": "python",
   "nbconvert_exporter": "python",
   "pygments_lexer": "ipython3",
   "version": "3.10.13"
  }
 },
 "nbformat": 4,
 "nbformat_minor": 2
}
