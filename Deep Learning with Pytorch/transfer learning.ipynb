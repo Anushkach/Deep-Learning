{
 "cells": [
  {
   "cell_type": "code",
   "execution_count": 2,
   "metadata": {},
   "outputs": [
    {
     "name": "stdout",
     "output_type": "stream",
     "text": [
      "hello world\n"
     ]
    }
   ],
   "source": [
    "print(\"hello world\")"
   ]
  },
  {
   "cell_type": "code",
   "execution_count": 3,
   "metadata": {},
   "outputs": [
    {
     "name": "stderr",
     "output_type": "stream",
     "text": [
      "2024-03-14 22:51:12.630404: I external/local_tsl/tsl/cuda/cudart_stub.cc:31] Could not find cuda drivers on your machine, GPU will not be used.\n",
      "2024-03-14 22:51:12.879650: E external/local_xla/xla/stream_executor/cuda/cuda_dnn.cc:9261] Unable to register cuDNN factory: Attempting to register factory for plugin cuDNN when one has already been registered\n",
      "2024-03-14 22:51:12.879706: E external/local_xla/xla/stream_executor/cuda/cuda_fft.cc:607] Unable to register cuFFT factory: Attempting to register factory for plugin cuFFT when one has already been registered\n",
      "2024-03-14 22:51:12.893617: E external/local_xla/xla/stream_executor/cuda/cuda_blas.cc:1515] Unable to register cuBLAS factory: Attempting to register factory for plugin cuBLAS when one has already been registered\n",
      "2024-03-14 22:51:12.933179: I external/local_tsl/tsl/cuda/cudart_stub.cc:31] Could not find cuda drivers on your machine, GPU will not be used.\n",
      "2024-03-14 22:51:12.934042: I tensorflow/core/platform/cpu_feature_guard.cc:182] This TensorFlow binary is optimized to use available CPU instructions in performance-critical operations.\n",
      "To enable the following instructions: AVX2 FMA, in other operations, rebuild TensorFlow with the appropriate compiler flags.\n",
      "2024-03-14 22:51:14.898685: W tensorflow/compiler/tf2tensorrt/utils/py_utils.cc:38] TF-TRT Warning: Could not find TensorRT\n"
     ]
    }
   ],
   "source": [
    "import numpy as np\n",
    "from PIL import Image\n",
    "\n",
    "import torch\n",
    "import torch.nn as nn\n",
    "import torch.optim as optim\n",
    "import torch.nn.functional as F\n",
    "\n",
    "from torch.utils.data import DataLoader, Dataset, TensorDataset, random_split\n",
    "from torchvision.transforms import Compose, ToTensor,ToPILImage, Normalize, Resize, CenterCrop, RandomResizedCrop\n",
    "from torchvision.datasets import ImageFolder\n",
    "from torchvision.models import alexnet, resnet18, inception_v3\n",
    "from torch.hub import load_state_dict_from_url\n",
    "from stepbystep.v3 import StepByStep"
   ]
  },
  {
   "cell_type": "markdown",
   "metadata": {},
   "source": [
    "## Pre-Trained Model"
   ]
  },
  {
   "cell_type": "code",
   "execution_count": 4,
   "metadata": {},
   "outputs": [
    {
     "name": "stdout",
     "output_type": "stream",
     "text": [
      "AlexNet(\n",
      "  (features): Sequential(\n",
      "    (0): Conv2d(3, 64, kernel_size=(11, 11), stride=(4, 4), padding=(2, 2))\n",
      "    (1): ReLU(inplace=True)\n",
      "    (2): MaxPool2d(kernel_size=3, stride=2, padding=0, dilation=1, ceil_mode=False)\n",
      "    (3): Conv2d(64, 192, kernel_size=(5, 5), stride=(1, 1), padding=(2, 2))\n",
      "    (4): ReLU(inplace=True)\n",
      "    (5): MaxPool2d(kernel_size=3, stride=2, padding=0, dilation=1, ceil_mode=False)\n",
      "    (6): Conv2d(192, 384, kernel_size=(3, 3), stride=(1, 1), padding=(1, 1))\n",
      "    (7): ReLU(inplace=True)\n",
      "    (8): Conv2d(384, 256, kernel_size=(3, 3), stride=(1, 1), padding=(1, 1))\n",
      "    (9): ReLU(inplace=True)\n",
      "    (10): Conv2d(256, 256, kernel_size=(3, 3), stride=(1, 1), padding=(1, 1))\n",
      "    (11): ReLU(inplace=True)\n",
      "    (12): MaxPool2d(kernel_size=3, stride=2, padding=0, dilation=1, ceil_mode=False)\n",
      "  )\n",
      "  (avgpool): AdaptiveAvgPool2d(output_size=(6, 6))\n",
      "  (classifier): Sequential(\n",
      "    (0): Dropout(p=0.5, inplace=False)\n",
      "    (1): Linear(in_features=9216, out_features=4096, bias=True)\n",
      "    (2): ReLU(inplace=True)\n",
      "    (3): Dropout(p=0.5, inplace=False)\n",
      "    (4): Linear(in_features=4096, out_features=4096, bias=True)\n",
      "    (5): ReLU(inplace=True)\n",
      "    (6): Linear(in_features=4096, out_features=1000, bias=True)\n",
      "  )\n",
      ")\n"
     ]
    }
   ],
   "source": [
    "alex = alexnet(weights=None)\n",
    "print(alex)"
   ]
  },
  {
   "cell_type": "code",
   "execution_count": 5,
   "metadata": {},
   "outputs": [
    {
     "data": {
      "text/plain": [
       "==========================================================================================\n",
       "Layer (type:depth-idx)                   Output Shape              Param #\n",
       "==========================================================================================\n",
       "AlexNet                                  [16, 1000]                --\n",
       "├─Sequential: 1-1                        [16, 256, 6, 6]           --\n",
       "│    └─Conv2d: 2-1                       [16, 64, 55, 55]          23,296\n",
       "│    └─ReLU: 2-2                         [16, 64, 55, 55]          --\n",
       "│    └─MaxPool2d: 2-3                    [16, 64, 27, 27]          --\n",
       "│    └─Conv2d: 2-4                       [16, 192, 27, 27]         307,392\n",
       "│    └─ReLU: 2-5                         [16, 192, 27, 27]         --\n",
       "│    └─MaxPool2d: 2-6                    [16, 192, 13, 13]         --\n",
       "│    └─Conv2d: 2-7                       [16, 384, 13, 13]         663,936\n",
       "│    └─ReLU: 2-8                         [16, 384, 13, 13]         --\n",
       "│    └─Conv2d: 2-9                       [16, 256, 13, 13]         884,992\n",
       "│    └─ReLU: 2-10                        [16, 256, 13, 13]         --\n",
       "│    └─Conv2d: 2-11                      [16, 256, 13, 13]         590,080\n",
       "│    └─ReLU: 2-12                        [16, 256, 13, 13]         --\n",
       "│    └─MaxPool2d: 2-13                   [16, 256, 6, 6]           --\n",
       "├─AdaptiveAvgPool2d: 1-2                 [16, 256, 6, 6]           --\n",
       "├─Sequential: 1-3                        [16, 1000]                --\n",
       "│    └─Dropout: 2-14                     [16, 9216]                --\n",
       "│    └─Linear: 2-15                      [16, 4096]                37,752,832\n",
       "│    └─ReLU: 2-16                        [16, 4096]                --\n",
       "│    └─Dropout: 2-17                     [16, 4096]                --\n",
       "│    └─Linear: 2-18                      [16, 4096]                16,781,312\n",
       "│    └─ReLU: 2-19                        [16, 4096]                --\n",
       "│    └─Linear: 2-20                      [16, 1000]                4,097,000\n",
       "==========================================================================================\n",
       "Total params: 61,100,840\n",
       "Trainable params: 61,100,840\n",
       "Non-trainable params: 0\n",
       "Total mult-adds (G): 11.43\n",
       "==========================================================================================\n",
       "Input size (MB): 9.63\n",
       "Forward/backward pass size (MB): 63.26\n",
       "Params size (MB): 244.40\n",
       "Estimated Total Size (MB): 317.29\n",
       "=========================================================================================="
      ]
     },
     "execution_count": 5,
     "metadata": {},
     "output_type": "execute_result"
    }
   ],
   "source": [
    "from torchinfo import summary\n",
    "summary(alex,input_size=(16,3,224,224))"
   ]
  },
  {
   "cell_type": "markdown",
   "metadata": {},
   "source": [
    "### Average Pooling  \n",
    "Returns the tensor with desired shape regardless of the input shape"
   ]
  },
  {
   "cell_type": "code",
   "execution_count": 6,
   "metadata": {},
   "outputs": [
    {
     "data": {
      "text/plain": [
       "(torch.Size([16, 6, 6]), torch.Size([16, 6, 6]))"
      ]
     },
     "execution_count": 6,
     "metadata": {},
     "output_type": "execute_result"
    }
   ],
   "source": [
    "result1=F.adaptive_avg_pool2d(input=torch.randn(16,32,32),output_size=(6,6))\n",
    "result2=F.adaptive_avg_pool2d(input=torch.randn(16,32,32),output_size=(6,6))\n",
    "result1.shape,result2.shape"
   ]
  },
  {
   "cell_type": "markdown",
   "metadata": {},
   "source": [
    "### Loading Weights"
   ]
  },
  {
   "cell_type": "code",
   "execution_count": 7,
   "metadata": {},
   "outputs": [],
   "source": [
    "# URL for alexnet pretrained weights\n"
   ]
  },
  {
   "cell_type": "code",
   "execution_count": 8,
   "metadata": {},
   "outputs": [],
   "source": [
    "from torchvision.models import AlexNet_Weights\n",
    "alex=alexnet(weights=AlexNet_Weights.DEFAULT)"
   ]
  },
  {
   "cell_type": "code",
   "execution_count": 9,
   "metadata": {},
   "outputs": [
    {
     "name": "stdout",
     "output_type": "stream",
     "text": [
      "AlexNet(\n",
      "  (features): Sequential(\n",
      "    (0): Conv2d(3, 64, kernel_size=(11, 11), stride=(4, 4), padding=(2, 2))\n",
      "    (1): ReLU(inplace=True)\n",
      "    (2): MaxPool2d(kernel_size=3, stride=2, padding=0, dilation=1, ceil_mode=False)\n",
      "    (3): Conv2d(64, 192, kernel_size=(5, 5), stride=(1, 1), padding=(2, 2))\n",
      "    (4): ReLU(inplace=True)\n",
      "    (5): MaxPool2d(kernel_size=3, stride=2, padding=0, dilation=1, ceil_mode=False)\n",
      "    (6): Conv2d(192, 384, kernel_size=(3, 3), stride=(1, 1), padding=(1, 1))\n",
      "    (7): ReLU(inplace=True)\n",
      "    (8): Conv2d(384, 256, kernel_size=(3, 3), stride=(1, 1), padding=(1, 1))\n",
      "    (9): ReLU(inplace=True)\n",
      "    (10): Conv2d(256, 256, kernel_size=(3, 3), stride=(1, 1), padding=(1, 1))\n",
      "    (11): ReLU(inplace=True)\n",
      "    (12): MaxPool2d(kernel_size=3, stride=2, padding=0, dilation=1, ceil_mode=False)\n",
      "  )\n",
      "  (avgpool): AdaptiveAvgPool2d(output_size=(6, 6))\n",
      "  (classifier): Sequential(\n",
      "    (0): Dropout(p=0.5, inplace=False)\n",
      "    (1): Linear(in_features=9216, out_features=4096, bias=True)\n",
      "    (2): ReLU(inplace=True)\n",
      "    (3): Dropout(p=0.5, inplace=False)\n",
      "    (4): Linear(in_features=4096, out_features=4096, bias=True)\n",
      "    (5): ReLU(inplace=True)\n",
      "    (6): Linear(in_features=4096, out_features=1000, bias=True)\n",
      "  )\n",
      ")\n"
     ]
    }
   ],
   "source": [
    "print(alex)"
   ]
  },
  {
   "cell_type": "code",
   "execution_count": 10,
   "metadata": {},
   "outputs": [],
   "source": [
    "# Model freezing\n",
    "def freeze_model(model):\n",
    "    for parameter in model.parameters():\n",
    "        parameter.requires_grad=False"
   ]
  },
  {
   "cell_type": "code",
   "execution_count": 11,
   "metadata": {},
   "outputs": [],
   "source": [
    "freeze_model(alex)"
   ]
  },
  {
   "cell_type": "markdown",
   "metadata": {},
   "source": [
    "### Top of the model"
   ]
  },
  {
   "cell_type": "code",
   "execution_count": 12,
   "metadata": {},
   "outputs": [
    {
     "data": {
      "text/plain": [
       "Sequential(\n",
       "  (0): Dropout(p=0.5, inplace=False)\n",
       "  (1): Linear(in_features=9216, out_features=4096, bias=True)\n",
       "  (2): ReLU(inplace=True)\n",
       "  (3): Dropout(p=0.5, inplace=False)\n",
       "  (4): Linear(in_features=4096, out_features=4096, bias=True)\n",
       "  (5): ReLU(inplace=True)\n",
       "  (6): Linear(in_features=4096, out_features=1000, bias=True)\n",
       ")"
      ]
     },
     "execution_count": 12,
     "metadata": {},
     "output_type": "execute_result"
    }
   ],
   "source": [
    "alex.classifier"
   ]
  },
  {
   "cell_type": "code",
   "execution_count": 13,
   "metadata": {},
   "outputs": [],
   "source": [
    "#replacing the top of the model\n",
    "alex.classifier[6]=nn.Linear(4096,3)"
   ]
  },
  {
   "cell_type": "code",
   "execution_count": 14,
   "metadata": {},
   "outputs": [
    {
     "name": "stdout",
     "output_type": "stream",
     "text": [
      "classifier.6.weight\n",
      "classifier.6.bias\n"
     ]
    }
   ],
   "source": [
    "# Check for gradient calculation requirement of output layer\n",
    "for name,param in alex.named_parameters():\n",
    "    if param.requires_grad==True:\n",
    "        print(name)"
   ]
  },
  {
   "cell_type": "code",
   "execution_count": 15,
   "metadata": {},
   "outputs": [
    {
     "data": {
      "text/plain": [
       "==========================================================================================\n",
       "Layer (type:depth-idx)                   Output Shape              Param #\n",
       "==========================================================================================\n",
       "AlexNet                                  [1, 3]                    --\n",
       "├─Sequential: 1-1                        [1, 256, 6, 6]            --\n",
       "│    └─Conv2d: 2-1                       [1, 64, 55, 55]           (23,296)\n",
       "│    └─ReLU: 2-2                         [1, 64, 55, 55]           --\n",
       "│    └─MaxPool2d: 2-3                    [1, 64, 27, 27]           --\n",
       "│    └─Conv2d: 2-4                       [1, 192, 27, 27]          (307,392)\n",
       "│    └─ReLU: 2-5                         [1, 192, 27, 27]          --\n",
       "│    └─MaxPool2d: 2-6                    [1, 192, 13, 13]          --\n",
       "│    └─Conv2d: 2-7                       [1, 384, 13, 13]          (663,936)\n",
       "│    └─ReLU: 2-8                         [1, 384, 13, 13]          --\n",
       "│    └─Conv2d: 2-9                       [1, 256, 13, 13]          (884,992)\n",
       "│    └─ReLU: 2-10                        [1, 256, 13, 13]          --\n",
       "│    └─Conv2d: 2-11                      [1, 256, 13, 13]          (590,080)\n",
       "│    └─ReLU: 2-12                        [1, 256, 13, 13]          --\n",
       "│    └─MaxPool2d: 2-13                   [1, 256, 6, 6]            --\n",
       "├─AdaptiveAvgPool2d: 1-2                 [1, 256, 6, 6]            --\n",
       "├─Sequential: 1-3                        [1, 3]                    --\n",
       "│    └─Dropout: 2-14                     [1, 9216]                 --\n",
       "│    └─Linear: 2-15                      [1, 4096]                 (37,752,832)\n",
       "│    └─ReLU: 2-16                        [1, 4096]                 --\n",
       "│    └─Dropout: 2-17                     [1, 4096]                 --\n",
       "│    └─Linear: 2-18                      [1, 4096]                 (16,781,312)\n",
       "│    └─ReLU: 2-19                        [1, 4096]                 --\n",
       "│    └─Linear: 2-20                      [1, 3]                    12,291\n",
       "==========================================================================================\n",
       "Total params: 57,016,131\n",
       "Trainable params: 12,291\n",
       "Non-trainable params: 57,003,840\n",
       "Total mult-adds (M): 710.60\n",
       "==========================================================================================\n",
       "Input size (MB): 0.60\n",
       "Forward/backward pass size (MB): 3.95\n",
       "Params size (MB): 228.06\n",
       "Estimated Total Size (MB): 232.61\n",
       "=========================================================================================="
      ]
     },
     "execution_count": 15,
     "metadata": {},
     "output_type": "execute_result"
    }
   ],
   "source": [
    "summary(alex,input_size=(1,3,224,224))"
   ]
  },
  {
   "cell_type": "code",
   "execution_count": 16,
   "metadata": {},
   "outputs": [],
   "source": [
    "# Model config\n",
    "torch.manual_seed(17)\n",
    "multi_loss_fn=nn.CrossEntropyLoss(reduction='mean')\n",
    "optimizer_alex=optim.Adam(alex.parameters(),lr=3e-4)"
   ]
  },
  {
   "cell_type": "code",
   "execution_count": 17,
   "metadata": {},
   "outputs": [],
   "source": [
    "# Data prep\n",
    "normalizer=Normalize(mean=[0.485,0.456,0.406],std=[0.229,0.224,0.225])\n",
    "composer=Compose(transforms=[Resize(256),CenterCrop(224),ToTensor(),normalizer])\n",
    "\n",
    "train_data=ImageFolder(root='rps',transform=composer)\n",
    "val_data=ImageFolder(root='rps-test-set',transform=composer)\n",
    "\n",
    "train_loader=DataLoader(dataset=train_data,batch_size=16,shuffle=True)\n",
    "val_loader=DataLoader(dataset=val_data,batch_size=16)"
   ]
  },
  {
   "cell_type": "code",
   "execution_count": 18,
   "metadata": {},
   "outputs": [
    {
     "data": {
      "application/vnd.jupyter.widget-view+json": {
       "model_id": "0ee0e689e0ed44e996c143ee461b1a61",
       "version_major": 2,
       "version_minor": 0
      },
      "text/plain": [
       "  0%|          | 0/3 [00:00<?, ?it/s]"
      ]
     },
     "metadata": {},
     "output_type": "display_data"
    }
   ],
   "source": [
    "# Model Training\n",
    "sbs_alex=StepByStep(alex,multi_loss_fn,optimizer_alex)\n",
    "sbs_alex.set_loaders(train_loader,val_loader)\n",
    "sbs_alex.train(3)"
   ]
  },
  {
   "cell_type": "code",
   "execution_count": 19,
   "metadata": {},
   "outputs": [
    {
     "data": {
      "text/plain": [
       "tensor([[110, 124],\n",
       "        [124, 124],\n",
       "        [124, 124]])"
      ]
     },
     "execution_count": 19,
     "metadata": {},
     "output_type": "execute_result"
    }
   ],
   "source": [
    "StepByStep.loader_apply(val_loader,sbs_alex.correct)"
   ]
  },
  {
   "cell_type": "code",
   "execution_count": 20,
   "metadata": {},
   "outputs": [
    {
     "data": {
      "text/plain": [
       "tensor([[838, 840],\n",
       "        [839, 840],\n",
       "        [840, 840]])"
      ]
     },
     "execution_count": 20,
     "metadata": {},
     "output_type": "execute_result"
    }
   ],
   "source": [
    "StepByStep.loader_apply(train_loader,sbs_alex.correct)"
   ]
  },
  {
   "cell_type": "code",
   "execution_count": 21,
   "metadata": {},
   "outputs": [
    {
     "data": {
      "image/png": "[encoded data removed]",
      "text/plain": [
       "<Figure size 1000x400 with 1 Axes>"
      ]
     },
     "metadata": {},
     "output_type": "display_data"
    }
   ],
   "source": [
    "sbs_alex.plot_losses()"
   ]
  },
  {
   "cell_type": "markdown",
   "metadata": {},
   "source": [
    "## Generating a Dataset of features"
   ]
  },
  {
   "cell_type": "code",
   "execution_count": 23,
   "metadata": {},
   "outputs": [
    {
     "name": "stdout",
     "output_type": "stream",
     "text": [
      "Sequential(\n",
      "  (0): Dropout(p=0.5, inplace=False)\n",
      "  (1): Linear(in_features=9216, out_features=4096, bias=True)\n",
      "  (2): ReLU(inplace=True)\n",
      "  (3): Dropout(p=0.5, inplace=False)\n",
      "  (4): Linear(in_features=4096, out_features=4096, bias=True)\n",
      "  (5): ReLU(inplace=True)\n",
      "  (6): Identity()\n",
      ")\n"
     ]
    }
   ],
   "source": [
    "# Removing the Top layer\n",
    "alex.classifier[6]=nn.Identity()\n",
    "print(alex.classifier)"
   ]
  },
  {
   "cell_type": "code",
   "execution_count": 30,
   "metadata": {},
   "outputs": [],
   "source": [
    "from tqdm.notebook import tqdm\n",
    "\n",
    "def preprocessed_dataset(model,loader,device=None):\n",
    "    if device is None:\n",
    "        device=next(model.parameters()).device\n",
    "    features=None\n",
    "    labels=None\n",
    "\n",
    "    for i,(x,y) in tqdm(enumerate(loader)):\n",
    "        model.eval()\n",
    "        output=model(x.to(device))\n",
    "\n",
    "        if i==0:\n",
    "            features=output.detach().cpu()\n",
    "            labels=y.cpu()\n",
    "\n",
    "        else:\n",
    "            features=torch.cat([features,output.detach().cpu()])\n",
    "            labels=torch.cat([labels,y.cpu()])\n",
    "\n",
    "    dataset=TensorDataset(features,labels)\n",
    "    return dataset"
   ]
  },
  {
   "cell_type": "code",
   "execution_count": 31,
   "metadata": {},
   "outputs": [
    {
     "data": {
      "application/vnd.jupyter.widget-view+json": {
       "model_id": "e76ff0bbb9964870bd4c9af6c5b12321",
       "version_major": 2,
       "version_minor": 0
      },
      "text/plain": [
       "0it [00:00, ?it/s]"
      ]
     },
     "metadata": {},
     "output_type": "display_data"
    },
    {
     "data": {
      "application/vnd.jupyter.widget-view+json": {
       "model_id": "2c5c5c75ff3c4e1bba7ae1bb918e584d",
       "version_major": 2,
       "version_minor": 0
      },
      "text/plain": [
       "0it [00:00, ?it/s]"
      ]
     },
     "metadata": {},
     "output_type": "display_data"
    }
   ],
   "source": [
    "# Data preparation\n",
    "train_preproc=preprocessed_dataset(alex,train_loader)\n",
    "val_preproc=preprocessed_dataset(alex,val_loader)"
   ]
  },
  {
   "cell_type": "code",
   "execution_count": 44,
   "metadata": {},
   "outputs": [
    {
     "name": "stdout",
     "output_type": "stream",
     "text": [
      "/home/anushka/Documents/Deep-Learning/Deep Learning with Pytorch\n"
     ]
    }
   ],
   "source": [
    "!pwd"
   ]
  },
  {
   "cell_type": "markdown",
   "metadata": {},
   "source": [
    "Save pre processed dataset"
   ]
  },
  {
   "cell_type": "code",
   "execution_count": 45,
   "metadata": {},
   "outputs": [],
   "source": [
    "torch.save(train_preproc.tensors,'rps_preproc.pth')\n",
    "torch.save(val_preproc.tensors,'rps_val_preproc.pth')"
   ]
  },
  {
   "cell_type": "markdown",
   "metadata": {},
   "source": [
    "## Auxilary Classifiers (Side Heads)  \n",
    "Side heads attached to intermediate parts of the model try to perform callsification independently from main classifier. "
   ]
  },
  {
   "cell_type": "code",
   "execution_count": 57,
   "metadata": {},
   "outputs": [
    {
     "name": "stderr",
     "output_type": "stream",
     "text": [
      "/home/anushka/anaconda3/envs/torch/lib/python3.10/site-packages/torchvision/models/_utils.py:223: UserWarning: Arguments other than a weight enum or `None` for 'weights' are deprecated since 0.13 and may be removed in the future. The current behavior is equivalent to passing `weights=Inception_V3_Weights.IMAGENET1K_V1`. You can also use `weights=Inception_V3_Weights.DEFAULT` to get the most up-to-date weights.\n",
      "  warnings.warn(msg)\n",
      "Downloading: \"https://download.pytorch.org/models/inception_v3_google-0cc3c7bd.pth\" to /home/anushka/.cache/torch/hub/checkpoints/inception_v3_google-0cc3c7bd.pth\n",
      "100%|██████████| 104M/104M [04:52<00:00, 373kB/s] \n"
     ]
    }
   ],
   "source": [
    "# Loading pretrained inceptionv3 and replacing top layers\n",
    "from torchvision.models import Inception_V3_Weights\n",
    "model=inception_v3(weights=Inception_V3_Weights)\n",
    "freeze_model(model)\n",
    "\n",
    "torch.manual_seed(42)\n",
    "model.AuxLogits.fc=nn.Linear(768,3)\n",
    "model.fc=nn.Linear(2048,3)"
   ]
  },
  {
   "cell_type": "code",
   "execution_count": 61,
   "metadata": {},
   "outputs": [
    {
     "data": {
      "text/plain": [
       "==========================================================================================\n",
       "Layer (type:depth-idx)                   Output Shape              Param #\n",
       "==========================================================================================\n",
       "Inception3                               [16, 3]                   2,560,003\n",
       "├─BasicConv2d: 1-1                       [16, 32, 149, 149]        --\n",
       "│    └─Conv2d: 2-1                       [16, 32, 149, 149]        (864)\n",
       "│    └─BatchNorm2d: 2-2                  [16, 32, 149, 149]        (64)\n",
       "├─BasicConv2d: 1-2                       [16, 32, 147, 147]        --\n",
       "│    └─Conv2d: 2-3                       [16, 32, 147, 147]        (9,216)\n",
       "│    └─BatchNorm2d: 2-4                  [16, 32, 147, 147]        (64)\n",
       "├─BasicConv2d: 1-3                       [16, 64, 147, 147]        --\n",
       "│    └─Conv2d: 2-5                       [16, 64, 147, 147]        (18,432)\n",
       "│    └─BatchNorm2d: 2-6                  [16, 64, 147, 147]        (128)\n",
       "├─MaxPool2d: 1-4                         [16, 64, 73, 73]          --\n",
       "├─BasicConv2d: 1-5                       [16, 80, 73, 73]          --\n",
       "│    └─Conv2d: 2-7                       [16, 80, 73, 73]          (5,120)\n",
       "│    └─BatchNorm2d: 2-8                  [16, 80, 73, 73]          (160)\n",
       "├─BasicConv2d: 1-6                       [16, 192, 71, 71]         --\n",
       "│    └─Conv2d: 2-9                       [16, 192, 71, 71]         (138,240)\n",
       "│    └─BatchNorm2d: 2-10                 [16, 192, 71, 71]         (384)\n",
       "├─MaxPool2d: 1-7                         [16, 192, 35, 35]         --\n",
       "├─InceptionA: 1-8                        [16, 256, 35, 35]         --\n",
       "│    └─BasicConv2d: 2-11                 [16, 64, 35, 35]          --\n",
       "│    │    └─Conv2d: 3-1                  [16, 64, 35, 35]          (12,288)\n",
       "│    │    └─BatchNorm2d: 3-2             [16, 64, 35, 35]          (128)\n",
       "│    └─BasicConv2d: 2-12                 [16, 48, 35, 35]          --\n",
       "│    │    └─Conv2d: 3-3                  [16, 48, 35, 35]          (9,216)\n",
       "│    │    └─BatchNorm2d: 3-4             [16, 48, 35, 35]          (96)\n",
       "│    └─BasicConv2d: 2-13                 [16, 64, 35, 35]          --\n",
       "│    │    └─Conv2d: 3-5                  [16, 64, 35, 35]          (76,800)\n",
       "│    │    └─BatchNorm2d: 3-6             [16, 64, 35, 35]          (128)\n",
       "│    └─BasicConv2d: 2-14                 [16, 64, 35, 35]          --\n",
       "│    │    └─Conv2d: 3-7                  [16, 64, 35, 35]          (12,288)\n",
       "│    │    └─BatchNorm2d: 3-8             [16, 64, 35, 35]          (128)\n",
       "│    └─BasicConv2d: 2-15                 [16, 96, 35, 35]          --\n",
       "│    │    └─Conv2d: 3-9                  [16, 96, 35, 35]          (55,296)\n",
       "│    │    └─BatchNorm2d: 3-10            [16, 96, 35, 35]          (192)\n",
       "│    └─BasicConv2d: 2-16                 [16, 96, 35, 35]          --\n",
       "│    │    └─Conv2d: 3-11                 [16, 96, 35, 35]          (82,944)\n",
       "│    │    └─BatchNorm2d: 3-12            [16, 96, 35, 35]          (192)\n",
       "│    └─BasicConv2d: 2-17                 [16, 32, 35, 35]          --\n",
       "│    │    └─Conv2d: 3-13                 [16, 32, 35, 35]          (6,144)\n",
       "│    │    └─BatchNorm2d: 3-14            [16, 32, 35, 35]          (64)\n",
       "├─InceptionA: 1-9                        [16, 288, 35, 35]         --\n",
       "│    └─BasicConv2d: 2-18                 [16, 64, 35, 35]          --\n",
       "│    │    └─Conv2d: 3-15                 [16, 64, 35, 35]          (16,384)\n",
       "│    │    └─BatchNorm2d: 3-16            [16, 64, 35, 35]          (128)\n",
       "│    └─BasicConv2d: 2-19                 [16, 48, 35, 35]          --\n",
       "│    │    └─Conv2d: 3-17                 [16, 48, 35, 35]          (12,288)\n",
       "│    │    └─BatchNorm2d: 3-18            [16, 48, 35, 35]          (96)\n",
       "│    └─BasicConv2d: 2-20                 [16, 64, 35, 35]          --\n",
       "│    │    └─Conv2d: 3-19                 [16, 64, 35, 35]          (76,800)\n",
       "│    │    └─BatchNorm2d: 3-20            [16, 64, 35, 35]          (128)\n",
       "│    └─BasicConv2d: 2-21                 [16, 64, 35, 35]          --\n",
       "│    │    └─Conv2d: 3-21                 [16, 64, 35, 35]          (16,384)\n",
       "│    │    └─BatchNorm2d: 3-22            [16, 64, 35, 35]          (128)\n",
       "│    └─BasicConv2d: 2-22                 [16, 96, 35, 35]          --\n",
       "│    │    └─Conv2d: 3-23                 [16, 96, 35, 35]          (55,296)\n",
       "│    │    └─BatchNorm2d: 3-24            [16, 96, 35, 35]          (192)\n",
       "│    └─BasicConv2d: 2-23                 [16, 96, 35, 35]          --\n",
       "│    │    └─Conv2d: 3-25                 [16, 96, 35, 35]          (82,944)\n",
       "│    │    └─BatchNorm2d: 3-26            [16, 96, 35, 35]          (192)\n",
       "│    └─BasicConv2d: 2-24                 [16, 64, 35, 35]          --\n",
       "│    │    └─Conv2d: 3-27                 [16, 64, 35, 35]          (16,384)\n",
       "│    │    └─BatchNorm2d: 3-28            [16, 64, 35, 35]          (128)\n",
       "├─InceptionA: 1-10                       [16, 288, 35, 35]         --\n",
       "│    └─BasicConv2d: 2-25                 [16, 64, 35, 35]          --\n",
       "│    │    └─Conv2d: 3-29                 [16, 64, 35, 35]          (18,432)\n",
       "│    │    └─BatchNorm2d: 3-30            [16, 64, 35, 35]          (128)\n",
       "│    └─BasicConv2d: 2-26                 [16, 48, 35, 35]          --\n",
       "│    │    └─Conv2d: 3-31                 [16, 48, 35, 35]          (13,824)\n",
       "│    │    └─BatchNorm2d: 3-32            [16, 48, 35, 35]          (96)\n",
       "│    └─BasicConv2d: 2-27                 [16, 64, 35, 35]          --\n",
       "│    │    └─Conv2d: 3-33                 [16, 64, 35, 35]          (76,800)\n",
       "│    │    └─BatchNorm2d: 3-34            [16, 64, 35, 35]          (128)\n",
       "│    └─BasicConv2d: 2-28                 [16, 64, 35, 35]          --\n",
       "│    │    └─Conv2d: 3-35                 [16, 64, 35, 35]          (18,432)\n",
       "│    │    └─BatchNorm2d: 3-36            [16, 64, 35, 35]          (128)\n",
       "│    └─BasicConv2d: 2-29                 [16, 96, 35, 35]          --\n",
       "│    │    └─Conv2d: 3-37                 [16, 96, 35, 35]          (55,296)\n",
       "│    │    └─BatchNorm2d: 3-38            [16, 96, 35, 35]          (192)\n",
       "│    └─BasicConv2d: 2-30                 [16, 96, 35, 35]          --\n",
       "│    │    └─Conv2d: 3-39                 [16, 96, 35, 35]          (82,944)\n",
       "│    │    └─BatchNorm2d: 3-40            [16, 96, 35, 35]          (192)\n",
       "│    └─BasicConv2d: 2-31                 [16, 64, 35, 35]          --\n",
       "│    │    └─Conv2d: 3-41                 [16, 64, 35, 35]          (18,432)\n",
       "│    │    └─BatchNorm2d: 3-42            [16, 64, 35, 35]          (128)\n",
       "├─InceptionB: 1-11                       [16, 768, 17, 17]         --\n",
       "│    └─BasicConv2d: 2-32                 [16, 384, 17, 17]         --\n",
       "│    │    └─Conv2d: 3-43                 [16, 384, 17, 17]         (995,328)\n",
       "│    │    └─BatchNorm2d: 3-44            [16, 384, 17, 17]         (768)\n",
       "│    └─BasicConv2d: 2-33                 [16, 64, 35, 35]          --\n",
       "│    │    └─Conv2d: 3-45                 [16, 64, 35, 35]          (18,432)\n",
       "│    │    └─BatchNorm2d: 3-46            [16, 64, 35, 35]          (128)\n",
       "│    └─BasicConv2d: 2-34                 [16, 96, 35, 35]          --\n",
       "│    │    └─Conv2d: 3-47                 [16, 96, 35, 35]          (55,296)\n",
       "│    │    └─BatchNorm2d: 3-48            [16, 96, 35, 35]          (192)\n",
       "│    └─BasicConv2d: 2-35                 [16, 96, 17, 17]          --\n",
       "│    │    └─Conv2d: 3-49                 [16, 96, 17, 17]          (82,944)\n",
       "│    │    └─BatchNorm2d: 3-50            [16, 96, 17, 17]          (192)\n",
       "├─InceptionC: 1-12                       [16, 768, 17, 17]         --\n",
       "│    └─BasicConv2d: 2-36                 [16, 192, 17, 17]         --\n",
       "│    │    └─Conv2d: 3-51                 [16, 192, 17, 17]         (147,456)\n",
       "│    │    └─BatchNorm2d: 3-52            [16, 192, 17, 17]         (384)\n",
       "│    └─BasicConv2d: 2-37                 [16, 128, 17, 17]         --\n",
       "│    │    └─Conv2d: 3-53                 [16, 128, 17, 17]         (98,304)\n",
       "│    │    └─BatchNorm2d: 3-54            [16, 128, 17, 17]         (256)\n",
       "│    └─BasicConv2d: 2-38                 [16, 128, 17, 17]         --\n",
       "│    │    └─Conv2d: 3-55                 [16, 128, 17, 17]         (114,688)\n",
       "│    │    └─BatchNorm2d: 3-56            [16, 128, 17, 17]         (256)\n",
       "│    └─BasicConv2d: 2-39                 [16, 192, 17, 17]         --\n",
       "│    │    └─Conv2d: 3-57                 [16, 192, 17, 17]         (172,032)\n",
       "│    │    └─BatchNorm2d: 3-58            [16, 192, 17, 17]         (384)\n",
       "│    └─BasicConv2d: 2-40                 [16, 128, 17, 17]         --\n",
       "│    │    └─Conv2d: 3-59                 [16, 128, 17, 17]         (98,304)\n",
       "│    │    └─BatchNorm2d: 3-60            [16, 128, 17, 17]         (256)\n",
       "│    └─BasicConv2d: 2-41                 [16, 128, 17, 17]         --\n",
       "│    │    └─Conv2d: 3-61                 [16, 128, 17, 17]         (114,688)\n",
       "│    │    └─BatchNorm2d: 3-62            [16, 128, 17, 17]         (256)\n",
       "│    └─BasicConv2d: 2-42                 [16, 128, 17, 17]         --\n",
       "│    │    └─Conv2d: 3-63                 [16, 128, 17, 17]         (114,688)\n",
       "│    │    └─BatchNorm2d: 3-64            [16, 128, 17, 17]         (256)\n",
       "│    └─BasicConv2d: 2-43                 [16, 128, 17, 17]         --\n",
       "│    │    └─Conv2d: 3-65                 [16, 128, 17, 17]         (114,688)\n",
       "│    │    └─BatchNorm2d: 3-66            [16, 128, 17, 17]         (256)\n",
       "│    └─BasicConv2d: 2-44                 [16, 192, 17, 17]         --\n",
       "│    │    └─Conv2d: 3-67                 [16, 192, 17, 17]         (172,032)\n",
       "│    │    └─BatchNorm2d: 3-68            [16, 192, 17, 17]         (384)\n",
       "│    └─BasicConv2d: 2-45                 [16, 192, 17, 17]         --\n",
       "│    │    └─Conv2d: 3-69                 [16, 192, 17, 17]         (147,456)\n",
       "│    │    └─BatchNorm2d: 3-70            [16, 192, 17, 17]         (384)\n",
       "├─InceptionC: 1-13                       [16, 768, 17, 17]         --\n",
       "│    └─BasicConv2d: 2-46                 [16, 192, 17, 17]         --\n",
       "│    │    └─Conv2d: 3-71                 [16, 192, 17, 17]         (147,456)\n",
       "│    │    └─BatchNorm2d: 3-72            [16, 192, 17, 17]         (384)\n",
       "│    └─BasicConv2d: 2-47                 [16, 160, 17, 17]         --\n",
       "│    │    └─Conv2d: 3-73                 [16, 160, 17, 17]         (122,880)\n",
       "│    │    └─BatchNorm2d: 3-74            [16, 160, 17, 17]         (320)\n",
       "│    └─BasicConv2d: 2-48                 [16, 160, 17, 17]         --\n",
       "│    │    └─Conv2d: 3-75                 [16, 160, 17, 17]         (179,200)\n",
       "│    │    └─BatchNorm2d: 3-76            [16, 160, 17, 17]         (320)\n",
       "│    └─BasicConv2d: 2-49                 [16, 192, 17, 17]         --\n",
       "│    │    └─Conv2d: 3-77                 [16, 192, 17, 17]         (215,040)\n",
       "│    │    └─BatchNorm2d: 3-78            [16, 192, 17, 17]         (384)\n",
       "│    └─BasicConv2d: 2-50                 [16, 160, 17, 17]         --\n",
       "│    │    └─Conv2d: 3-79                 [16, 160, 17, 17]         (122,880)\n",
       "│    │    └─BatchNorm2d: 3-80            [16, 160, 17, 17]         (320)\n",
       "│    └─BasicConv2d: 2-51                 [16, 160, 17, 17]         --\n",
       "│    │    └─Conv2d: 3-81                 [16, 160, 17, 17]         (179,200)\n",
       "│    │    └─BatchNorm2d: 3-82            [16, 160, 17, 17]         (320)\n",
       "│    └─BasicConv2d: 2-52                 [16, 160, 17, 17]         --\n",
       "│    │    └─Conv2d: 3-83                 [16, 160, 17, 17]         (179,200)\n",
       "│    │    └─BatchNorm2d: 3-84            [16, 160, 17, 17]         (320)\n",
       "│    └─BasicConv2d: 2-53                 [16, 160, 17, 17]         --\n",
       "│    │    └─Conv2d: 3-85                 [16, 160, 17, 17]         (179,200)\n",
       "│    │    └─BatchNorm2d: 3-86            [16, 160, 17, 17]         (320)\n",
       "│    └─BasicConv2d: 2-54                 [16, 192, 17, 17]         --\n",
       "│    │    └─Conv2d: 3-87                 [16, 192, 17, 17]         (215,040)\n",
       "│    │    └─BatchNorm2d: 3-88            [16, 192, 17, 17]         (384)\n",
       "│    └─BasicConv2d: 2-55                 [16, 192, 17, 17]         --\n",
       "│    │    └─Conv2d: 3-89                 [16, 192, 17, 17]         (147,456)\n",
       "│    │    └─BatchNorm2d: 3-90            [16, 192, 17, 17]         (384)\n",
       "├─InceptionC: 1-14                       [16, 768, 17, 17]         --\n",
       "│    └─BasicConv2d: 2-56                 [16, 192, 17, 17]         --\n",
       "│    │    └─Conv2d: 3-91                 [16, 192, 17, 17]         (147,456)\n",
       "│    │    └─BatchNorm2d: 3-92            [16, 192, 17, 17]         (384)\n",
       "│    └─BasicConv2d: 2-57                 [16, 160, 17, 17]         --\n",
       "│    │    └─Conv2d: 3-93                 [16, 160, 17, 17]         (122,880)\n",
       "│    │    └─BatchNorm2d: 3-94            [16, 160, 17, 17]         (320)\n",
       "│    └─BasicConv2d: 2-58                 [16, 160, 17, 17]         --\n",
       "│    │    └─Conv2d: 3-95                 [16, 160, 17, 17]         (179,200)\n",
       "│    │    └─BatchNorm2d: 3-96            [16, 160, 17, 17]         (320)\n",
       "│    └─BasicConv2d: 2-59                 [16, 192, 17, 17]         --\n",
       "│    │    └─Conv2d: 3-97                 [16, 192, 17, 17]         (215,040)\n",
       "│    │    └─BatchNorm2d: 3-98            [16, 192, 17, 17]         (384)\n",
       "│    └─BasicConv2d: 2-60                 [16, 160, 17, 17]         --\n",
       "│    │    └─Conv2d: 3-99                 [16, 160, 17, 17]         (122,880)\n",
       "│    │    └─BatchNorm2d: 3-100           [16, 160, 17, 17]         (320)\n",
       "│    └─BasicConv2d: 2-61                 [16, 160, 17, 17]         --\n",
       "│    │    └─Conv2d: 3-101                [16, 160, 17, 17]         (179,200)\n",
       "│    │    └─BatchNorm2d: 3-102           [16, 160, 17, 17]         (320)\n",
       "│    └─BasicConv2d: 2-62                 [16, 160, 17, 17]         --\n",
       "│    │    └─Conv2d: 3-103                [16, 160, 17, 17]         (179,200)\n",
       "│    │    └─BatchNorm2d: 3-104           [16, 160, 17, 17]         (320)\n",
       "│    └─BasicConv2d: 2-63                 [16, 160, 17, 17]         --\n",
       "│    │    └─Conv2d: 3-105                [16, 160, 17, 17]         (179,200)\n",
       "│    │    └─BatchNorm2d: 3-106           [16, 160, 17, 17]         (320)\n",
       "│    └─BasicConv2d: 2-64                 [16, 192, 17, 17]         --\n",
       "│    │    └─Conv2d: 3-107                [16, 192, 17, 17]         (215,040)\n",
       "│    │    └─BatchNorm2d: 3-108           [16, 192, 17, 17]         (384)\n",
       "│    └─BasicConv2d: 2-65                 [16, 192, 17, 17]         --\n",
       "│    │    └─Conv2d: 3-109                [16, 192, 17, 17]         (147,456)\n",
       "│    │    └─BatchNorm2d: 3-110           [16, 192, 17, 17]         (384)\n",
       "├─InceptionC: 1-15                       [16, 768, 17, 17]         --\n",
       "│    └─BasicConv2d: 2-66                 [16, 192, 17, 17]         --\n",
       "│    │    └─Conv2d: 3-111                [16, 192, 17, 17]         (147,456)\n",
       "│    │    └─BatchNorm2d: 3-112           [16, 192, 17, 17]         (384)\n",
       "│    └─BasicConv2d: 2-67                 [16, 192, 17, 17]         --\n",
       "│    │    └─Conv2d: 3-113                [16, 192, 17, 17]         (147,456)\n",
       "│    │    └─BatchNorm2d: 3-114           [16, 192, 17, 17]         (384)\n",
       "│    └─BasicConv2d: 2-68                 [16, 192, 17, 17]         --\n",
       "│    │    └─Conv2d: 3-115                [16, 192, 17, 17]         (258,048)\n",
       "│    │    └─BatchNorm2d: 3-116           [16, 192, 17, 17]         (384)\n",
       "│    └─BasicConv2d: 2-69                 [16, 192, 17, 17]         --\n",
       "│    │    └─Conv2d: 3-117                [16, 192, 17, 17]         (258,048)\n",
       "│    │    └─BatchNorm2d: 3-118           [16, 192, 17, 17]         (384)\n",
       "│    └─BasicConv2d: 2-70                 [16, 192, 17, 17]         --\n",
       "│    │    └─Conv2d: 3-119                [16, 192, 17, 17]         (147,456)\n",
       "│    │    └─BatchNorm2d: 3-120           [16, 192, 17, 17]         (384)\n",
       "│    └─BasicConv2d: 2-71                 [16, 192, 17, 17]         --\n",
       "│    │    └─Conv2d: 3-121                [16, 192, 17, 17]         (258,048)\n",
       "│    │    └─BatchNorm2d: 3-122           [16, 192, 17, 17]         (384)\n",
       "│    └─BasicConv2d: 2-72                 [16, 192, 17, 17]         --\n",
       "│    │    └─Conv2d: 3-123                [16, 192, 17, 17]         (258,048)\n",
       "│    │    └─BatchNorm2d: 3-124           [16, 192, 17, 17]         (384)\n",
       "│    └─BasicConv2d: 2-73                 [16, 192, 17, 17]         --\n",
       "│    │    └─Conv2d: 3-125                [16, 192, 17, 17]         (258,048)\n",
       "│    │    └─BatchNorm2d: 3-126           [16, 192, 17, 17]         (384)\n",
       "│    └─BasicConv2d: 2-74                 [16, 192, 17, 17]         --\n",
       "│    │    └─Conv2d: 3-127                [16, 192, 17, 17]         (258,048)\n",
       "│    │    └─BatchNorm2d: 3-128           [16, 192, 17, 17]         (384)\n",
       "│    └─BasicConv2d: 2-75                 [16, 192, 17, 17]         --\n",
       "│    │    └─Conv2d: 3-129                [16, 192, 17, 17]         (147,456)\n",
       "│    │    └─BatchNorm2d: 3-130           [16, 192, 17, 17]         (384)\n",
       "├─InceptionD: 1-16                       [16, 1280, 8, 8]          --\n",
       "│    └─BasicConv2d: 2-76                 [16, 192, 17, 17]         --\n",
       "│    │    └─Conv2d: 3-131                [16, 192, 17, 17]         (147,456)\n",
       "│    │    └─BatchNorm2d: 3-132           [16, 192, 17, 17]         (384)\n",
       "│    └─BasicConv2d: 2-77                 [16, 320, 8, 8]           --\n",
       "│    │    └─Conv2d: 3-133                [16, 320, 8, 8]           (552,960)\n",
       "│    │    └─BatchNorm2d: 3-134           [16, 320, 8, 8]           (640)\n",
       "│    └─BasicConv2d: 2-78                 [16, 192, 17, 17]         --\n",
       "│    │    └─Conv2d: 3-135                [16, 192, 17, 17]         (147,456)\n",
       "│    │    └─BatchNorm2d: 3-136           [16, 192, 17, 17]         (384)\n",
       "│    └─BasicConv2d: 2-79                 [16, 192, 17, 17]         --\n",
       "│    │    └─Conv2d: 3-137                [16, 192, 17, 17]         (258,048)\n",
       "│    │    └─BatchNorm2d: 3-138           [16, 192, 17, 17]         (384)\n",
       "│    └─BasicConv2d: 2-80                 [16, 192, 17, 17]         --\n",
       "│    │    └─Conv2d: 3-139                [16, 192, 17, 17]         (258,048)\n",
       "│    │    └─BatchNorm2d: 3-140           [16, 192, 17, 17]         (384)\n",
       "│    └─BasicConv2d: 2-81                 [16, 192, 8, 8]           --\n",
       "│    │    └─Conv2d: 3-141                [16, 192, 8, 8]           (331,776)\n",
       "│    │    └─BatchNorm2d: 3-142           [16, 192, 8, 8]           (384)\n",
       "├─InceptionE: 1-17                       [16, 2048, 8, 8]          --\n",
       "│    └─BasicConv2d: 2-82                 [16, 320, 8, 8]           --\n",
       "│    │    └─Conv2d: 3-143                [16, 320, 8, 8]           (409,600)\n",
       "│    │    └─BatchNorm2d: 3-144           [16, 320, 8, 8]           (640)\n",
       "│    └─BasicConv2d: 2-83                 [16, 384, 8, 8]           --\n",
       "│    │    └─Conv2d: 3-145                [16, 384, 8, 8]           (491,520)\n",
       "│    │    └─BatchNorm2d: 3-146           [16, 384, 8, 8]           (768)\n",
       "│    └─BasicConv2d: 2-84                 [16, 384, 8, 8]           --\n",
       "│    │    └─Conv2d: 3-147                [16, 384, 8, 8]           (442,368)\n",
       "│    │    └─BatchNorm2d: 3-148           [16, 384, 8, 8]           (768)\n",
       "│    └─BasicConv2d: 2-85                 [16, 384, 8, 8]           --\n",
       "│    │    └─Conv2d: 3-149                [16, 384, 8, 8]           (442,368)\n",
       "│    │    └─BatchNorm2d: 3-150           [16, 384, 8, 8]           (768)\n",
       "│    └─BasicConv2d: 2-86                 [16, 448, 8, 8]           --\n",
       "│    │    └─Conv2d: 3-151                [16, 448, 8, 8]           (573,440)\n",
       "│    │    └─BatchNorm2d: 3-152           [16, 448, 8, 8]           (896)\n",
       "│    └─BasicConv2d: 2-87                 [16, 384, 8, 8]           --\n",
       "│    │    └─Conv2d: 3-153                [16, 384, 8, 8]           (1,548,288)\n",
       "│    │    └─BatchNorm2d: 3-154           [16, 384, 8, 8]           (768)\n",
       "│    └─BasicConv2d: 2-88                 [16, 384, 8, 8]           --\n",
       "│    │    └─Conv2d: 3-155                [16, 384, 8, 8]           (442,368)\n",
       "│    │    └─BatchNorm2d: 3-156           [16, 384, 8, 8]           (768)\n",
       "│    └─BasicConv2d: 2-89                 [16, 384, 8, 8]           --\n",
       "│    │    └─Conv2d: 3-157                [16, 384, 8, 8]           (442,368)\n",
       "│    │    └─BatchNorm2d: 3-158           [16, 384, 8, 8]           (768)\n",
       "│    └─BasicConv2d: 2-90                 [16, 192, 8, 8]           --\n",
       "│    │    └─Conv2d: 3-159                [16, 192, 8, 8]           (245,760)\n",
       "│    │    └─BatchNorm2d: 3-160           [16, 192, 8, 8]           (384)\n",
       "├─InceptionE: 1-18                       [16, 2048, 8, 8]          --\n",
       "│    └─BasicConv2d: 2-91                 [16, 320, 8, 8]           --\n",
       "│    │    └─Conv2d: 3-161                [16, 320, 8, 8]           (655,360)\n",
       "│    │    └─BatchNorm2d: 3-162           [16, 320, 8, 8]           (640)\n",
       "│    └─BasicConv2d: 2-92                 [16, 384, 8, 8]           --\n",
       "│    │    └─Conv2d: 3-163                [16, 384, 8, 8]           (786,432)\n",
       "│    │    └─BatchNorm2d: 3-164           [16, 384, 8, 8]           (768)\n",
       "│    └─BasicConv2d: 2-93                 [16, 384, 8, 8]           --\n",
       "│    │    └─Conv2d: 3-165                [16, 384, 8, 8]           (442,368)\n",
       "│    │    └─BatchNorm2d: 3-166           [16, 384, 8, 8]           (768)\n",
       "│    └─BasicConv2d: 2-94                 [16, 384, 8, 8]           --\n",
       "│    │    └─Conv2d: 3-167                [16, 384, 8, 8]           (442,368)\n",
       "│    │    └─BatchNorm2d: 3-168           [16, 384, 8, 8]           (768)\n",
       "│    └─BasicConv2d: 2-95                 [16, 448, 8, 8]           --\n",
       "│    │    └─Conv2d: 3-169                [16, 448, 8, 8]           (917,504)\n",
       "│    │    └─BatchNorm2d: 3-170           [16, 448, 8, 8]           (896)\n",
       "│    └─BasicConv2d: 2-96                 [16, 384, 8, 8]           --\n",
       "│    │    └─Conv2d: 3-171                [16, 384, 8, 8]           (1,548,288)\n",
       "│    │    └─BatchNorm2d: 3-172           [16, 384, 8, 8]           (768)\n",
       "│    └─BasicConv2d: 2-97                 [16, 384, 8, 8]           --\n",
       "│    │    └─Conv2d: 3-173                [16, 384, 8, 8]           (442,368)\n",
       "│    │    └─BatchNorm2d: 3-174           [16, 384, 8, 8]           (768)\n",
       "│    └─BasicConv2d: 2-98                 [16, 384, 8, 8]           --\n",
       "│    │    └─Conv2d: 3-175                [16, 384, 8, 8]           (442,368)\n",
       "│    │    └─BatchNorm2d: 3-176           [16, 384, 8, 8]           (768)\n",
       "│    └─BasicConv2d: 2-99                 [16, 192, 8, 8]           --\n",
       "│    │    └─Conv2d: 3-177                [16, 192, 8, 8]           (393,216)\n",
       "│    │    └─BatchNorm2d: 3-178           [16, 192, 8, 8]           (384)\n",
       "├─AdaptiveAvgPool2d: 1-19                [16, 2048, 1, 1]          --\n",
       "├─Dropout: 1-20                          [16, 2048, 1, 1]          --\n",
       "├─Linear: 1-21                           [16, 3]                   6,147\n",
       "==========================================================================================\n",
       "Total params: 24,351,718\n",
       "Trainable params: 8,454\n",
       "Non-trainable params: 24,343,264\n",
       "Total mult-adds (G): 91.38\n",
       "==========================================================================================\n",
       "Input size (MB): 17.17\n",
       "Forward/backward pass size (MB): 2295.68\n",
       "Params size (MB): 87.17\n",
       "Estimated Total Size (MB): 2400.01\n",
       "=========================================================================================="
      ]
     },
     "execution_count": 61,
     "metadata": {},
     "output_type": "execute_result"
    }
   ],
   "source": [
    "summary(model,input_size=(16,3,299,299))"
   ]
  },
  {
   "cell_type": "code",
   "execution_count": 62,
   "metadata": {},
   "outputs": [],
   "source": [
    "def inception_loss(outputs,labels):\n",
    "    try:\n",
    "        main,aux=outputs\n",
    "    except ValueError:\n",
    "        main=outputs\n",
    "        aux=None\n",
    "        loss_aux=0\n",
    "    \n",
    "    multi_loss_fn=nn.CrossEntropyLoss(reduction='mean')\n",
    "    loss_main=multi_loss_fn(main,labels)\n",
    "\n",
    "    if aux is not None:\n",
    "        loss_aux=multi_loss_fn(aux,labels)\n",
    "    return loss_main+0.4*loss_aux"
   ]
  },
  {
   "cell_type": "code",
   "execution_count": 63,
   "metadata": {},
   "outputs": [],
   "source": [
    "# model config\n",
    "optimizer_model=optim.Adam(model.parameters(),lr=3e-4)\n",
    "sbs_incep=StepByStep(model,inception_loss,optimizer_model)"
   ]
  },
  {
   "cell_type": "markdown",
   "metadata": {},
   "source": [
    "We do not pre processed the dataset since preprocessed_dataset() cannot handle multiple outputs"
   ]
  },
  {
   "cell_type": "code",
   "execution_count": 67,
   "metadata": {},
   "outputs": [],
   "source": [
    "# Data prep\n",
    "normalizer=Normalize(mean=[0.485,0.456,0.406],std=[0.229,0.224,0.225])\n",
    "composer=Compose(transforms=[Resize(299),ToTensor(),normalizer])\n",
    "\n",
    "train_data=ImageFolder(root='rps',transform=composer)\n",
    "val_data=ImageFolder(root='rps-test-set',transform=composer)\n",
    "\n",
    "train_loader=DataLoader(dataset=train_data,batch_size=16,shuffle=True)\n",
    "val_loader=DataLoader(dataset=val_data,batch_size=16)"
   ]
  },
  {
   "cell_type": "code",
   "execution_count": 68,
   "metadata": {},
   "outputs": [
    {
     "data": {
      "application/vnd.jupyter.widget-view+json": {
       "model_id": "4248fb3bb68d436e95a2ff8403ed23cf",
       "version_major": 2,
       "version_minor": 0
      },
      "text/plain": [
       "  0%|          | 0/5 [00:00<?, ?it/s]"
      ]
     },
     "metadata": {},
     "output_type": "display_data"
    }
   ],
   "source": [
    "# Model Training\n",
    "sbs_incep.set_loaders(train_loader,val_loader)\n",
    "sbs_incep.train(5)"
   ]
  },
  {
   "cell_type": "code",
   "execution_count": null,
   "metadata": {},
   "outputs": [],
   "source": []
  }
 ],
 "metadata": {
  "kernelspec": {
   "display_name": "torch",
   "language": "python",
   "name": "python3"
  },
  "language_info": {
   "codemirror_mode": {
    "name": "ipython",
    "version": 3
   },
   "file_extension": ".py",
   "mimetype": "text/x-python",
   "name": "python",
   "nbconvert_exporter": "python",
   "pygments_lexer": "ipython3",
   "version": "3.10.13"
  }
 },
 "nbformat": 4,
 "nbformat_minor": 2
}
