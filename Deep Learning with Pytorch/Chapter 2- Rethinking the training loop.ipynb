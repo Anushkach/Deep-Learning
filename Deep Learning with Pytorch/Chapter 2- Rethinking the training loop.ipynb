{
 "cells": [
  {
   "cell_type": "markdown",
   "metadata": {},
   "source": [
    "## Imports"
   ]
  },
  {
   "cell_type": "code",
   "execution_count": 564,
   "metadata": {},
   "outputs": [],
   "source": [
    "import numpy as np\n",
    "from sklearn.linear_model import LinearRegression\n",
    "\n",
    "from tqdm.notebook import tqdm\n",
    "import torch\n",
    "import torch.nn as nn\n",
    "import torch.optim as optim\n",
    "from torch.utils.data import Dataset, TensorDataset, DataLoader\n",
    "from torch.utils.data.dataset import random_split\n",
    "from torch.utils.tensorboard import SummaryWriter\n",
    "\n",
    "import matplotlib.pyplot as plt\n",
    "%matplotlib inline\n",
    "plt.style.use('fivethirtyeight')"
   ]
  },
  {
   "cell_type": "markdown",
   "metadata": {},
   "source": [
    "## Higher Order functions"
   ]
  },
  {
   "cell_type": "code",
   "execution_count": 565,
   "metadata": {},
   "outputs": [],
   "source": [
    "# series of functions performing exponentiation to given power\n",
    "def square(x):\n",
    "    return x**2\n",
    "\n",
    "def cube(x):\n",
    "    return x**3\n",
    "\n",
    "# make exponent and explicit argument\n",
    "def generic_exp(x,exponent): # requires specify the exponent everytime you call the function\n",
    "    return x**exponent\n",
    "\n"
   ]
  },
  {
   "cell_type": "markdown",
   "metadata": {},
   "source": [
    "We need higher order function(function builder) to build functions (square,cube ...)"
   ]
  },
  {
   "cell_type": "code",
   "execution_count": 566,
   "metadata": {},
   "outputs": [],
   "source": [
    "def skeleton_exponentiation(x):\n",
    "    return x**exponent"
   ]
  },
  {
   "cell_type": "code",
   "execution_count": 567,
   "metadata": {},
   "outputs": [],
   "source": [
    "# skeleton_exponentiation(2)"
   ]
  },
  {
   "cell_type": "markdown",
   "metadata": {},
   "source": [
    "<span style=\"color:red\">---------------------------------------------------------------------------</span>  \n",
    "<span style=\"color:red\">NameError</span>                                 Traceback (most recent call last)  \n",
    "Cell In[9], line 1  \n",
    "<span style=\"color:green\">----> 1 skeleton_exponentiation(2)</span>  \n",
    "  \n",
    "Cell In[8], line 2  \n",
    "      1 def skeleton_exponentiation(x):  \n",
    "<span style=\"color:green\">----> 2     return x**exponent</span>  \n",
    "  \n",
    "<span style=\"color:red\">NameError</span>: name 'exponent' is not defined  "
   ]
  },
  {
   "cell_type": "code",
   "execution_count": 568,
   "metadata": {},
   "outputs": [],
   "source": [
    "def exponentiation_builder(exponent):\n",
    "    def skeleton_exponentiation(x):\n",
    "        return x**exponent\n",
    "\n",
    "    return skeleton_exponentiation"
   ]
  },
  {
   "cell_type": "code",
   "execution_count": 569,
   "metadata": {},
   "outputs": [
    {
     "data": {
      "text/plain": [
       "<function __main__.exponentiation_builder.<locals>.skeleton_exponentiation(x)>"
      ]
     },
     "execution_count": 569,
     "metadata": {},
     "output_type": "execute_result"
    }
   ],
   "source": [
    "returned_function=exponentiation_builder(2)\n",
    "returned_function"
   ]
  },
  {
   "cell_type": "code",
   "execution_count": 570,
   "metadata": {},
   "outputs": [
    {
     "data": {
      "text/plain": [
       "16"
      ]
     },
     "execution_count": 570,
     "metadata": {},
     "output_type": "execute_result"
    }
   ],
   "source": [
    "exponentiation_builder(2)(4)"
   ]
  },
  {
   "cell_type": "code",
   "execution_count": 571,
   "metadata": {},
   "outputs": [
    {
     "data": {
      "text/plain": [
       "25"
      ]
     },
     "execution_count": 571,
     "metadata": {},
     "output_type": "execute_result"
    }
   ],
   "source": [
    "returned_function(5)"
   ]
  },
  {
   "cell_type": "code",
   "execution_count": 572,
   "metadata": {},
   "outputs": [
    {
     "data": {
      "text/plain": [
       "125"
      ]
     },
     "execution_count": 572,
     "metadata": {},
     "output_type": "execute_result"
    }
   ],
   "source": [
    "cube=exponentiation_builder(3)\n",
    "cube(5)"
   ]
  },
  {
   "cell_type": "code",
   "execution_count": 573,
   "metadata": {},
   "outputs": [],
   "source": [
    "# Helper functiom 1\n",
    "def make_train_step(model,loss_fn,optimizer): \n",
    "    # Build a function that perform a step in the train loop\n",
    "    def perform_train_step_fn(x,y):\n",
    "\n",
    "        # set model to train state\n",
    "        model.train()\n",
    "\n",
    "        # forward pass\n",
    "        y_hat=model(x)\n",
    "\n",
    "        # compute loss\n",
    "        loss=loss_fn(y_hat,y)\n",
    "\n",
    "        # compute gradients\n",
    "        loss.backward()\n",
    "\n",
    "        # update parameters\n",
    "        optimizer.step()\n",
    "        optimizer.zero_grad()\n",
    "        return loss.item()\n",
    "\n",
    "    # return the function that will be called inside the train loop\n",
    "    return perform_train_step_fn "
   ]
  },
  {
   "cell_type": "markdown",
   "metadata": {},
   "source": [
    "Run: Data preperation "
   ]
  },
  {
   "cell_type": "code",
   "execution_count": 574,
   "metadata": {},
   "outputs": [],
   "source": [
    "%run -i data_generation/simple_linear_regression.py"
   ]
  },
  {
   "cell_type": "code",
   "execution_count": 575,
   "metadata": {},
   "outputs": [],
   "source": [
    "%run -i data_preparation/v0.py"
   ]
  },
  {
   "cell_type": "code",
   "execution_count": 576,
   "metadata": {},
   "outputs": [
    {
     "name": "stdout",
     "output_type": "stream",
     "text": [
      "Overwriting model_configuration/v1.py\n"
     ]
    }
   ],
   "source": [
    "%%writefile model_configuration/v1.py\n",
    "\n",
    "device='cuda' if torch.cuda.is_available() else 'cpu'\n",
    "lr=0.1\n",
    "\n",
    "torch.manual_seed(42)\n",
    "# create a model and send it to device\n",
    "model=nn.Sequential(nn.Linear(1,1)).to(device)\n",
    "\n",
    "# define SGD optmizer\n",
    "optimizer=optim.SGD(model.parameters(),lr=lr)\n",
    "\n",
    "# define loss function\n",
    "loss_fn=nn.MSELoss(reduction='mean')\n",
    "\n",
    "# create train step function\n",
    "train_step_fn=make_train_step(model,loss_fn,optimizer)\n"
   ]
  },
  {
   "cell_type": "code",
   "execution_count": 577,
   "metadata": {},
   "outputs": [],
   "source": [
    "%run -i model_configuration/v1.py"
   ]
  },
  {
   "cell_type": "code",
   "execution_count": 578,
   "metadata": {},
   "outputs": [
    {
     "data": {
      "text/plain": [
       "<function __main__.make_train_step.<locals>.perform_train_step_fn(x, y)>"
      ]
     },
     "execution_count": 578,
     "metadata": {},
     "output_type": "execute_result"
    }
   ],
   "source": [
    "train_step_fn"
   ]
  },
  {
   "cell_type": "code",
   "execution_count": 579,
   "metadata": {},
   "outputs": [
    {
     "name": "stdout",
     "output_type": "stream",
     "text": [
      "Overwriting model_training/v1.py\n"
     ]
    }
   ],
   "source": [
    "%%writefile model_training/v1.py\n",
    "\n",
    "n_epochs=1000\n",
    "losses=[]\n",
    "\n",
    "for epoch in tqdm(range(n_epochs)):\n",
    "\n",
    "    # perform train step and return corresponding loss\n",
    "    loss=train_step_fn(X_train_tensor,y_train_tensor) # perform one training step\n",
    "    losses.append(loss) # keep track of loss"
   ]
  },
  {
   "cell_type": "code",
   "execution_count": 580,
   "metadata": {},
   "outputs": [
    {
     "data": {
      "application/vnd.jupyter.widget-view+json": {
       "model_id": "4ceda73ca2cc41c58e2299bfc19d9bec",
       "version_major": 2,
       "version_minor": 0
      },
      "text/plain": [
       "  0%|          | 0/1000 [00:00<?, ?it/s]"
      ]
     },
     "metadata": {},
     "output_type": "display_data"
    }
   ],
   "source": [
    "%run -i model_training/v1.py"
   ]
  },
  {
   "cell_type": "code",
   "execution_count": 581,
   "metadata": {},
   "outputs": [
    {
     "data": {
      "text/plain": [
       "OrderedDict([('0.weight', tensor([[1.9690]])), ('0.bias', tensor([1.0235]))])"
      ]
     },
     "execution_count": 581,
     "metadata": {},
     "output_type": "execute_result"
    }
   ],
   "source": [
    "model.state_dict()"
   ]
  },
  {
   "cell_type": "markdown",
   "metadata": {},
   "source": [
    "## Dataset"
   ]
  },
  {
   "cell_type": "code",
   "execution_count": 582,
   "metadata": {},
   "outputs": [
    {
     "name": "stdout",
     "output_type": "stream",
     "text": [
      "(tensor([[0.0636],\n",
      "        [0.8631],\n",
      "        [0.7320]]), tensor([[1.1928],\n",
      "        [2.9128],\n",
      "        [2.4732]]))\n"
     ]
    }
   ],
   "source": [
    "class CustomDataset(Dataset):\n",
    "    # takes whatever arguments that need to create a list of tuples\n",
    "    def __init__(self,x_tensor,y_tensor):\n",
    "        self.x=x_tensor\n",
    "        self.y=y_tensor\n",
    "\n",
    "    # return a tuple corresponding to the index, load data on demand\n",
    "    def __getitem__(self,index):\n",
    "        return (self.x[index],self.y[index])\n",
    "\n",
    "    # return the size of the dataset\n",
    "    def __len__(self):\n",
    "        return len(self.x)\n",
    "\n",
    "X_train_tensor=torch.as_tensor(X_train).float() # we don't want to store whole training data into GPU tensors, it will eat up vram\n",
    "y_train_tensor=torch.as_tensor(y_train).float()\n",
    "\n",
    "train_data=CustomDataset(X_train_tensor,y_train_tensor)\n",
    "print(train_data[[1,2,4]])"
   ]
  },
  {
   "cell_type": "markdown",
   "metadata": {},
   "source": [
    "## Tensor Dataset"
   ]
  },
  {
   "cell_type": "code",
   "execution_count": 583,
   "metadata": {},
   "outputs": [
    {
     "name": "stdout",
     "output_type": "stream",
     "text": [
      "(tensor([[0.0636],\n",
      "        [0.8631],\n",
      "        [0.7320]]), tensor([[1.1928],\n",
      "        [2.9128],\n",
      "        [2.4732]]))\n"
     ]
    }
   ],
   "source": [
    "train_data=TensorDataset(X_train_tensor,y_train_tensor) # if dataset is couple of tensors, use TensorDataset\n",
    "print(train_data[[1,2,4]])"
   ]
  },
  {
   "cell_type": "markdown",
   "metadata": {},
   "source": [
    "## Dataloader"
   ]
  },
  {
   "cell_type": "code",
   "execution_count": 584,
   "metadata": {},
   "outputs": [
    {
     "data": {
      "text/plain": [
       "<torch.utils.data.dataloader.DataLoader at 0x229952175b0>"
      ]
     },
     "execution_count": 584,
     "metadata": {},
     "output_type": "execute_result"
    }
   ],
   "source": [
    "# Dataloader is an iterator that will load data on demand\n",
    "train_loader=DataLoader(dataset=train_data,batch_size=16,shuffle=True)\n",
    "train_loader"
   ]
  },
  {
   "cell_type": "code",
   "execution_count": 585,
   "metadata": {},
   "outputs": [
    {
     "data": {
      "text/plain": [
       "[tensor([[0.2809],\n",
       "         [0.3253],\n",
       "         [0.1560],\n",
       "         [0.5924],\n",
       "         [0.0651],\n",
       "         [0.8872],\n",
       "         [0.4938],\n",
       "         [0.0055],\n",
       "         [0.1409],\n",
       "         [0.0885],\n",
       "         [0.1849],\n",
       "         [0.7290],\n",
       "         [0.8662],\n",
       "         [0.3117],\n",
       "         [0.6842],\n",
       "         [0.1987]]),\n",
       " tensor([[1.5846],\n",
       "         [1.8057],\n",
       "         [1.2901],\n",
       "         [2.1687],\n",
       "         [1.1559],\n",
       "         [2.8708],\n",
       "         [1.9060],\n",
       "         [1.0632],\n",
       "         [1.1211],\n",
       "         [1.0708],\n",
       "         [1.5888],\n",
       "         [2.4927],\n",
       "         [2.6805],\n",
       "         [1.7637],\n",
       "         [2.3492],\n",
       "         [1.2654]])]"
      ]
     },
     "execution_count": 585,
     "metadata": {},
     "output_type": "execute_result"
    }
   ],
   "source": [
    "next(iter(train_loader)) # this will load the first batch of data"
   ]
  },
  {
   "cell_type": "code",
   "execution_count": 586,
   "metadata": {},
   "outputs": [
    {
     "data": {
      "text/plain": [
       "[[tensor([[0.7852],\n",
       "          [0.8022],\n",
       "          [0.6075],\n",
       "          [0.1997],\n",
       "          [0.3309],\n",
       "          [0.6376],\n",
       "          [0.4722],\n",
       "          [0.2809],\n",
       "          [0.4938],\n",
       "          [0.5427],\n",
       "          [0.1560],\n",
       "          [0.1987],\n",
       "          [0.3745],\n",
       "          [0.0885],\n",
       "          [0.7320],\n",
       "          [0.8872]]),\n",
       "  tensor([[2.5283],\n",
       "          [2.6229],\n",
       "          [2.4037],\n",
       "          [1.3651],\n",
       "          [1.5427],\n",
       "          [2.1930],\n",
       "          [1.9857],\n",
       "          [1.5846],\n",
       "          [1.9060],\n",
       "          [2.2161],\n",
       "          [1.2901],\n",
       "          [1.2654],\n",
       "          [1.7578],\n",
       "          [1.0708],\n",
       "          [2.4732],\n",
       "          [2.8708]])],\n",
       " [tensor([[0.6842],\n",
       "          [0.0452],\n",
       "          [0.1159],\n",
       "          [0.0055],\n",
       "          [0.3664],\n",
       "          [0.7751],\n",
       "          [0.7608],\n",
       "          [0.7132],\n",
       "          [0.8631],\n",
       "          [0.6011],\n",
       "          [0.1705],\n",
       "          [0.0344],\n",
       "          [0.9869],\n",
       "          [0.0651],\n",
       "          [0.2921],\n",
       "          [0.9696]]),\n",
       "  tensor([[2.3492],\n",
       "          [0.9985],\n",
       "          [1.1603],\n",
       "          [1.0632],\n",
       "          [1.7093],\n",
       "          [2.4936],\n",
       "          [2.4970],\n",
       "          [2.6162],\n",
       "          [2.9128],\n",
       "          [2.1214],\n",
       "          [1.3585],\n",
       "          [1.1831],\n",
       "          [3.0520],\n",
       "          [1.1559],\n",
       "          [1.5848],\n",
       "          [2.8401]])],\n",
       " [tensor([[0.7713],\n",
       "          [0.9489],\n",
       "          [0.1818],\n",
       "          [0.2713],\n",
       "          [0.5248],\n",
       "          [0.4561],\n",
       "          [0.4952],\n",
       "          [0.8155],\n",
       "          [0.1849],\n",
       "          [0.9507],\n",
       "          [0.2588],\n",
       "          [0.5924],\n",
       "          [0.2123],\n",
       "          [0.9395],\n",
       "          [0.3110],\n",
       "          [0.9219]]),\n",
       "  tensor([[2.4745],\n",
       "          [2.8903],\n",
       "          [1.3734],\n",
       "          [1.5105],\n",
       "          [2.0167],\n",
       "          [1.7706],\n",
       "          [1.8735],\n",
       "          [2.6606],\n",
       "          [1.5888],\n",
       "          [2.8715],\n",
       "          [1.5967],\n",
       "          [2.1687],\n",
       "          [1.4760],\n",
       "          [2.8890],\n",
       "          [1.5245],\n",
       "          [2.8506]])],\n",
       " [tensor([[0.0581],\n",
       "          [0.7081],\n",
       "          [0.7296],\n",
       "          [0.0636],\n",
       "          [0.1395],\n",
       "          [0.1220],\n",
       "          [0.8324],\n",
       "          [0.7290],\n",
       "          [0.0740],\n",
       "          [0.5613],\n",
       "          [0.8084],\n",
       "          [0.9699],\n",
       "          [0.4402],\n",
       "          [0.2912],\n",
       "          [0.1834],\n",
       "          [0.6233]]),\n",
       "  tensor([[1.2640],\n",
       "          [2.3660],\n",
       "          [2.5751],\n",
       "          [1.1928],\n",
       "          [1.3051],\n",
       "          [1.2406],\n",
       "          [2.6119],\n",
       "          [2.4927],\n",
       "          [1.1713],\n",
       "          [2.0472],\n",
       "          [2.6141],\n",
       "          [2.9727],\n",
       "          [1.9105],\n",
       "          [1.4361],\n",
       "          [1.4637],\n",
       "          [2.2940]])],\n",
       " [tensor([[0.3117],\n",
       "          [0.1960],\n",
       "          [0.7722],\n",
       "          [0.8287],\n",
       "          [0.3252],\n",
       "          [0.0977],\n",
       "          [0.8948],\n",
       "          [0.0254],\n",
       "          [0.1196],\n",
       "          [0.5979],\n",
       "          [0.1409],\n",
       "          [0.8662],\n",
       "          [0.0206],\n",
       "          [0.3585],\n",
       "          [0.7069],\n",
       "          [0.3253]]),\n",
       "  tensor([[1.7637],\n",
       "          [1.4393],\n",
       "          [2.4208],\n",
       "          [2.7388],\n",
       "          [1.7291],\n",
       "          [1.4417],\n",
       "          [2.7393],\n",
       "          [1.0785],\n",
       "          [1.3214],\n",
       "          [2.0407],\n",
       "          [1.1211],\n",
       "          [2.6805],\n",
       "          [1.1327],\n",
       "          [1.7462],\n",
       "          [2.4388],\n",
       "          [1.8057]])]]"
      ]
     },
     "execution_count": 586,
     "metadata": {},
     "output_type": "execute_result"
    }
   ],
   "source": [
    "list(train_loader) # this will load all the data"
   ]
  },
  {
   "cell_type": "markdown",
   "metadata": {},
   "source": [
    "We need to add Dataloader and Dataset elements into Data prep file"
   ]
  },
  {
   "cell_type": "code",
   "execution_count": 587,
   "metadata": {},
   "outputs": [
    {
     "name": "stdout",
     "output_type": "stream",
     "text": [
      "Overwriting data_preparation/v1.py\n"
     ]
    }
   ],
   "source": [
    "%%writefile data_preparation/v1.py\n",
    "\n",
    "X_train_tensor=torch.as_tensor(X_train).float()\n",
    "y_train_tensor=torch.as_tensor(y_train).float()\n",
    "\n",
    "# Builds Dataset\n",
    "train_data=TensorDataset(X_train_tensor,y_train_tensor)\n",
    "\n",
    "# Build Dataloader\n",
    "train_loader=DataLoader(dataset=train_data,batch_size=16,shuffle=True)\n"
   ]
  },
  {
   "cell_type": "code",
   "execution_count": 588,
   "metadata": {},
   "outputs": [],
   "source": [
    "%run -i data_preparation/v1.py"
   ]
  },
  {
   "cell_type": "markdown",
   "metadata": {},
   "source": [
    "Now we need to introduce mini batch gradient descent to model training part"
   ]
  },
  {
   "cell_type": "code",
   "execution_count": 589,
   "metadata": {},
   "outputs": [],
   "source": [
    "%run -i model_configuration/v1.py"
   ]
  },
  {
   "cell_type": "code",
   "execution_count": 590,
   "metadata": {},
   "outputs": [
    {
     "name": "stdout",
     "output_type": "stream",
     "text": [
      "Overwriting model_training/v2.py\n"
     ]
    }
   ],
   "source": [
    "%%writefile model_training/v2.py\n",
    "\n",
    "# Define number of epochs\n",
    "n_epochs=1000\n",
    "\n",
    "losses=[]\n",
    "\n",
    "for epoch in tqdm(range(n_epochs)):\n",
    "    # inner loop\n",
    "    mini_batch_losses=[]\n",
    "    for x_batch,y_batch in train_loader:\n",
    "        # the dataset lives on CPU, we need to send mini-batches to the device where our model lives\n",
    "        x_batch=x_batch.to(device)\n",
    "        y_batch=y_batch.to(device)\n",
    "        \n",
    "        # perform training step and return corresponding loss\n",
    "        mini_batch_loss=train_step_fn(x_batch,y_batch)\n",
    "        mini_batch_losses.append(mini_batch_loss)\n",
    "\n",
    "    # compute average loss over all mini batches\n",
    "    loss=np.mean(mini_batch_losses)\n",
    "    losses.append(loss)\n"
   ]
  },
  {
   "cell_type": "code",
   "execution_count": 591,
   "metadata": {},
   "outputs": [
    {
     "data": {
      "application/vnd.jupyter.widget-view+json": {
       "model_id": "9683537963c6430888bbf003146eac7b",
       "version_major": 2,
       "version_minor": 0
      },
      "text/plain": [
       "  0%|          | 0/1000 [00:00<?, ?it/s]"
      ]
     },
     "metadata": {},
     "output_type": "display_data"
    }
   ],
   "source": [
    "%run -i model_training/v2.py"
   ]
  },
  {
   "cell_type": "code",
   "execution_count": 592,
   "metadata": {},
   "outputs": [
    {
     "data": {
      "text/plain": [
       "OrderedDict([('0.weight', tensor([[1.9696]])), ('0.bias', tensor([1.0243]))])"
      ]
     },
     "execution_count": 592,
     "metadata": {},
     "output_type": "execute_result"
    }
   ],
   "source": [
    "model.state_dict()"
   ]
  },
  {
   "cell_type": "markdown",
   "metadata": {},
   "source": [
    "Full pipeline"
   ]
  },
  {
   "cell_type": "code",
   "execution_count": 593,
   "metadata": {},
   "outputs": [
    {
     "data": {
      "application/vnd.jupyter.widget-view+json": {
       "model_id": "70630a7bbbee48cdb97c1fc8b92bafa6",
       "version_major": 2,
       "version_minor": 0
      },
      "text/plain": [
       "  0%|          | 0/1000 [00:00<?, ?it/s]"
      ]
     },
     "metadata": {},
     "output_type": "display_data"
    }
   ],
   "source": [
    "%run -i data_preparation/v1.py\n",
    "%run -i model_configuration/v1.py\n",
    "%run -i model_training/v2.py"
   ]
  },
  {
   "cell_type": "markdown",
   "metadata": {},
   "source": [
    "## Mini Batch inner loop  \n",
    "Mini batch depends on 3 elements.\n",
    "1. device\n",
    "2. dataloader\n",
    "3. step function"
   ]
  },
  {
   "cell_type": "code",
   "execution_count": 594,
   "metadata": {},
   "outputs": [],
   "source": [
    "# Helper function 2\n",
    "def mini_batch(device,dataloader,step_fn):\n",
    "    mini_batch_losses=[]\n",
    "    for x_batch,y_batch in dataloader:\n",
    "        x_batch=x_batch.to(device)\n",
    "        y_batch=y_batch.to(device)\n",
    "\n",
    "        mini_batch_loss=step_fn(x_batch,y_batch)\n",
    "        mini_batch_losses.append(mini_batch_loss)\n",
    "\n",
    "    loss=np.mean(mini_batch_losses)\n",
    "    return loss"
   ]
  },
  {
   "cell_type": "markdown",
   "metadata": {},
   "source": [
    "Now we only need 200 epoch to perform 1000 updates due to mini batch inner loop\n",
    "\n"
   ]
  },
  {
   "cell_type": "code",
   "execution_count": 595,
   "metadata": {},
   "outputs": [],
   "source": [
    "%run -i data_preparation/v1.py\n",
    "%run -i model_configuration/v1.py"
   ]
  },
  {
   "cell_type": "markdown",
   "metadata": {},
   "source": [
    "Define model training v3"
   ]
  },
  {
   "cell_type": "code",
   "execution_count": 596,
   "metadata": {},
   "outputs": [
    {
     "name": "stdout",
     "output_type": "stream",
     "text": [
      "Overwriting model_training/v3.py\n"
     ]
    }
   ],
   "source": [
    "%%writefile model_training/v3.py\n",
    "\n",
    "# Define number of epochs\n",
    "n_epochs=200\n",
    "\n",
    "losses=[]\n",
    "\n",
    "for epoch in tqdm(range(n_epochs)):\n",
    "    loss=mini_batch(device,train_loader,train_step_fn)\n",
    "    losses.append(loss)\n"
   ]
  },
  {
   "cell_type": "code",
   "execution_count": 597,
   "metadata": {},
   "outputs": [
    {
     "data": {
      "application/vnd.jupyter.widget-view+json": {
       "model_id": "ab1d1e178d26404fa57417665823665b",
       "version_major": 2,
       "version_minor": 0
      },
      "text/plain": [
       "  0%|          | 0/200 [00:00<?, ?it/s]"
      ]
     },
     "metadata": {},
     "output_type": "display_data"
    }
   ],
   "source": [
    "%run -i model_training/v3.py"
   ]
  },
  {
   "cell_type": "code",
   "execution_count": 598,
   "metadata": {},
   "outputs": [
    {
     "data": {
      "text/plain": [
       "OrderedDict([('0.weight', tensor([[1.9684]])), ('0.bias', tensor([1.0219]))])"
      ]
     },
     "execution_count": 598,
     "metadata": {},
     "output_type": "execute_result"
    }
   ],
   "source": [
    "model.state_dict()"
   ]
  },
  {
   "cell_type": "markdown",
   "metadata": {},
   "source": [
    "## Random Split"
   ]
  },
  {
   "cell_type": "code",
   "execution_count": 599,
   "metadata": {},
   "outputs": [
    {
     "name": "stdout",
     "output_type": "stream",
     "text": [
      "Overwriting data_preparation/v2.py\n"
     ]
    }
   ],
   "source": [
    "%%writefile data_preparation/v2.py\n",
    "\n",
    "torch.manual_seed(13)\n",
    "\n",
    "# Builds tensors from numpy arrays BEFORE split\n",
    "x_tensor = torch.from_numpy(x).float()\n",
    "y_tensor = torch.from_numpy(y).float()\n",
    "\n",
    "# Builds dataset containing ALL data points\n",
    "dataset = TensorDataset(x_tensor, y_tensor)\n",
    "\n",
    "# Performs the split\n",
    "ratio = .8\n",
    "n_total = len(dataset)\n",
    "n_train = int(n_total * ratio)\n",
    "n_val = n_total - n_train\n",
    "\n",
    "train_data, val_data = random_split(dataset, [n_train, n_val])\n",
    "\n",
    "# Builds a loader of each set\n",
    "train_loader = DataLoader(dataset=train_data, batch_size=16, shuffle=True)\n",
    "val_loader = DataLoader(dataset=val_data, batch_size=16)"
   ]
  },
  {
   "cell_type": "code",
   "execution_count": 600,
   "metadata": {},
   "outputs": [],
   "source": [
    "%run -i data_preparation/v2.py"
   ]
  },
  {
   "cell_type": "markdown",
   "metadata": {},
   "source": [
    "* Dropout is the reason for setting the mode train() or eval()  \n",
    "* Dropout randomly set some weights to zero while training, this will be a problem for evaluation. So we use model.eval()\n"
   ]
  },
  {
   "cell_type": "code",
   "execution_count": 601,
   "metadata": {},
   "outputs": [],
   "source": [
    "# Helper function 3\n",
    "from tqdm.notebook import tqdm\n",
    "def make_val_step(model,loss_fn):\n",
    "\n",
    "    # Build a function that perform a step in the validation loop\n",
    "    def perform_val_step_fn(X,y):\n",
    "        #set model to eval mode\n",
    "        model.eval()\n",
    "\n",
    "        # forward pass\n",
    "        y_hat=model(X)\n",
    "\n",
    "        # compute the loss\n",
    "        loss=loss_fn(y_hat,y) \n",
    "        \n",
    "        return loss.item() # loss.item() will return the value of the loss as python number\n",
    "    return perform_val_step_fn\n"
   ]
  },
  {
   "cell_type": "markdown",
   "metadata": {},
   "source": [
    "model, optimizer, loss fn, train step fn ,val step fn"
   ]
  },
  {
   "cell_type": "code",
   "execution_count": 602,
   "metadata": {},
   "outputs": [
    {
     "name": "stdout",
     "output_type": "stream",
     "text": [
      "Overwriting model_configuration/v2.py\n"
     ]
    }
   ],
   "source": [
    "%%writefile model_configuration/v2.py\n",
    "\n",
    "device = 'cuda' if torch.cuda.is_available() else 'cpu'\n",
    "\n",
    "# Sets learning rate - this is \"eta\" ~ the \"n\" like Greek letter\n",
    "lr = 0.1\n",
    "\n",
    "torch.manual_seed(42)\n",
    "# Now we can create a model and send it at once to the device\n",
    "model = nn.Sequential(nn.Linear(1, 1)).to(device)\n",
    "\n",
    "# Defines a SGD optimizer to update the parameters (now retrieved directly from the model)\n",
    "optimizer = optim.SGD(model.parameters(), lr=lr)\n",
    "\n",
    "# Defines a MSE loss function\n",
    "loss_fn = nn.MSELoss(reduction='mean')\n",
    "\n",
    "# Creates the train_step function for our model, loss function and optimizer\n",
    "train_step_fn = make_train_step(model, loss_fn, optimizer)\n",
    "\n",
    "# Creates the val_step function for our model and loss function\n",
    "val_step_fn = make_val_step(model, loss_fn)\n"
   ]
  },
  {
   "cell_type": "code",
   "execution_count": 603,
   "metadata": {},
   "outputs": [],
   "source": [
    "%run -i model_configuration/v2.py"
   ]
  },
  {
   "cell_type": "code",
   "execution_count": 604,
   "metadata": {},
   "outputs": [
    {
     "name": "stdout",
     "output_type": "stream",
     "text": [
      "Overwriting model_training/v4.py\n"
     ]
    }
   ],
   "source": [
    "%%writefile model_training/v4.py\n",
    "\n",
    "# Defines number of epochs\n",
    "n_epochs = 200\n",
    "\n",
    "losses = []\n",
    "val_losses = []\n",
    "\n",
    "for epoch in tqdm(range(n_epochs)):\n",
    "    # inner loop\n",
    "    loss = mini_batch(device, train_loader, train_step_fn)\n",
    "    losses.append(loss)\n",
    "    \n",
    "    # VALIDATION\n",
    "    # no gradients in validation!\n",
    "    with torch.no_grad():\n",
    "        val_loss = mini_batch(device, val_loader, val_step_fn)\n",
    "        val_losses.append(val_loss)  "
   ]
  },
  {
   "cell_type": "code",
   "execution_count": 605,
   "metadata": {},
   "outputs": [
    {
     "data": {
      "application/vnd.jupyter.widget-view+json": {
       "model_id": "ffa8d0db950b411ea15eaca3c9ba6fd2",
       "version_major": 2,
       "version_minor": 0
      },
      "text/plain": [
       "  0%|          | 0/200 [00:00<?, ?it/s]"
      ]
     },
     "metadata": {},
     "output_type": "display_data"
    }
   ],
   "source": [
    "%run -i model_training/v4.py"
   ]
  },
  {
   "cell_type": "code",
   "execution_count": null,
   "metadata": {},
   "outputs": [],
   "source": [
    "\n"
   ]
  }
 ],
 "metadata": {
  "kernelspec": {
   "display_name": "mleng",
   "language": "python",
   "name": "python3"
  },
  "language_info": {
   "codemirror_mode": {
    "name": "ipython",
    "version": 3
   },
   "file_extension": ".py",
   "mimetype": "text/x-python",
   "name": "python",
   "nbconvert_exporter": "python",
   "pygments_lexer": "ipython3",
   "version": "3.10.13"
  }
 },
 "nbformat": 4,
 "nbformat_minor": 2
}
