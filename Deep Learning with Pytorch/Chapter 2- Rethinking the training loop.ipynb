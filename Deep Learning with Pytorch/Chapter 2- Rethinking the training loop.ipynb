{
 "cells": [
  {
   "cell_type": "markdown",
   "metadata": {},
   "source": [
    "## Imports"
   ]
  },
  {
   "cell_type": "code",
   "execution_count": 84,
   "metadata": {},
   "outputs": [],
   "source": [
    "import numpy as np\n",
    "from sklearn.linear_model import LinearRegression\n",
    "\n",
    "from tqdm.notebook import tqdm\n",
    "import torch\n",
    "import torch.nn as nn\n",
    "import torch.optim as optim\n",
    "from torch.utils.data import Dataset, TensorDataset, DataLoader\n",
    "from torch.utils.data.dataset import random_split\n",
    "from torch.utils.tensorboard import SummaryWriter\n",
    "\n",
    "import matplotlib.pyplot as plt\n",
    "%matplotlib inline\n",
    "plt.style.use('fivethirtyeight')"
   ]
  },
  {
   "cell_type": "markdown",
   "metadata": {},
   "source": [
    "## Higher Order functions"
   ]
  },
  {
   "cell_type": "code",
   "execution_count": 85,
   "metadata": {},
   "outputs": [],
   "source": [
    "# series of functions performing exponentiation to given power\n",
    "def square(x):\n",
    "    return x**2\n",
    "\n",
    "def cube(x):\n",
    "    return x**3\n",
    "\n",
    "# make exponent and explicit argument\n",
    "def generic_exp(x,exponent): # requires specify the exponent everytime you call the function\n",
    "    return x**exponent\n",
    "\n"
   ]
  },
  {
   "cell_type": "markdown",
   "metadata": {},
   "source": [
    "We need higher order function(function builder) to build functions (square,cube ...)"
   ]
  },
  {
   "cell_type": "code",
   "execution_count": 86,
   "metadata": {},
   "outputs": [],
   "source": [
    "def skeleton_exponentiation(x):\n",
    "    return x**exponent"
   ]
  },
  {
   "cell_type": "code",
   "execution_count": 87,
   "metadata": {},
   "outputs": [],
   "source": [
    "# skeleton_exponentiation(2)"
   ]
  },
  {
   "cell_type": "markdown",
   "metadata": {},
   "source": [
    "<span style=\"color:red\">---------------------------------------------------------------------------</span>  \n",
    "<span style=\"color:red\">NameError</span>                                 Traceback (most recent call last)  \n",
    "Cell In[9], line 1  \n",
    "<span style=\"color:green\">----> 1 skeleton_exponentiation(2)</span>  \n",
    "  \n",
    "Cell In[8], line 2  \n",
    "      1 def skeleton_exponentiation(x):  \n",
    "<span style=\"color:green\">----> 2     return x**exponent</span>  \n",
    "  \n",
    "<span style=\"color:red\">NameError</span>: name 'exponent' is not defined  "
   ]
  },
  {
   "cell_type": "code",
   "execution_count": 88,
   "metadata": {},
   "outputs": [],
   "source": [
    "def exponentiation_builder(exponent):\n",
    "    def skeleton_exponentiation(x):\n",
    "        return x**exponent\n",
    "\n",
    "    return skeleton_exponentiation"
   ]
  },
  {
   "cell_type": "code",
   "execution_count": 89,
   "metadata": {},
   "outputs": [
    {
     "data": {
      "text/plain": [
       "<function __main__.exponentiation_builder.<locals>.skeleton_exponentiation(x)>"
      ]
     },
     "execution_count": 89,
     "metadata": {},
     "output_type": "execute_result"
    }
   ],
   "source": [
    "returned_function=exponentiation_builder(2)\n",
    "returned_function"
   ]
  },
  {
   "cell_type": "code",
   "execution_count": 90,
   "metadata": {},
   "outputs": [
    {
     "data": {
      "text/plain": [
       "16"
      ]
     },
     "execution_count": 90,
     "metadata": {},
     "output_type": "execute_result"
    }
   ],
   "source": [
    "exponentiation_builder(2)(4)"
   ]
  },
  {
   "cell_type": "code",
   "execution_count": 91,
   "metadata": {},
   "outputs": [
    {
     "data": {
      "text/plain": [
       "25"
      ]
     },
     "execution_count": 91,
     "metadata": {},
     "output_type": "execute_result"
    }
   ],
   "source": [
    "returned_function(5)"
   ]
  },
  {
   "cell_type": "code",
   "execution_count": 92,
   "metadata": {},
   "outputs": [
    {
     "data": {
      "text/plain": [
       "125"
      ]
     },
     "execution_count": 92,
     "metadata": {},
     "output_type": "execute_result"
    }
   ],
   "source": [
    "cube=exponentiation_builder(3)\n",
    "cube(5)"
   ]
  },
  {
   "cell_type": "code",
   "execution_count": 116,
   "metadata": {},
   "outputs": [],
   "source": [
    "# Helper functiom 1\n",
    "def make_train_step(model,loss_fn,optimizer): \n",
    "    # Build a function that perform a step in the train loop\n",
    "    def perform_train_step_fn(x,y):\n",
    "\n",
    "        # set model to train state\n",
    "        model.train()\n",
    "\n",
    "        # forward pass\n",
    "        y_hat=model(x)\n",
    "\n",
    "        # compute loss\n",
    "        loss=loss_fn(y_hat,y)\n",
    "\n",
    "        # compute gradients\n",
    "        loss.backward()\n",
    "\n",
    "        # update parameters\n",
    "        optimizer.step()\n",
    "        optimizer.zero_grad()\n",
    "        return loss.item()\n",
    "\n",
    "    # return the function that will be called inside the train loop\n",
    "    return perform_train_step_fn "
   ]
  },
  {
   "cell_type": "markdown",
   "metadata": {},
   "source": [
    "Run: Data preperation "
   ]
  },
  {
   "cell_type": "code",
   "execution_count": 94,
   "metadata": {},
   "outputs": [
    {
     "data": {
      "text/plain": [
       "<Figure size 640x480 with 0 Axes>"
      ]
     },
     "metadata": {},
     "output_type": "display_data"
    }
   ],
   "source": [
    "%run -i data_generation/simple_linear_regression.py"
   ]
  },
  {
   "cell_type": "code",
   "execution_count": 95,
   "metadata": {},
   "outputs": [],
   "source": [
    "%run -i data_preparation/v0.py"
   ]
  },
  {
   "cell_type": "code",
   "execution_count": 117,
   "metadata": {},
   "outputs": [
    {
     "name": "stdout",
     "output_type": "stream",
     "text": [
      "Overwriting model_configuration/v1.py\n"
     ]
    }
   ],
   "source": [
    "%%writefile model_configuration/v1.py\n",
    "\n",
    "device='cuda' if torch.cuda.is_available() else 'cpu'\n",
    "lr=0.01\n",
    "\n",
    "torch.manual_seed(42)\n",
    "# create a model and send it to device\n",
    "model=nn.Sequential(nn.Linear(1,1)).to(device)\n",
    "\n",
    "# define SGD optmizer\n",
    "optimizer=optim.SGD(model.parameters(),lr=lr)\n",
    "\n",
    "# define loss function\n",
    "loss_fn=nn.MSELoss(reduction='mean')\n",
    "\n",
    "# create train step function\n",
    "train_step_fn=make_train_step(model,loss_fn,optimizer)\n"
   ]
  },
  {
   "cell_type": "code",
   "execution_count": 118,
   "metadata": {},
   "outputs": [],
   "source": [
    "%run -i model_configuration/v1.py"
   ]
  },
  {
   "cell_type": "code",
   "execution_count": 98,
   "metadata": {},
   "outputs": [
    {
     "data": {
      "text/plain": [
       "<function __main__.make_train_step.<locals>.perform_train_step_fn(x, y)>"
      ]
     },
     "execution_count": 98,
     "metadata": {},
     "output_type": "execute_result"
    }
   ],
   "source": [
    "train_step_fn"
   ]
  },
  {
   "cell_type": "code",
   "execution_count": 119,
   "metadata": {},
   "outputs": [
    {
     "name": "stdout",
     "output_type": "stream",
     "text": [
      "Overwriting model_training/v1.py\n"
     ]
    }
   ],
   "source": [
    "%%writefile model_training/v1.py\n",
    "\n",
    "n_epochs=10000\n",
    "losses=[]\n",
    "\n",
    "for epoch in tqdm(range(n_epochs)):\n",
    "\n",
    "    # perform train step and return corresponding loss\n",
    "    loss=train_step_fn(X_train_tensor,y_train_tensor) # perform one training step\n",
    "    losses.append(loss) # keep track of loss"
   ]
  },
  {
   "cell_type": "code",
   "execution_count": 120,
   "metadata": {},
   "outputs": [
    {
     "data": {
      "application/vnd.jupyter.widget-view+json": {
       "model_id": "5f642cc19d34431b91347d27bfb57f8d",
       "version_major": 2,
       "version_minor": 0
      },
      "text/plain": [
       "  0%|          | 0/10000 [00:00<?, ?it/s]"
      ]
     },
     "metadata": {},
     "output_type": "display_data"
    }
   ],
   "source": [
    "%run -i model_training/v1.py"
   ]
  },
  {
   "cell_type": "code",
   "execution_count": 121,
   "metadata": {},
   "outputs": [
    {
     "data": {
      "text/plain": [
       "OrderedDict([('0.weight', tensor([[1.9689]])), ('0.bias', tensor([1.0236]))])"
      ]
     },
     "execution_count": 121,
     "metadata": {},
     "output_type": "execute_result"
    }
   ],
   "source": [
    "model.state_dict()"
   ]
  },
  {
   "cell_type": "markdown",
   "metadata": {},
   "source": [
    "## Dataset"
   ]
  },
  {
   "cell_type": "code",
   "execution_count": 129,
   "metadata": {},
   "outputs": [
    {
     "name": "stdout",
     "output_type": "stream",
     "text": [
      "(tensor([[0.0636],\n",
      "        [0.8631],\n",
      "        [0.7320]]), tensor([[1.1928],\n",
      "        [2.9128],\n",
      "        [2.4732]]))\n"
     ]
    }
   ],
   "source": [
    "class CustomDataset(Dataset):\n",
    "    # takes whatever arguments that need to create a list of tuples\n",
    "    def __init__(self,x_tensor,y_tensor):\n",
    "        self.x=x_tensor\n",
    "        self.y=y_tensor\n",
    "\n",
    "    # return a tuple corresponding to the index\n",
    "    def __getitem__(self,index):\n",
    "        return (self.x[index],self.y[index])\n",
    "\n",
    "    # return the size of the dataset\n",
    "    def __len__(self):\n",
    "        return len(self.x)\n",
    "\n",
    "X_train_tensor=torch.as_tensor(X_train).float()\n",
    "y_train_tensor=torch.as_tensor(y_train).float()\n",
    "\n",
    "train_data=CustomDataset(X_train_tensor,y_train_tensor)\n",
    "print(train_data[[1,2,4]])"
   ]
  }
 ],
 "metadata": {
  "kernelspec": {
   "display_name": "mleng",
   "language": "python",
   "name": "python3"
  },
  "language_info": {
   "codemirror_mode": {
    "name": "ipython",
    "version": 3
   },
   "file_extension": ".py",
   "mimetype": "text/x-python",
   "name": "python",
   "nbconvert_exporter": "python",
   "pygments_lexer": "ipython3",
   "version": "3.10.13"
  }
 },
 "nbformat": 4,
 "nbformat_minor": 2
}
