{
 "cells": [
  {
   "cell_type": "code",
   "execution_count": 1,
   "metadata": {},
   "outputs": [],
   "source": [
    "import torch\n",
    "from torchviz import make_dot\n",
    "v=torch.tensor(1.0,requires_grad=True)\n",
    "make_dot(v)"
   ]
  },
  {
   "cell_type": "markdown",
   "metadata": {},
   "source": [
    "## Data Generation"
   ]
  },
  {
   "cell_type": "code",
   "execution_count": 1,
   "metadata": {},
   "outputs": [],
   "source": [
    "# Synthetic data generation\n",
    "import numpy as np\n",
    "\n",
    "true_b=1\n",
    "true_w=2\n",
    "N=100\n",
    "\n",
    "np.random.seed(42)\n",
    "x=np.random.rand(N,1)\n",
    "y=true_b+true_w*x+0.1*np.random.rand(N,1)"
   ]
  },
  {
   "cell_type": "code",
   "execution_count": 2,
   "metadata": {},
   "outputs": [],
   "source": [
    "# train test split\n",
    "idx=np.arange(N)\n",
    "np.random.shuffle(idx)\n",
    "train_idx=idx[:int(N*0.8)]\n",
    "val_idx=idx[int(0.8*N):]\n",
    "\n",
    "x_train,y_train=x[train_idx],y[train_idx]\n",
    "x_val,y_val=x[val_idx],y[val_idx] "
   ]
  },
  {
   "cell_type": "markdown",
   "metadata": {},
   "source": [
    "## Gradient Descent"
   ]
  },
  {
   "cell_type": "code",
   "execution_count": null,
   "metadata": {},
   "outputs": [],
   "source": []
  }
 ],
 "metadata": {
  "kernelspec": {
   "display_name": "mleng",
   "language": "python",
   "name": "python3"
  },
  "language_info": {
   "codemirror_mode": {
    "name": "ipython",
    "version": 3
   },
   "file_extension": ".py",
   "mimetype": "text/x-python",
   "name": "python",
   "nbconvert_exporter": "python",
   "pygments_lexer": "ipython3",
   "version": "3.10.13"
  }
 },
 "nbformat": 4,
 "nbformat_minor": 2
}
