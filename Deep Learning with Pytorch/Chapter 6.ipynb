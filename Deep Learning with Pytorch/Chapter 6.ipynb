{
 "cells": [
  {
   "cell_type": "code",
   "execution_count": 4,
   "metadata": {},
   "outputs": [
    {
     "name": "stderr",
     "output_type": "stream",
     "text": [
      "2024-02-29 10:03:07.507843: I external/local_tsl/tsl/cuda/cudart_stub.cc:31] Could not find cuda drivers on your machine, GPU will not be used.\n",
      "2024-02-29 10:03:07.705140: E external/local_xla/xla/stream_executor/cuda/cuda_dnn.cc:9261] Unable to register cuDNN factory: Attempting to register factory for plugin cuDNN when one has already been registered\n",
      "2024-02-29 10:03:07.705214: E external/local_xla/xla/stream_executor/cuda/cuda_fft.cc:607] Unable to register cuFFT factory: Attempting to register factory for plugin cuFFT when one has already been registered\n",
      "2024-02-29 10:03:07.717998: E external/local_xla/xla/stream_executor/cuda/cuda_blas.cc:1515] Unable to register cuBLAS factory: Attempting to register factory for plugin cuBLAS when one has already been registered\n",
      "2024-02-29 10:03:07.749484: I external/local_tsl/tsl/cuda/cudart_stub.cc:31] Could not find cuda drivers on your machine, GPU will not be used.\n",
      "2024-02-29 10:03:07.750363: I tensorflow/core/platform/cpu_feature_guard.cc:182] This TensorFlow binary is optimized to use available CPU instructions in performance-critical operations.\n",
      "To enable the following instructions: AVX2 FMA, in other operations, rebuild TensorFlow with the appropriate compiler flags.\n",
      "2024-02-29 10:03:09.063018: W tensorflow/compiler/tf2tensorrt/utils/py_utils.cc:38] TF-TRT Warning: Could not find TensorRT\n"
     ]
    }
   ],
   "source": [
    "import numpy as np\n",
    "from PIL import Image\n",
    "from copy import deepcopy\n",
    "import torch\n",
    "import torch.nn as nn\n",
    "import torch.optim as optim\n",
    "import torch.nn.functional as F\n",
    "\n",
    "from torch.utils.data import DataLoader, TensorDataset, random_split\n",
    "from torchvision.transforms import Compose, ToTensor, Normalize, ToPILImage, Resize\n",
    "from torchvision.datasets import ImageFolder\n",
    "from torch.optim.lr_scheduler import StepLR, ReduceLROnPlateau, MultiStepLR, CyclicLR, LambdaLR\n",
    "\n",
    "from stepbystep.v2 import StepByStep\n",
    "from data_generation.rps import download_rps\n",
    "\n",
    "\n"
   ]
  },
  {
   "cell_type": "markdown",
   "metadata": {},
   "source": [
    "## Data Preparation  \n",
    "**ImageFolder**: Generic Dataset that you can use with your images provided, that they are organized into subfolders. Each subfolder is named after class. The root folder is `train` in below example.\n",
    "\n",
    "train/paper/image1.png  \n",
    "train/paper/image2.png\n",
    "\n",
    "train/rock/image1.png  \n",
    "train/rock/image2.png\n",
    "\n",
    "train/scissors/image1.png  \n",
    "train/scissors/image2.png"
   ]
  },
  {
   "cell_type": "code",
   "execution_count": 2,
   "metadata": {},
   "outputs": [],
   "source": [
    "# download_rps('/home/anushka/Documents/Deep-Learning/Deep Learning with Pytorch')"
   ]
  },
  {
   "cell_type": "code",
   "execution_count": 3,
   "metadata": {},
   "outputs": [],
   "source": [
    " # Temporary Dataset\n",
    "temp_transform=Compose(transforms=[Resize(28),ToTensor()])\n",
    "temp_dataset=ImageFolder(root='rps',transform=temp_transform)"
   ]
  },
  {
   "cell_type": "code",
   "execution_count": 4,
   "metadata": {},
   "outputs": [
    {
     "data": {
      "text/plain": [
       "(torch.Size([3, 28, 28]), 0)"
      ]
     },
     "execution_count": 4,
     "metadata": {},
     "output_type": "execute_result"
    }
   ],
   "source": [
    "temp_dataset[2][0].shape,temp_dataset[0][1]"
   ]
  },
  {
   "cell_type": "markdown",
   "metadata": {},
   "source": [
    "## Standardization  \n",
    "We need to know their mean and std!"
   ]
  },
  {
   "cell_type": "code",
   "execution_count": 5,
   "metadata": {},
   "outputs": [],
   "source": [
    "# Temporary dataloader\n",
    "temp_loader=DataLoader(dataset=temp_dataset,batch_size=16)\n"
   ]
  },
  {
   "cell_type": "markdown",
   "metadata": {},
   "source": [
    "We need statistics(mean pixel and std) for each channel as required by the Normalize() function."
   ]
  },
  {
   "cell_type": "code",
   "execution_count": 6,
   "metadata": {},
   "outputs": [],
   "source": [
    "@staticmethod\n",
    "def statistics_per_channel(images,labels):\n",
    "    # NCHW\n",
    "    n_samples,n_channels,n_height,n_weight=images.size()\n",
    "    # Flatten HW into single dimention\n",
    "    flatten_per_channel=images.reshape(n_samples,n_channels,-1)\n",
    "\n",
    "    # compute statistics per each image per channel\n",
    "    # Average pixel value per channel \n",
    "    means=flatten_per_channel.mean(axis=2) # n_samples, n_channels\n",
    "    # Standard Deviation of pixel values per channel\n",
    "    stds=flatten_per_channel.std(axis=2)\n",
    "\n",
    "    # Adds up statistics of all images in a mini batch (1, n_channels)\n",
    "    sum_means=means.sum(axis=0)\n",
    "    sum_stds=stds.sum(axis=0)\n",
    "\n",
    "    # Make a tensor of shape (1,n_channels) with the number of samples in a mini-batch\n",
    "    n_samples=torch.tensor([n_samples]*n_channels).float()\n",
    "\n",
    "    # stack the tensors on top of one another (3,n_channels)\n",
    "    return torch.stack([n_samples,sum_means,sum_stds],axis=0)\n",
    "\n",
    "setattr(StepByStep,'statistics_per_channel',statistics_per_channel)"
   ]
  },
  {
   "cell_type": "code",
   "execution_count": 7,
   "metadata": {},
   "outputs": [
    {
     "data": {
      "text/plain": [
       "tensor([[16.0000, 16.0000, 16.0000],\n",
       "        [13.8748, 13.3048, 13.1962],\n",
       "        [ 3.0507,  3.8268,  3.9754]])"
      ]
     },
     "execution_count": 7,
     "metadata": {},
     "output_type": "execute_result"
    }
   ],
   "source": [
    "first_images,first_labels=next(iter(temp_loader))\n",
    "StepByStep.statistics_per_channel(first_images,first_labels)"
   ]
  },
  {
   "cell_type": "code",
   "execution_count": 8,
   "metadata": {},
   "outputs": [
    {
     "data": {
      "text/plain": [
       "tensor([[2520.0000, 2520.0000, 2520.0000],\n",
       "        [2142.5356, 2070.0806, 2045.1444],\n",
       "        [ 526.3025,  633.0677,  669.9556]])"
      ]
     },
     "execution_count": 8,
     "metadata": {},
     "output_type": "execute_result"
    }
   ],
   "source": [
    "# Get sum for the whole dataset\n",
    "results=StepByStep.loader_apply(temp_loader,StepByStep.statistics_per_channel)\n",
    "results"
   ]
  },
  {
   "cell_type": "markdown",
   "metadata": {},
   "source": [
    "Lets make a function that take dataloader and returns an instance of a Normalize function\n"
   ]
  },
  {
   "cell_type": "code",
   "execution_count": 9,
   "metadata": {},
   "outputs": [],
   "source": [
    "@staticmethod\n",
    "def make_normalizer(loader):\n",
    "    total_samples,total_means,total_stds=StepByStep.loader_apply(loader,StepByStep.statistics_per_channel)\n",
    "    norm_mean=total_means/total_samples\n",
    "    norm_std=total_stds/total_samples\n",
    "    return Normalize(mean=norm_mean,std=norm_std)\n",
    "\n",
    "setattr(StepByStep,'make_normalizer',make_normalizer)"
   ]
  },
  {
   "cell_type": "code",
   "execution_count": 10,
   "metadata": {},
   "outputs": [
    {
     "data": {
      "text/plain": [
       "Normalize(mean=tensor([0.8502, 0.8215, 0.8116]), std=tensor([0.2089, 0.2512, 0.2659]))"
      ]
     },
     "execution_count": 10,
     "metadata": {},
     "output_type": "execute_result"
    }
   ],
   "source": [
    "# Creating Normalizer Transform\n",
    "normalizer=StepByStep.make_normalizer(temp_loader)\n",
    "normalizer"
   ]
  },
  {
   "cell_type": "markdown",
   "metadata": {},
   "source": [
    "## The Real Datasets"
   ]
  },
  {
   "cell_type": "code",
   "execution_count": 11,
   "metadata": {},
   "outputs": [],
   "source": [
    "# Data preparation\n",
    "composer=Compose(transforms=[Resize(28),ToTensor(),normalizer])\n",
    "\n",
    "train_data=ImageFolder(root='rps',transform=composer)\n",
    "val_data=ImageFolder(root='rps-test-set',transform=composer)\n",
    "\n",
    "# Builds a loader of each set\n",
    "train_loader=DataLoader(dataset=train_data,batch_size=16,shuffle=True)\n",
    "val_loader=DataLoader(dataset=val_data,batch_size=16)\n",
    "\n"
   ]
  },
  {
   "cell_type": "markdown",
   "metadata": {},
   "source": [
    "## Three Channel Convolutions\n"
   ]
  },
  {
   "cell_type": "markdown",
   "metadata": {},
   "source": [
    "every filter has 3 channels since our image has 3 channels."
   ]
  },
  {
   "cell_type": "code",
   "execution_count": 12,
   "metadata": {},
   "outputs": [],
   "source": [
    "regions=np.array([5,0,8,1,9,5,6,0,2,0,5,4,8,1,9,4,8,1,4,2,0,6,3,0,5,2,8])\n",
    "regions=regions.reshape(1,3,3,3)"
   ]
  },
  {
   "cell_type": "code",
   "execution_count": 13,
   "metadata": {},
   "outputs": [
    {
     "data": {
      "text/plain": [
       "(1, 3, 3, 3)"
      ]
     },
     "execution_count": 13,
     "metadata": {},
     "output_type": "execute_result"
    }
   ],
   "source": [
    "regions.shape"
   ]
  },
  {
   "cell_type": "code",
   "execution_count": 14,
   "metadata": {},
   "outputs": [
    {
     "data": {
      "text/plain": [
       "(1, 3, 3, 3)"
      ]
     },
     "execution_count": 14,
     "metadata": {},
     "output_type": "execute_result"
    }
   ],
   "source": [
    "three_channel_filter=np.array([0,3,0,1,0,1,2,1,0,2,1,0,0,3,1,1,-1,0,1,0,3,-1,-2,0,2,0,1])\n",
    "three_channel_filter=three_channel_filter.reshape(-1,3,3,3)\n",
    "three_channel_filter.shape"
   ]
  },
  {
   "cell_type": "code",
   "execution_count": 15,
   "metadata": {},
   "outputs": [
    {
     "data": {
      "text/plain": [
       "(tensor([[[[41]]]]), torch.Size([1, 1, 1, 1]))"
      ]
     },
     "execution_count": 15,
     "metadata": {},
     "output_type": "execute_result"
    }
   ],
   "source": [
    "result=F.conv2d(input=torch.as_tensor(regions),weight=torch.as_tensor(three_channel_filter))\n",
    "result,result.shape"
   ]
  },
  {
   "cell_type": "code",
   "execution_count": 16,
   "metadata": {},
   "outputs": [],
   "source": [
    "# Fancier Model\n",
    "class CNN2(nn.Module):\n",
    "    def __init__(self,n_filters,p=0.0):\n",
    "        super(CNN2,self).__init__()\n",
    "        self.n_filters=n_filters\n",
    "        self.p=p\n",
    "        # We will use n_filters as output channels for both convolutional blocks\n",
    "        self.conv1=nn.Conv2d(in_channels=3,out_channels=n_filters,kernel_size=3)\n",
    "        self.conv2=nn.Conv2d(in_channels=n_filters,out_channels=n_filters,kernel_size=3)\n",
    "\n",
    "        # Create Linear layers\n",
    "        self.fc1=nn.Linear(in_features=n_filters*5*5,out_features=50) # Hidden Layer\n",
    "        self.fc2=nn.Linear(in_features=50,out_features=3) # Output Layer\n",
    "\n",
    "        # Create dropout layers\n",
    "        self.drop=nn.Dropout(self.p)\n",
    "\n",
    "        # Fancier Model- Featurizer\n",
    "    def featurizer(self,x):\n",
    "        # First convolutional block\n",
    "        # 3@28x28 -> n_filters@26x26 -> n_filters@13x13\n",
    "        x=self.conv1(x)\n",
    "        x=F.relu(x)\n",
    "        x=F.max_pool2d(x,kernel_size=2)\n",
    "\n",
    "        # Second convolutional block\n",
    "        # n_filters@13x13 -> n_filters@11x11 -> n_filters@5x5\n",
    "        x=self.conv2(x)\n",
    "        x=F.relu(x)\n",
    "        x=F.max_pool2d(x,kernel_size=2)\n",
    "\n",
    "        # input dimention: n_filters@5x5\n",
    "        # output dimention: n_filtersx5x5\n",
    "        x=nn.Flatten()(x)\n",
    "        return x\n",
    "\n",
    "    # Fancier Model- Classifier\n",
    "    def classifier(self,x):\n",
    "        # Hidden Layer: n_filters@5x5 -> 50\n",
    "        if self.p>0:\n",
    "            x=self.drop(x)\n",
    "        x=self.fc1(x)\n",
    "        x=F.relu(x)\n",
    "\n",
    "        # output layer: 50 -> 3\n",
    "        if self.p>0:\n",
    "            x=self.drop(x)\n",
    "        x=self.fc2(x)\n",
    "        return x\n",
    "\n",
    "    def forward(self,x):\n",
    "        x=self.featurizer(x)\n",
    "        x=self.classifier(x)\n",
    "        return x"
   ]
  },
  {
   "cell_type": "code",
   "execution_count": null,
   "metadata": {},
   "outputs": [],
   "source": []
  },
  {
   "cell_type": "code",
   "execution_count": 17,
   "metadata": {},
   "outputs": [],
   "source": [
    "# # Fancier Model- Classifier\n",
    "# def classifier(self,x):\n",
    "#     # Hidden Layer: n_filters@5x5 -> 50\n",
    "#     if self.p>0:\n",
    "#         x=self.drop(x)\n",
    "#     x=self.fc1(x)\n",
    "#     x=F.relu(x)\n",
    "\n",
    "#     # output layer: 50 -> 3\n",
    "#     if self.p>0:\n",
    "#         x=self.drop(x)\n",
    "#     x=self.fc2(x)\n",
    "#     return x"
   ]
  },
  {
   "cell_type": "code",
   "execution_count": 18,
   "metadata": {},
   "outputs": [],
   "source": [
    "# def forward(self,x):\n",
    "#     x=self.featurizer(x)\n",
    "#     x=self.classifier(x)\n",
    "#     return x"
   ]
  },
  {
   "cell_type": "markdown",
   "metadata": {},
   "source": [
    "## Dropout"
   ]
  },
  {
   "cell_type": "markdown",
   "metadata": {},
   "source": [
    "Sometimes model may rely on features specifically found on training set. Model may try to find an easy way out to achieve the target"
   ]
  },
  {
   "cell_type": "code",
   "execution_count": 19,
   "metadata": {},
   "outputs": [],
   "source": [
    "# Feature normalization\n",
    "dropping_model=nn.Sequential(nn.Dropout(p=0.5))\n"
   ]
  },
  {
   "cell_type": "code",
   "execution_count": 20,
   "metadata": {},
   "outputs": [
    {
     "data": {
      "text/plain": [
       "tensor([0.1000, 0.2000, 0.3000, 0.4000, 0.5000, 0.6000, 0.7000, 0.8000, 0.9000,\n",
       "        1.0000, 1.1000])"
      ]
     },
     "execution_count": 20,
     "metadata": {},
     "output_type": "execute_result"
    }
   ],
   "source": [
    "spaced_points=torch.linspace(0.1,1.1,11)\n",
    "spaced_points"
   ]
  },
  {
   "cell_type": "code",
   "execution_count": 21,
   "metadata": {},
   "outputs": [
    {
     "data": {
      "text/plain": [
       "tensor([0.0000, 0.4000, 0.0000, 0.8000, 0.0000, 1.2000, 1.4000, 1.6000, 1.8000,\n",
       "        0.0000, 2.2000])"
      ]
     },
     "execution_count": 21,
     "metadata": {},
     "output_type": "execute_result"
    }
   ],
   "source": [
    "torch.manual_seed(44)\n",
    "\n",
    "dropping_model.train()\n",
    "output_train=dropping_model(spaced_points) # remianing elements will be adjusted by 1/p\n",
    "output_train"
   ]
  },
  {
   "cell_type": "code",
   "execution_count": 22,
   "metadata": {},
   "outputs": [
    {
     "data": {
      "text/plain": [
       "tensor([0., 2., 0., 2., 0., 2., 2., 2., 2., 0., 2.])"
      ]
     },
     "execution_count": 22,
     "metadata": {},
     "output_type": "execute_result"
    }
   ],
   "source": [
    "output_train/spaced_points"
   ]
  },
  {
   "cell_type": "code",
   "execution_count": 23,
   "metadata": {},
   "outputs": [
    {
     "data": {
      "text/plain": [
       "tensor(9.4000)"
      ]
     },
     "execution_count": 23,
     "metadata": {},
     "output_type": "execute_result"
    }
   ],
   "source": [
    "F.linear(output_train,weight=torch.ones(11),bias=torch.tensor(0)) # This would be 4.8000 withoput adjusting factor"
   ]
  },
  {
   "cell_type": "markdown",
   "metadata": {},
   "source": [
    "Since There is no dropping in evaluation, It will produce slightly different results, "
   ]
  },
  {
   "cell_type": "code",
   "execution_count": 24,
   "metadata": {},
   "outputs": [
    {
     "data": {
      "text/plain": [
       "tensor([0.1000, 0.2000, 0.3000, 0.4000, 0.5000, 0.6000, 0.7000, 0.8000, 0.9000,\n",
       "        1.0000, 1.1000])"
      ]
     },
     "execution_count": 24,
     "metadata": {},
     "output_type": "execute_result"
    }
   ],
   "source": [
    "dropping_model.eval()\n",
    "output_eval=dropping_model(spaced_points) # There is no adjusting factor\n",
    "output_eval"
   ]
  },
  {
   "cell_type": "code",
   "execution_count": 25,
   "metadata": {},
   "outputs": [
    {
     "data": {
      "text/plain": [
       "tensor(6.6000)"
      ]
     },
     "execution_count": 25,
     "metadata": {},
     "output_type": "execute_result"
    }
   ],
   "source": [
    "F.linear(output_eval,weight=torch.ones(11),bias=torch.tensor(0))\n"
   ]
  },
  {
   "cell_type": "markdown",
   "metadata": {},
   "source": [
    "Dropping is probabilistic"
   ]
  },
  {
   "cell_type": "code",
   "execution_count": 26,
   "metadata": {},
   "outputs": [],
   "source": [
    "# torch.manual_seed(17)\n",
    "# p=0.5\n",
    "# distrib_outputs=torch.tensor([F.linear(F.dropout(spaced_points,p=p),weight=torch.ones(11),bias=torch.tensor(0)) for _ in range(1000)])\n"
   ]
  },
  {
   "cell_type": "code",
   "execution_count": 27,
   "metadata": {},
   "outputs": [],
   "source": [
    "# distrib_outputs.reshape(-1,1).shape"
   ]
  },
  {
   "cell_type": "code",
   "execution_count": 43,
   "metadata": {},
   "outputs": [],
   "source": [
    "import matplotlib.pyplot as plt\n",
    "import seaborn as sns\n",
    "\n",
    "# sns.histplot(distrib_outputs.reshape(-1,1),binrange=(0,20),bins=30)\n",
    "# plt.show()"
   ]
  },
  {
   "attachments": {
    "image.png": {
     "image/png": "[encoded data removed]"
    }
   },
   "cell_type": "markdown",
   "metadata": {},
   "source": [
    "![image.png](attachment:image.png)"
   ]
  },
  {
   "cell_type": "code",
   "execution_count": 29,
   "metadata": {},
   "outputs": [],
   "source": [
    "# torch.mean(distrib_outputs,axis=0) tensor(6.5694)"
   ]
  },
  {
   "cell_type": "markdown",
   "metadata": {},
   "source": [
    "Output for simple linear layer with dropput will be between 0 and 13. Not exactly 6.6"
   ]
  },
  {
   "cell_type": "code",
   "execution_count": 30,
   "metadata": {},
   "outputs": [],
   "source": [
    "# # Lets try drop of p=0.8\n",
    "# distrib_outputs2=torch.tensor([F.linear(F.dropout(spaced_points,p=0.8),weight=torch.ones(11),bias=torch.tensor(0)) for _ in range(1000)])\n",
    "\n",
    "# sns.histplot(distrib_outputs2.reshape(-1,1),binrange=(0,20),bins=30)\n",
    "# plt.show()"
   ]
  },
  {
   "attachments": {
    "image.png": {
     "image/png": "[encoded data removed]"
    }
   },
   "cell_type": "markdown",
   "metadata": {},
   "source": [
    "![image.png](attachment:image.png)"
   ]
  },
  {
   "cell_type": "code",
   "execution_count": 31,
   "metadata": {},
   "outputs": [],
   "source": [
    "# # Lets try drop of p=0.2\n",
    "# distrib_outputs3=torch.tensor([F.linear(F.dropout(spaced_points,p=0.2),weight=torch.ones(11),bias=torch.tensor(0)) for _ in range(1000)])\n",
    "\n",
    "# sns.histplot(distrib_outputs3.reshape(-1,1),binrange=(0,20),bins=30)\n",
    "# plt.show()"
   ]
  },
  {
   "attachments": {
    "image.png": {
     "image/png": "[encoded data removed]"
    }
   },
   "cell_type": "markdown",
   "metadata": {},
   "source": [
    "![image.png](attachment:image.png)"
   ]
  },
  {
   "cell_type": "markdown",
   "metadata": {},
   "source": [
    "The variance of the distribution of outputs grows with dropout probability"
   ]
  },
  {
   "cell_type": "markdown",
   "metadata": {},
   "source": [
    "## Tow Diemntional Dropout"
   ]
  },
  {
   "cell_type": "markdown",
   "metadata": {},
   "source": [
    "Specific dropout with convolutional layers: instead of drooping individual inputs, it drops entire filters. Randomly dropping pixel values pixels doesnt do much since adjacent pixels are strongly correlated."
   ]
  },
  {
   "cell_type": "markdown",
   "metadata": {},
   "source": [
    "## Model Configuration"
   ]
  },
  {
   "cell_type": "code",
   "execution_count": 32,
   "metadata": {},
   "outputs": [],
   "source": [
    "torch.manual_seed(13)\n",
    "model_cnn2=CNN2(n_filters=5,p=0.3)\n",
    "multi_loss_fn=nn.CrossEntropyLoss(reduction='mean')\n",
    "optimizer_cnn2=optim.Adam(model_cnn2.parameters(),lr=3e-4)"
   ]
  },
  {
   "cell_type": "code",
   "execution_count": 33,
   "metadata": {},
   "outputs": [
    {
     "data": {
      "text/plain": [
       "{'state': {},\n",
       " 'param_groups': [{'lr': 0.0003,\n",
       "   'betas': (0.9, 0.999),\n",
       "   'eps': 1e-08,\n",
       "   'weight_decay': 0,\n",
       "   'amsgrad': False,\n",
       "   'maximize': False,\n",
       "   'foreach': None,\n",
       "   'capturable': False,\n",
       "   'differentiable': False,\n",
       "   'fused': None,\n",
       "   'params': [0, 1, 2, 3, 4, 5, 6, 7]}]}"
      ]
     },
     "execution_count": 33,
     "metadata": {},
     "output_type": "execute_result"
    }
   ],
   "source": [
    "optimizer_cnn2.state_dict()"
   ]
  },
  {
   "cell_type": "markdown",
   "metadata": {},
   "source": [
    "## Model Training"
   ]
  },
  {
   "cell_type": "code",
   "execution_count": 34,
   "metadata": {},
   "outputs": [
    {
     "data": {
      "application/vnd.jupyter.widget-view+json": {
       "model_id": "8e875d50625f4a5298e4c7e17092bcc5",
       "version_major": 2,
       "version_minor": 0
      },
      "text/plain": [
       "  0%|          | 0/10 [00:00<?, ?it/s]"
      ]
     },
     "metadata": {},
     "output_type": "display_data"
    }
   ],
   "source": [
    "sbs_cnn2=StepByStep(model_cnn2,multi_loss_fn,optimizer_cnn2)\n",
    "sbs_cnn2.set_loaders(train_loader,val_loader)\n",
    "sbs_cnn2.train(10)"
   ]
  },
  {
   "cell_type": "code",
   "execution_count": 35,
   "metadata": {},
   "outputs": [],
   "source": [
    "fig=sbs_cnn2.plot_losses()"
   ]
  },
  {
   "cell_type": "markdown",
   "metadata": {},
   "source": [
    "### Accuracy"
   ]
  },
  {
   "cell_type": "code",
   "execution_count": 36,
   "metadata": {},
   "outputs": [
    {
     "data": {
      "text/plain": [
       "tensor([[ 89, 124],\n",
       "        [118, 124],\n",
       "        [117, 124]])"
      ]
     },
     "execution_count": 36,
     "metadata": {},
     "output_type": "execute_result"
    }
   ],
   "source": [
    "StepByStep.loader_apply(val_loader,sbs_cnn2.correct)"
   ]
  },
  {
   "cell_type": "code",
   "execution_count": 37,
   "metadata": {},
   "outputs": [
    {
     "name": "stdout",
     "output_type": "stream",
     "text": [
      "Accuracy: 87.10 %\n"
     ]
    }
   ],
   "source": [
    "print(f\"Accuracy: {(torch.sum(StepByStep.loader_apply(val_loader,sbs_cnn2.correct),axis=0)[0]/torch.sum(StepByStep.loader_apply(val_loader,sbs_cnn2.correct),axis=0)[1])*100:.2f} %\")"
   ]
  },
  {
   "cell_type": "markdown",
   "metadata": {},
   "source": [
    "## Regularizing Effect"
   ]
  },
  {
   "cell_type": "code",
   "execution_count": 38,
   "metadata": {},
   "outputs": [
    {
     "data": {
      "application/vnd.jupyter.widget-view+json": {
       "model_id": "bca8bb1e6242462ab1a01f5e706a20fb",
       "version_major": 2,
       "version_minor": 0
      },
      "text/plain": [
       "  0%|          | 0/10 [00:00<?, ?it/s]"
      ]
     },
     "metadata": {},
     "output_type": "display_data"
    }
   ],
   "source": [
    "torch.manual_seed(13)\n",
    "# model config\n",
    "model_cnn2_nodrop=CNN2(n_filters=5,p=0.0)\n",
    "multi_loss_fn=nn.CrossEntropyLoss(reduction='mean')\n",
    "optimizer_cnn2=optim.Adam(model_cnn2_nodrop.parameters(),lr=3e-4)\n",
    "\n",
    "# model training\n",
    "sbs_cnn2_nodrop=StepByStep(model_cnn2_nodrop,multi_loss_fn,optimizer_cnn2)\n",
    "sbs_cnn2_nodrop.set_loaders(train_loader,val_loader)\n",
    "sbs_cnn2_nodrop.train(10)"
   ]
  },
  {
   "cell_type": "code",
   "execution_count": 39,
   "metadata": {},
   "outputs": [],
   "source": [
    "fig=sbs_cnn2_nodrop.plot_losses()"
   ]
  },
  {
   "cell_type": "code",
   "execution_count": 40,
   "metadata": {},
   "outputs": [
    {
     "name": "stdout",
     "output_type": "stream",
     "text": [
      "NO dropout model Train Accuracy:100.00%\n",
      "NO dropout model Validation Accuracy:78.49%\n",
      "\n",
      "Dropout model Train Accuracy:99.33%\n",
      "Dropout model Validation Accuracy:87.10%\n"
     ]
    }
   ],
   "source": [
    "# No dropout model Accuracy\n",
    "print(f\"NO dropout model Train Accuracy:{(StepByStep.loader_apply(train_loader,sbs_cnn2_nodrop.correct).sum(axis=0)[0]/StepByStep.loader_apply(train_loader,sbs_cnn2_nodrop.correct).sum(axis=0)[1])*100:.2f}%\")\n",
    "print(f\"NO dropout model Validation Accuracy:{(StepByStep.loader_apply(val_loader,sbs_cnn2_nodrop.correct).sum(axis=0)[0]/StepByStep.loader_apply(val_loader,sbs_cnn2_nodrop.correct).sum(axis=0)[1])*100:.2f}%\")\n",
    "# droput model Acuuracy\n",
    "print(f\"\\nDropout model Train Accuracy:{(StepByStep.loader_apply(train_loader,sbs_cnn2.correct).sum(axis=0)[0]/StepByStep.loader_apply(train_loader,sbs_cnn2.correct).sum(axis=0)[1])*100:.2f}%\")\n",
    "print(f\"Dropout model Validation Accuracy:{(StepByStep.loader_apply(val_loader,sbs_cnn2.correct).sum(axis=0)[0]/StepByStep.loader_apply(val_loader,sbs_cnn2.correct).sum(axis=0)[1])*100:.2f}%\")"
   ]
  },
  {
   "cell_type": "markdown",
   "metadata": {},
   "source": [
    "## Visualizing Filters"
   ]
  },
  {
   "cell_type": "code",
   "execution_count": 41,
   "metadata": {},
   "outputs": [
    {
     "data": {
      "text/plain": [
       "torch.Size([5, 3, 3, 3])"
      ]
     },
     "execution_count": 41,
     "metadata": {},
     "output_type": "execute_result"
    }
   ],
   "source": [
    "model_cnn2.conv1.weight.shape # 5 filters for each input channel"
   ]
  },
  {
   "cell_type": "code",
   "execution_count": 42,
   "metadata": {},
   "outputs": [
    {
     "data": {
      "image/png": "[encoded data removed]",
      "text/plain": [
       "<Figure size 800x1000 with 15 Axes>"
      ]
     },
     "metadata": {},
     "output_type": "display_data"
    }
   ],
   "source": [
    "fig=sbs_cnn2.visualize_filters('conv1')"
   ]
  },
  {
   "cell_type": "code",
   "execution_count": 43,
   "metadata": {},
   "outputs": [
    {
     "data": {
      "image/png": "[encoded data removed]",
      "text/plain": [
       "<Figure size 1200x1000 with 25 Axes>"
      ]
     },
     "metadata": {},
     "output_type": "display_data"
    }
   ],
   "source": [
    "fig=sbs_cnn2.visualize_filters('conv2')"
   ]
  },
  {
   "cell_type": "markdown",
   "metadata": {},
   "source": [
    "## Learning Rates"
   ]
  },
  {
   "cell_type": "markdown",
   "metadata": {},
   "source": [
    "* If the LR is too low, model doesn't learn much.\n",
    "* If the LR is too high, model doesn't converge to a solution."
   ]
  },
  {
   "cell_type": "markdown",
   "metadata": {},
   "source": [
    "### Finding LR"
   ]
  },
  {
   "cell_type": "code",
   "execution_count": 44,
   "metadata": {},
   "outputs": [],
   "source": [
    "def make_lr_fn(start_lr,end_lr,num_iter,step_mode='exp'):\n",
    "    if step_mode=='linear':\n",
    "        factor=(end_lr/start_lr-1)/num_iter\n",
    "        def lr_fn(iteration):\n",
    "            return 1+iteration*factor # returns the multiplying factor\n",
    "    \n",
    "    else:\n",
    "        factor=(np.log(end_lr)-np.log(start_lr))/num_iter\n",
    "        def lr_fn(iteration):\n",
    "            return np.exp(factor)**iteration\n",
    "    \n",
    "    return lr_fn"
   ]
  },
  {
   "cell_type": "code",
   "execution_count": 45,
   "metadata": {},
   "outputs": [],
   "source": [
    "start_lr=0.01\n",
    "end_lr=0.1\n",
    "num_iter=10\n",
    "lr_fn=make_lr_fn(start_lr,end_lr,num_iter,step_mode='exp')"
   ]
  },
  {
   "cell_type": "code",
   "execution_count": 46,
   "metadata": {},
   "outputs": [
    {
     "data": {
      "text/plain": [
       "array([ 1.        ,  1.25892541,  1.58489319,  1.99526231,  2.51188643,\n",
       "        3.16227766,  3.98107171,  5.01187234,  6.30957344,  7.94328235,\n",
       "       10.        ])"
      ]
     },
     "execution_count": 46,
     "metadata": {},
     "output_type": "execute_result"
    }
   ],
   "source": [
    "lr_fn(np.arange(num_iter+1)) # multiplying factor"
   ]
  },
  {
   "cell_type": "code",
   "execution_count": 47,
   "metadata": {},
   "outputs": [
    {
     "data": {
      "text/plain": [
       "array([0.01      , 0.01258925, 0.01584893, 0.01995262, 0.02511886,\n",
       "       0.03162278, 0.03981072, 0.05011872, 0.06309573, 0.07943282,\n",
       "       0.1       ])"
      ]
     },
     "execution_count": 47,
     "metadata": {},
     "output_type": "execute_result"
    }
   ],
   "source": [
    "start_lr*lr_fn(np.arange(num_iter+1))"
   ]
  },
  {
   "cell_type": "code",
   "execution_count": 48,
   "metadata": {},
   "outputs": [],
   "source": [
    "dummy_model=CNN2(n_filters=5,p=0.3)\n",
    "dummy_optimizer=optim.Adam(dummy_model.parameters(),lr=start_lr)\n",
    "dummy_scheduler=LambdaLR(optimizer=dummy_optimizer,lr_lambda=lr_fn)"
   ]
  },
  {
   "cell_type": "code",
   "execution_count": 49,
   "metadata": {},
   "outputs": [],
   "source": [
    "dummy_optimizer.step()\n",
    "dummy_scheduler.step()"
   ]
  },
  {
   "cell_type": "code",
   "execution_count": 50,
   "metadata": {},
   "outputs": [
    {
     "data": {
      "text/plain": [
       "[0.012589254117941673]"
      ]
     },
     "execution_count": 50,
     "metadata": {},
     "output_type": "execute_result"
    }
   ],
   "source": [
    "# After 1 step lr should have been updated to match the second value\n",
    "dummy_scheduler.get_last_lr()"
   ]
  },
  {
   "cell_type": "code",
   "execution_count": 51,
   "metadata": {},
   "outputs": [
    {
     "data": {
      "text/plain": [
       "{'state': {},\n",
       " 'param_groups': [{'lr': 0.012589254117941673,\n",
       "   'betas': (0.9, 0.999),\n",
       "   'eps': 1e-08,\n",
       "   'weight_decay': 0,\n",
       "   'amsgrad': False,\n",
       "   'maximize': False,\n",
       "   'foreach': None,\n",
       "   'capturable': False,\n",
       "   'differentiable': False,\n",
       "   'fused': None,\n",
       "   'initial_lr': 0.01,\n",
       "   'params': [0, 1, 2, 3, 4, 5, 6, 7]}]}"
      ]
     },
     "execution_count": 51,
     "metadata": {},
     "output_type": "execute_result"
    }
   ],
   "source": [
    "dummy_optimizer.state_dict()"
   ]
  },
  {
   "cell_type": "code",
   "execution_count": 52,
   "metadata": {},
   "outputs": [],
   "source": [
    "def lr_range_test(self,data_loader,end_lr,num_iter=100,step_mode='exp',alpha=0.05,ax=None):\n",
    "    # The test updates both model and optimizer\n",
    "    # We need to store their initial states to restore them\n",
    "    previous_states={'model':deepcopy(self.model.state_dict()),\n",
    "                     'optimizer':deepcopy(self.optimizer.state_dict())}\n",
    "    # Retrives the learning rate set in the optimizer\n",
    "    start_lr=self.optimizer.state_dict()['param_groups'][0]['lr']\n",
    "\n",
    "    # Builds a custom funtion and corresponding scheduler\n",
    "    lr_fn=make_lr_fn(start_lr,end_lr,num_iter)\n",
    "    scheduler=LambdaLR(optimizer=self.optimizer,lr_lambda=lr_fn)\n",
    "\n",
    "    # variables for tracking results and iterations\n",
    "    tracking={'loss':[],'lr':[]}\n",
    "    iteration=0\n",
    "\n",
    "    # If there are more iterations than mini batches in the loader, it willl have to loop over it more than once\n",
    "    while (iteration<num_iter):\n",
    "        # The typical mini batch inner loop\n",
    "        for x_batch,y_batch in data_loader:\n",
    "            x_batch=x_batch.to(self.device)\n",
    "            y_batch=y_batch.to(self.device)\n",
    "\n",
    "            # step 1\n",
    "            yhat=self.model(x_batch)\n",
    "            # step 2\n",
    "            loss=self.loss_fn(yhat,y_batch)\n",
    "            # step 3\n",
    "            loss.backward()\n",
    "\n",
    "            # Here we keep tack of losses (smoothed) and learning rates\n",
    "            tracking['lr'].append(scheduler.get_last_lr()[0])\n",
    "            if iteration==0:\n",
    "                tracking[\"loss\"].append(loss.item())\n",
    "            else:\n",
    "                prev_loss=tracking[\"loss\"][-1]\n",
    "                smoothed_loss=(alpha*loss.item()+(1-alpha)*prev_loss)\n",
    "                tracking[\"loss\"].append(smoothed_loss)\n",
    "            iteration+=1\n",
    "\n",
    "            # Number of iteration reached\n",
    "            if iteration==num_iter:\n",
    "                break\n",
    "\n",
    "            # step 4\n",
    "            self.optimizer.step()\n",
    "            scheduler.step()\n",
    "            self.optimizer.zero_grad()\n",
    "\n",
    "    # Restore the original states\n",
    "    self.optimizer.load_state_dict(previous_states['optimizer'])\n",
    "    self.model.load_state_dict(previous_states['model'])\n",
    "\n",
    "    if ax is None:\n",
    "        fig,ax=plt.subplots(1,1,figsize=(6,4))\n",
    "    else:\n",
    "        fig=ax.get_figure()\n",
    "    \n",
    "    ax.plot(tracking['lr'],tracking['loss']) \n",
    "    if step_mode=='exp':\n",
    "        ax.set_xscale('log')\n",
    "        ax.set_xlabel('Learning_Rate')\n",
    "        ax.set_ylabel(\"Loss\")\n",
    "        fig.tight_layout()\n",
    "        return tracking, fig\n",
    "\n",
    "setattr(StepByStep,'lr_range_test',lr_range_test)"
   ]
  },
  {
   "cell_type": "markdown",
   "metadata": {},
   "source": [
    "The technique is supposed to applied on untrained model"
   ]
  },
  {
   "cell_type": "code",
   "execution_count": 53,
   "metadata": {},
   "outputs": [],
   "source": [
    "# Model config\n",
    "torch.manual_seed(13)\n",
    "new_model=CNN2(n_filters=5,p=0.3)\n",
    "multi_loss_fn=nn.CrossEntropyLoss(reduction='mean')\n",
    "new_optimizer=optim.Adam(new_model.parameters(),lr=3e-3)\n"
   ]
  },
  {
   "cell_type": "code",
   "execution_count": 54,
   "metadata": {},
   "outputs": [
    {
     "data": {
      "image/png": "[encoded data removed]",
      "text/plain": [
       "<Figure size 600x400 with 1 Axes>"
      ]
     },
     "metadata": {},
     "output_type": "display_data"
    }
   ],
   "source": [
    "sbs_new=StepByStep(new_model,multi_loss_fn,new_optimizer)\n",
    "tracking,fig=sbs_new.lr_range_test(train_loader,end_lr=1e-1,num_iter=100)\n"
   ]
  },
  {
   "cell_type": "code",
   "execution_count": 55,
   "metadata": {},
   "outputs": [],
   "source": [
    "def set_optimizer(self,optimizer):\n",
    "    self.optimizer=optimizer\n",
    "\n",
    "setattr(StepByStep,'set_optimizer',set_optimizer)"
   ]
  },
  {
   "cell_type": "code",
   "execution_count": 56,
   "metadata": {},
   "outputs": [
    {
     "data": {
      "application/vnd.jupyter.widget-view+json": {
       "model_id": "edcdbaebed2942d299595f9d8cd117cd",
       "version_major": 2,
       "version_minor": 0
      },
      "text/plain": [
       "  0%|          | 0/10 [00:00<?, ?it/s]"
      ]
     },
     "metadata": {},
     "output_type": "display_data"
    }
   ],
   "source": [
    "# Updating LR and Model Training\n",
    "new_optimizer=optim.Adam(new_model.parameters(),lr=5e-3)\n",
    "sbs_new.set_optimizer(new_optimizer)\n",
    "sbs_new.set_loaders(train_loader,val_loader)\n",
    "sbs_new.train(10)"
   ]
  },
  {
   "cell_type": "code",
   "execution_count": 57,
   "metadata": {},
   "outputs": [
    {
     "data": {
      "image/png": "[encoded data removed]",
      "text/plain": [
       "<Figure size 1000x400 with 1 Axes>"
      ]
     },
     "execution_count": 57,
     "metadata": {},
     "output_type": "execute_result"
    }
   ],
   "source": [
    "sbs_new.plot_losses()"
   ]
  },
  {
   "cell_type": "code",
   "execution_count": 58,
   "metadata": {},
   "outputs": [
    {
     "name": "stdout",
     "output_type": "stream",
     "text": [
      "New model Validation Accuracy:88.98%\n"
     ]
    }
   ],
   "source": [
    "print(f\"New model Validation Accuracy:{(StepByStep.loader_apply(val_loader,sbs_new.correct).sum(axis=0)[0]/StepByStep.loader_apply(val_loader,sbs_new.correct).sum(axis=0)[1])*100:.2f}%\")"
   ]
  },
  {
   "cell_type": "code",
   "execution_count": 59,
   "metadata": {},
   "outputs": [],
   "source": [
    "# !pip install torch-lr-finder"
   ]
  },
  {
   "cell_type": "code",
   "execution_count": 60,
   "metadata": {},
   "outputs": [
    {
     "name": "stderr",
     "output_type": "stream",
     "text": [
      "/home/anushka/anaconda3/envs/torch/lib/python3.10/site-packages/torch_lr_finder/lr_finder.py:5: TqdmExperimentalWarning: Using `tqdm.autonotebook.tqdm` in notebook mode. Use `tqdm.tqdm` instead to force console mode (e.g. in jupyter console)\n",
      "  from tqdm.autonotebook import tqdm\n"
     ]
    }
   ],
   "source": [
    "from torch_lr_finder import LRFinder"
   ]
  },
  {
   "cell_type": "code",
   "execution_count": 61,
   "metadata": {},
   "outputs": [
    {
     "data": {
      "application/vnd.jupyter.widget-view+json": {
       "model_id": "71262ad0c88f417ea6e6df4e3d78b3bd",
       "version_major": 2,
       "version_minor": 0
      },
      "text/plain": [
       "  0%|          | 0/100 [00:00<?, ?it/s]"
      ]
     },
     "metadata": {},
     "output_type": "display_data"
    },
    {
     "name": "stdout",
     "output_type": "stream",
     "text": [
      "Learning rate search finished. See the graph with {finder_name}.plot()\n",
      "LR suggestion: steepest gradient\n",
      "Suggested LR: 9.02E-03\n"
     ]
    },
    {
     "data": {
      "image/png": "[encoded data removed]",
      "text/plain": [
       "<Figure size 640x480 with 1 Axes>"
      ]
     },
     "metadata": {},
     "output_type": "display_data"
    }
   ],
   "source": [
    "torch.manual_seed(11)\n",
    "new_model=CNN2(n_filters=5,p=0.3)\n",
    "multi_log_fn=nn.CrossEntropyLoss(reduction='mean')\n",
    "new_optimizer=optim.Adam(new_model.parameters(),lr=3e-4)\n",
    "device= 'cuda' if torch.cuda.is_available() else 'cpu'\n",
    "\n",
    "lr_finder=LRFinder(new_model,new_optimizer,multi_loss_fn,device=device)\n",
    "lr_finder.range_test(train_loader,end_lr=0.1,num_iter=100)\n",
    "lr_finder.plot(log_lr=True)\n",
    "lr_finder.reset()"
   ]
  },
  {
   "cell_type": "markdown",
   "metadata": {},
   "source": [
    "## Adaptive Learning Rate"
   ]
  },
  {
   "cell_type": "markdown",
   "metadata": {},
   "source": [
    "Adam doesnt adpt  the learning rate, but adapts the gradients.  \n",
    "Adam Combines characteristics of two other optimization strategies.  \n",
    "1. RMSprop: Adapts learning rate for individual parameters\n",
    "2. Momentum: Speedup the process by remembering the past directions  \n",
    "\n",
    "It scales the gradients using a moving average of squared gradients. \n"
   ]
  },
  {
   "cell_type": "markdown",
   "metadata": {},
   "source": [
    "### Simple Moving average  \n",
    "$$\n",
    "\\text{MA}_t = \\frac{1}{periods} \\sum_{i=t}^{(t-periods+1)} x_i\n",
    "\n",
    "$$"
   ]
  },
  {
   "cell_type": "markdown",
   "metadata": {},
   "source": [
    "### Average age of moving average\n",
    "$$\n",
    "\\text{average age}_{MA}=\\frac{\\sum_{i=1}^{periods} i}{periods}=\\frac{periods+1}{2}\n",
    "$$"
   ]
  },
  {
   "cell_type": "markdown",
   "metadata": {},
   "source": [
    "### EWMA  \n",
    "This has 2 input values.\n",
    "* EWMA in previous step \n",
    "* current value"
   ]
  },
  {
   "cell_type": "markdown",
   "metadata": {},
   "source": [
    "$$\\text{EWMA}_t(\\alpha,x)=\\alpha x_t+(1-\\alpha)EWMA_{t-1}(\\alpha,x) \\\\$$\n",
    "$$\\text{EWMA}_t(\\beta,x)=(1-\\beta) x_t+(\\beta)EWMA_{t-1}(\\beta,x)$$"
   ]
  },
  {
   "cell_type": "markdown",
   "metadata": {},
   "source": [
    "Lets Expand 1st equation  \n",
    "$$\n",
    "\\text{EWMA}_t(\\alpha,x)=\\alpha x_t+(1-\\alpha)(\\alpha x_{t-1}+(1-\\alpha)EWMA_{t-2}(\\alpha,x)) \\\\ \n",
    "\n",
    "\\text{EWMA}_t(\\alpha,x)=\\alpha (x_{t}+(1-\\alpha)^1 (x_{t-1})+(1-\\alpha)^2 (x_{t-2})+(1-\\alpha)^3 (x_{t-3})+...)\n",
    "\n",
    "$$\n"
   ]
  },
  {
   "cell_type": "markdown",
   "metadata": {},
   "source": [
    "First element is taken at face value. Remaining elements are discounted based on corresponding lags  \n",
    "\n",
    "lag : `distance in units of time from current value`"
   ]
  },
  {
   "cell_type": "markdown",
   "metadata": {},
   "source": [
    "### Lag based EWMA  \n",
    "$$\n",
    "\\text{EWMA}_t(\\alpha,x)=\\alpha \\sum_{lag=0}^{T-1} (1-\\alpha)^{lag} x_{t-lag} \\\\\n",
    "$$  \n",
    "\n",
    "T is the number of observed values. EWMA takes every single value into account."
   ]
  },
  {
   "cell_type": "markdown",
   "metadata": {},
   "source": [
    "zero lag is corresponding to 1 unit of time; \n",
    "$$lag=t-1 (\\text{t=1 represent the current moment}) \\\\ $$\n",
    "$$\n",
    "\\text{average age}_{EWMA}(\\alpha,x)=\\alpha \\sum_{lag=0}^{T-1} (1-\\alpha)^{lag} (lag+1) =\\frac{1}{\\alpha}\\\\\n",
    "$$  "
   ]
  },
  {
   "cell_type": "code",
   "execution_count": 70,
   "metadata": {},
   "outputs": [
    {
     "data": {
      "text/plain": [
       "3.0000000000000027"
      ]
     },
     "execution_count": 70,
     "metadata": {},
     "output_type": "execute_result"
    }
   ],
   "source": [
    "alpha=1/3\n",
    "t=np.arange(1,100+1)\n",
    "age=alpha*sum(((1-alpha)**(t-1))*t) # t-1 corresponds to age of data point(t=t) relative to the current time point(t=1)\n",
    "age"
   ]
  },
  {
   "cell_type": "markdown",
   "metadata": {},
   "source": [
    "$$\\text{Average age}=\\frac{periods+1}{2}=\\frac{1}{\\alpha} \\\\\n",
    "periods=\\frac{2}{\\alpha}-1\n",
    "$$\n"
   ]
  },
  {
   "cell_type": "code",
   "execution_count": 36,
   "metadata": {},
   "outputs": [],
   "source": [
    "def EWMA(past_value,current_value,alpha):\n",
    "    return alpha*current_value+(1-alpha)*past_value\n"
   ]
  },
  {
   "cell_type": "code",
   "execution_count": 37,
   "metadata": {},
   "outputs": [],
   "source": [
    "# Compute EWMA over a series of values given a period\n",
    "def calc_ewma(values,period):\n",
    "    alpha=2/(period+1)\n",
    "    result=[]\n",
    "    for v in values:\n",
    "        try:\n",
    "            prev_value=result[-1]\n",
    "        except IndexError:\n",
    "            prev_value=0\n",
    "        \n",
    "        new_value=EWMA(past_value=prev_value,current_value=v,alpha=alpha)\n",
    "        result.append(new_value)\n",
    "    return np.array(result)"
   ]
  },
  {
   "cell_type": "markdown",
   "metadata": {},
   "source": [
    "In its first steps, average will be biased"
   ]
  },
  {
   "cell_type": "markdown",
   "metadata": {},
   "source": [
    "$$\n",
    "\\text{Bias Corrected EWMA}_t(x,\\beta)=\\frac{1}{1-\\beta^t}EWMA_t(x,\\beta)\n",
    "$$"
   ]
  },
  {
   "cell_type": "code",
   "execution_count": 38,
   "metadata": {},
   "outputs": [],
   "source": [
    "def correction(average_value,beta,steps):\n",
    "    return (1/(1-beta**steps))*average_value"
   ]
  },
  {
   "cell_type": "code",
   "execution_count": 39,
   "metadata": {},
   "outputs": [],
   "source": [
    "def calc_corrected_ewma(values,period):\n",
    "    ewma=calc_ewma(values,period)\n",
    "\n",
    "    alpha=2/(period+1)\n",
    "    beta=1-alpha\n",
    "\n",
    "    result=[]\n",
    "    for step,v in enumerate(values):\n",
    "        adj_value=correction(ewma,beta,step+1)\n",
    "        result.append(adj_value)\n",
    "\n",
    "    return np.array(result)"
   ]
  },
  {
   "cell_type": "markdown",
   "metadata": {},
   "source": [
    "$$\n",
    "\\text{Adapted Gradient}=\\frac{\\text{Bias Corrected EWMA}(\\beta_1,gradients)}{\\sqrt{\\text{Bias Corrected EWMA}(\\beta_2,gradients^2)}+e} \\\\\n",
    "\\text{Here are adams default values } \\beta_1, \\beta_2 \\\\\n",
    "\\beta_1=0.9 \\\\\n",
    "\\beta_2=0.999 \\\\\n",
    "e=10^{-8} (\\text{for preventing numerical issues})\n",
    "$$\n",
    "\n",
    "$\\text{So it is a short term average for smoothing gradients}$\n",
    "\n",
    "\n",
    "for each beta1 and beta2, we compute 2 EWMAs.  \n"
   ]
  },
  {
   "cell_type": "markdown",
   "metadata": {},
   "source": [
    "$$\n",
    "SGD: param_t=param_{t-1}-\\eta (gradient_t) \\\\\n",
    "Adam: param_t=param_{t-1}-\\eta (\\text{Adapted gradient}_t )\\\\\n",
    "$$"
   ]
  },
  {
   "cell_type": "markdown",
   "metadata": {},
   "source": [
    "## Adam"
   ]
  },
  {
   "cell_type": "markdown",
   "metadata": {},
   "source": [
    "```python\n",
    "optimizer=optim.Adam(params=model.parameters(),\n",
    "                     lr=0.1,\n",
    "                     betas=(0.9,0.999),\n",
    "                     eps=1e-8)\n",
    "\n",
    "```"
   ]
  },
  {
   "cell_type": "markdown",
   "metadata": {},
   "source": [
    "$$\\text{L2 Regularization adds penalty to the loss function: loss=}\\frac{\\sum_{i}^{n} (y_i-y_ipred)^2+\\lambda [w_1^2+w_2^2+...+w_d^2]}{n}$$"
   ]
  },
  {
   "cell_type": "markdown",
   "metadata": {},
   "source": [
    "### Visualizing adapted Gradients"
   ]
  },
  {
   "cell_type": "code",
   "execution_count": 79,
   "metadata": {},
   "outputs": [],
   "source": [
    "%run -i data_generation/simple_linear_regression.py\n",
    "%run -i data_preparation/v2.py\n"
   ]
  },
  {
   "cell_type": "code",
   "execution_count": 80,
   "metadata": {},
   "outputs": [],
   "source": [
    "# model config\n",
    "torch.manual_seed(42)\n",
    "model=nn.Sequential()\n",
    "model.add_module('linear',nn.Linear(1,1))\n",
    "optimizer=optim.Adam(model.parameters(),lr=0.1)\n",
    "loss_fn=nn.MSELoss(reduction='mean')"
   ]
  },
  {
   "cell_type": "code",
   "execution_count": 81,
   "metadata": {},
   "outputs": [],
   "source": [
    "setattr(StepByStep,'_gradients',{})\n",
    "\n",
    "def capture_gradients(self,layers_to_hook):\n",
    "    if not isinstance(layers_to_hook,list):\n",
    "        layers_to_hook=[layers_to_hook]\n",
    "\n",
    "    modules=list(self.model.named_modules())\n",
    "    self._gradients={}\n",
    "\n",
    "    def make_log_fn(name,parm_id):\n",
    "        def log_fn(grad):\n",
    "            self._gradients[name][parm_id].append(grad.tolist())\n",
    "            return None\n",
    "        return log_fn\n",
    "    \n",
    "    for name,layer in self.model.named_modules():\n",
    "        if name in layers_to_hook:\n",
    "            self._gradients.update({name:{}})\n",
    "            for parm_id,p in layer.named_parameters():\n",
    "                if p.requires_grad:\n",
    "                    self._gradients[name].update({parm_id:[]})\n",
    "                    log_fn=make_log_fn(name,parm_id)\n",
    "                    self.handles[f'{name}.{parm_id}.grad']=p.register_hook(log_fn) # register hook() register a backward hook to a tensor\n",
    "    return\n",
    "\n",
    "setattr(StepByStep,'capture_gradients',capture_gradients)\n"
   ]
  },
  {
   "cell_type": "code",
   "execution_count": 82,
   "metadata": {},
   "outputs": [
    {
     "data": {
      "application/vnd.jupyter.widget-view+json": {
       "model_id": "e1dac6f5b7764bd5ab0a6e20199ac2e0",
       "version_major": 2,
       "version_minor": 0
      },
      "text/plain": [
       "  0%|          | 0/10 [00:00<?, ?it/s]"
      ]
     },
     "metadata": {},
     "output_type": "display_data"
    }
   ],
   "source": [
    "# Model training\n",
    "sbs_adam=StepByStep(model, loss_fn,optimizer)\n",
    "sbs_adam.set_loaders(train_loader,val_loader)\n",
    "sbs_adam.capture_gradients('linear')\n",
    "sbs_adam.train(10)\n",
    "sbs_adam.remove_hooks()\n",
    "\n"
   ]
  },
  {
   "cell_type": "markdown",
   "metadata": {},
   "source": [
    "There are two series of 50 gradients (5 mini batches, 10 epochs)"
   ]
  },
  {
   "cell_type": "code",
   "execution_count": 83,
   "metadata": {},
   "outputs": [],
   "source": [
    "gradients=np.array(sbs_adam._gradients['linear']['weight']).squeeze()\n",
    "corrected_gradients=calc_corrected_ewma(gradients,19)\n",
    "corrected_sq_gradients=calc_corrected_ewma(np.power(gradients,2),1999)\n",
    "\n",
    "adapted_gradients=(corrected_gradients/(np.sqrt(corrected_sq_gradients)+1e-8))"
   ]
  },
  {
   "cell_type": "code",
   "execution_count": 95,
   "metadata": {},
   "outputs": [
    {
     "data": {
      "text/plain": [
       "{'state': {0: {'step': tensor(50.),\n",
       "   'exp_avg': tensor([[-0.0062]]),\n",
       "   'exp_avg_sq': tensor([[0.0033]])},\n",
       "  1: {'step': tensor(50.),\n",
       "   'exp_avg': tensor([0.0405]),\n",
       "   'exp_avg_sq': tensor([0.0097])}},\n",
       " 'param_groups': [{'lr': 0.1,\n",
       "   'betas': (0.9, 0.999),\n",
       "   'eps': 1e-08,\n",
       "   'weight_decay': 0,\n",
       "   'amsgrad': False,\n",
       "   'maximize': False,\n",
       "   'foreach': None,\n",
       "   'capturable': False,\n",
       "   'differentiable': False,\n",
       "   'fused': None,\n",
       "   'params': [0, 1]}]}"
      ]
     },
     "execution_count": 95,
     "metadata": {},
     "output_type": "execute_result"
    }
   ],
   "source": [
    "optimizer.state_dict() # exp_avg: uncorrected EWMA for gradients"
   ]
  },
  {
   "cell_type": "code",
   "execution_count": 96,
   "metadata": {},
   "outputs": [
    {
     "data": {
      "text/plain": [
       "{0: {'step': tensor(50.),\n",
       "  'exp_avg': tensor([[-0.0062]]),\n",
       "  'exp_avg_sq': tensor([[0.0033]])},\n",
       " 1: {'step': tensor(50.),\n",
       "  'exp_avg': tensor([0.0405]),\n",
       "  'exp_avg_sq': tensor([0.0097])}}"
      ]
     },
     "execution_count": 96,
     "metadata": {},
     "output_type": "execute_result"
    }
   ],
   "source": [
    "optimizer.state_dict()['state']"
   ]
  },
  {
   "cell_type": "code",
   "execution_count": 99,
   "metadata": {},
   "outputs": [
    {
     "data": {
      "text/plain": [
       "(-0.006161476466002255, 0.003308466907084168)"
      ]
     },
     "execution_count": 99,
     "metadata": {},
     "output_type": "execute_result"
    }
   ],
   "source": [
    "calc_ewma(gradients,19)[-1],calc_ewma(np.power(gradients,2),1999)[-1]"
   ]
  },
  {
   "cell_type": "markdown",
   "metadata": {},
   "source": [
    "### Capture parameters\""
   ]
  },
  {
   "cell_type": "code",
   "execution_count": 121,
   "metadata": {},
   "outputs": [],
   "source": [
    "setattr(StepByStep,'_parameters',{})\n",
    "\n",
    "def capture_parameters(self,layers_to_hook):\n",
    "    if not isinstance(layers_to_hook,list):\n",
    "        layers_to_hook=[layers_to_hook]\n",
    "\n",
    "    modules=list(self.model.named_modules())\n",
    "    layer_names={layer:name for name,layer in modules}\n",
    "    self._parameters={}\n",
    "\n",
    "    for name, layer in modules:\n",
    "        if name in layers_to_hook:\n",
    "            self._parameters.update({name:{}})\n",
    "            for parm_id, p in layer.named_parameters():\n",
    "                self._parameters[name].update({parm_id: []})\n",
    "\n",
    "    def fw_hook_fn(layer,inputs,outputs):\n",
    "        name=layer_names[layer]\n",
    "        for parm_id, parameter in layer.named_parameters():\n",
    "            self._parameters[name][parm_id].append(parameter.tolist())\n",
    "\n",
    "    self.attach_hooks(layers_to_hook,fw_hook_fn)\n",
    "    return \n",
    "\n",
    "setattr(StepByStep,'capture_parameters',capture_parameters)\n",
    "                    "
   ]
  },
  {
   "cell_type": "markdown",
   "metadata": {},
   "source": [
    "$$\n",
    "\\textbf{SGD Optimizer} \\\\\n",
    "\\text{momentum} = (1-\\text{dampening}) \\cdot \\text{grad}_t + \\beta \\cdot \\text{momentum}_{t-1}\n",
    "$$"
   ]
  },
  {
   "cell_type": "code",
   "execution_count": 124,
   "metadata": {},
   "outputs": [
    {
     "data": {
      "text/plain": [
       "{'state': {},\n",
       " 'param_groups': [{'lr': 0.1,\n",
       "   'momentum': 0,\n",
       "   'dampening': 0,\n",
       "   'weight_decay': 0,\n",
       "   'nesterov': False,\n",
       "   'maximize': False,\n",
       "   'foreach': None,\n",
       "   'differentiable': False,\n",
       "   'params': [0, 1]}]}"
      ]
     },
     "execution_count": 124,
     "metadata": {},
     "output_type": "execute_result"
    }
   ],
   "source": [
    "optimizer=optim.SGD(model.parameters(),lr=0.1)\n",
    "optimizer.state_dict()"
   ]
  },
  {
   "cell_type": "markdown",
   "metadata": {},
   "source": [
    "$$\n",
    "\\text{SGD with Momentum: } \\text{param}_t=\\text{param}_{t-1}-\\eta \\cdot \\text{momentum}_t\n",
    "$$"
   ]
  },
  {
   "cell_type": "code",
   "execution_count": null,
   "metadata": {},
   "outputs": [],
   "source": []
  },
  {
   "cell_type": "code",
   "execution_count": null,
   "metadata": {},
   "outputs": [],
   "source": []
  }
 ],
 "metadata": {
  "kernelspec": {
   "display_name": "torch",
   "language": "python",
   "name": "python3"
  },
  "language_info": {
   "codemirror_mode": {
    "name": "ipython",
    "version": 3
   },
   "file_extension": ".py",
   "mimetype": "text/x-python",
   "name": "python",
   "nbconvert_exporter": "python",
   "pygments_lexer": "ipython3",
   "version": "3.10.13"
  }
 },
 "nbformat": 4,
 "nbformat_minor": 2
}
